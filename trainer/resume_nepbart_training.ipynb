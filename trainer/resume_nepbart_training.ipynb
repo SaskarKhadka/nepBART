{
 "cells": [
  {
   "cell_type": "code",
   "execution_count": 1,
   "id": "a69df194",
   "metadata": {
    "execution": {
     "iopub.execute_input": "2025-05-13T05:03:04.644818Z",
     "iopub.status.busy": "2025-05-13T05:03:04.644605Z",
     "iopub.status.idle": "2025-05-13T05:03:07.164822Z",
     "shell.execute_reply": "2025-05-13T05:03:07.163317Z"
    },
    "papermill": {
     "duration": 2.525378,
     "end_time": "2025-05-13T05:03:07.166372",
     "exception": false,
     "start_time": "2025-05-13T05:03:04.640994",
     "status": "completed"
    },
    "tags": []
   },
   "outputs": [],
   "source": [
    "!pip freeze > '/kaggle/working/requirements.txt'"
   ]
  },
  {
   "cell_type": "code",
   "execution_count": 2,
   "id": "fd50e036",
   "metadata": {
    "execution": {
     "iopub.execute_input": "2025-05-13T05:03:07.172338Z",
     "iopub.status.busy": "2025-05-13T05:03:07.172104Z",
     "iopub.status.idle": "2025-05-13T05:03:18.512276Z",
     "shell.execute_reply": "2025-05-13T05:03:18.511321Z"
    },
    "papermill": {
     "duration": 11.344626,
     "end_time": "2025-05-13T05:03:18.513748",
     "exception": false,
     "start_time": "2025-05-13T05:03:07.169122",
     "status": "completed"
    },
    "tags": []
   },
   "outputs": [
    {
     "name": "stdout",
     "output_type": "stream",
     "text": [
      "\u001b[2K     \u001b[90m━━━━━━━━━━━━━━━━━━━━━━━━━━━━━━━━━━━━━━━━\u001b[0m \u001b[32m43.5/43.5 kB\u001b[0m \u001b[31m1.4 MB/s\u001b[0m eta \u001b[36m0:00:00\u001b[0m\r\n",
      "\u001b[2K   \u001b[90m━━━━━━━━━━━━━━━━━━━━━━━━━━━━━━━━━━━━━━━━\u001b[0m \u001b[32m10.1/10.1 MB\u001b[0m \u001b[31m71.0 MB/s\u001b[0m eta \u001b[36m0:00:00\u001b[0m\r\n",
      "\u001b[?25h"
     ]
    }
   ],
   "source": [
    "!pip install transformers==4.47.0 --quiet"
   ]
  },
  {
   "cell_type": "code",
   "execution_count": 3,
   "id": "8380884c",
   "metadata": {
    "_cell_guid": "b1076dfc-b9ad-4769-8c92-a6c4dae69d19",
    "_uuid": "8f2839f25d086af736a60e9eeb907d3b93b6e0e5",
    "execution": {
     "iopub.execute_input": "2025-05-13T05:03:18.520404Z",
     "iopub.status.busy": "2025-05-13T05:03:18.520166Z",
     "iopub.status.idle": "2025-05-13T05:03:45.481045Z",
     "shell.execute_reply": "2025-05-13T05:03:45.480427Z"
    },
    "papermill": {
     "duration": 26.965741,
     "end_time": "2025-05-13T05:03:45.482392",
     "exception": false,
     "start_time": "2025-05-13T05:03:18.516651",
     "status": "completed"
    },
    "tags": []
   },
   "outputs": [
    {
     "name": "stderr",
     "output_type": "stream",
     "text": [
      "2025-05-13 05:03:31.214386: E external/local_xla/xla/stream_executor/cuda/cuda_fft.cc:477] Unable to register cuFFT factory: Attempting to register factory for plugin cuFFT when one has already been registered\n",
      "WARNING: All log messages before absl::InitializeLog() is called are written to STDERR\n",
      "E0000 00:00:1747112611.413596      19 cuda_dnn.cc:8310] Unable to register cuDNN factory: Attempting to register factory for plugin cuDNN when one has already been registered\n",
      "E0000 00:00:1747112611.470694      19 cuda_blas.cc:1418] Unable to register cuBLAS factory: Attempting to register factory for plugin cuBLAS when one has already been registered\n"
     ]
    }
   ],
   "source": [
    "from transformers import BartTokenizerFast, BartForConditionalGeneration, BartConfig, TrainingArguments, Trainer\n",
    "import torch\n",
    "import transformers\n",
    "from datasets import load_dataset\n",
    "from torch.utils.data import DataLoader"
   ]
  },
  {
   "cell_type": "code",
   "execution_count": 4,
   "id": "515c8094",
   "metadata": {
    "execution": {
     "iopub.execute_input": "2025-05-13T05:03:45.488940Z",
     "iopub.status.busy": "2025-05-13T05:03:45.488446Z",
     "iopub.status.idle": "2025-05-13T05:03:45.600894Z",
     "shell.execute_reply": "2025-05-13T05:03:45.600117Z"
    },
    "papermill": {
     "duration": 0.116867,
     "end_time": "2025-05-13T05:03:45.602140",
     "exception": false,
     "start_time": "2025-05-13T05:03:45.485273",
     "status": "completed"
    },
    "tags": []
   },
   "outputs": [
    {
     "name": "stderr",
     "output_type": "stream",
     "text": [
      "The tokenizer class you load from this checkpoint is not the same type as the class this function is called from. It may result in unexpected tokenization. \n",
      "The tokenizer class you load from this checkpoint is 'PreTrainedTokenizerFast'. \n",
      "The class this function is called from is 'BartTokenizerFast'.\n"
     ]
    }
   ],
   "source": [
    "tokenizer = BartTokenizerFast.from_pretrained(\"/kaggle/input/nepbart-tokenizer/nepbart_tokenizer\")"
   ]
  },
  {
   "cell_type": "code",
   "execution_count": 5,
   "id": "694392b4",
   "metadata": {
    "execution": {
     "iopub.execute_input": "2025-05-13T05:03:45.610411Z",
     "iopub.status.busy": "2025-05-13T05:03:45.609741Z",
     "iopub.status.idle": "2025-05-13T05:03:45.614166Z",
     "shell.execute_reply": "2025-05-13T05:03:45.613605Z"
    },
    "papermill": {
     "duration": 0.00883,
     "end_time": "2025-05-13T05:03:45.615136",
     "exception": false,
     "start_time": "2025-05-13T05:03:45.606306",
     "status": "completed"
    },
    "tags": []
   },
   "outputs": [],
   "source": [
    "parameters = {\n",
    "    'VOCAB_SIZE': 32_768,\n",
    "    'SEQUENCE_LENGTH': 512,\n",
    "    'EMBEDDING_DIMENSION': 512,\n",
    "\n",
    "    'ENCODER_LAYERS': 6,\n",
    "    'ENCODER_ATTENTION_HEADS': 8,\n",
    "    'ENCODER_FFN_DIM': 2048,\n",
    "\n",
    "    'DECODER_LAYERS': 6,\n",
    "    'DECODER_ATTENTION_HEADS': 8,\n",
    "    'DECODER_FFN_DIM': 2048,\n",
    "\n",
    "    'DROPOUT': 0.1,\n",
    "\n",
    "    'TRAIN_BATCH_SIZE': 32,\n",
    "    'EVAL_BATCH_SIZE': 32,\n",
    "    'EPOCHS': 5,\n",
    "    'LEARNING_RATE': 1e-4,\n",
    "    'WARMUP_STEPS': 5_000,\n",
    "    'GRADIENT_ACCUMULATION_STEPS': 4,\n",
    "    'L2_REG': 0.01,\n",
    "    'MAX_STEPS': 116_000 # dataset_size / (BATCH*GRADIENT_ACCUMULATION_STEPS) \n",
    "}"
   ]
  },
  {
   "cell_type": "code",
   "execution_count": 6,
   "id": "b4fa7326",
   "metadata": {
    "execution": {
     "iopub.execute_input": "2025-05-13T05:03:45.621170Z",
     "iopub.status.busy": "2025-05-13T05:03:45.620943Z",
     "iopub.status.idle": "2025-05-13T05:03:45.624011Z",
     "shell.execute_reply": "2025-05-13T05:03:45.623473Z"
    },
    "papermill": {
     "duration": 0.007238,
     "end_time": "2025-05-13T05:03:45.625036",
     "exception": false,
     "start_time": "2025-05-13T05:03:45.617798",
     "status": "completed"
    },
    "tags": []
   },
   "outputs": [],
   "source": [
    "dataset_files = {\n",
    "    \"train\": \"/kaggle/input/nepbart-dataset-tokenized-masked-padded/nepbart_tokenized_masked_padded_train.parquet\",\n",
    "    \"eval\": \"/kaggle/input/nepbart-dataset-tokenized-masked-padded/nepbart_tokenized_masked_padded_test.parquet\"\n",
    "}"
   ]
  },
  {
   "cell_type": "code",
   "execution_count": 7,
   "id": "7281020a",
   "metadata": {
    "execution": {
     "iopub.execute_input": "2025-05-13T05:03:45.631176Z",
     "iopub.status.busy": "2025-05-13T05:03:45.630970Z",
     "iopub.status.idle": "2025-05-13T05:03:45.826000Z",
     "shell.execute_reply": "2025-05-13T05:03:45.825232Z"
    },
    "papermill": {
     "duration": 0.199535,
     "end_time": "2025-05-13T05:03:45.827380",
     "exception": false,
     "start_time": "2025-05-13T05:03:45.627845",
     "status": "completed"
    },
    "tags": []
   },
   "outputs": [],
   "source": [
    "dataset = load_dataset(\"parquet\", data_files=dataset_files, streaming=True)\n",
    "train_dataset = dataset[\"train\"].repeat(None)\n",
    "eval_dataset = dataset[\"eval\"]"
   ]
  },
  {
   "cell_type": "code",
   "execution_count": 8,
   "id": "f44dfd78",
   "metadata": {
    "execution": {
     "iopub.execute_input": "2025-05-13T05:03:45.833985Z",
     "iopub.status.busy": "2025-05-13T05:03:45.833485Z",
     "iopub.status.idle": "2025-05-13T05:03:45.837100Z",
     "shell.execute_reply": "2025-05-13T05:03:45.836604Z"
    },
    "papermill": {
     "duration": 0.007925,
     "end_time": "2025-05-13T05:03:45.838153",
     "exception": false,
     "start_time": "2025-05-13T05:03:45.830228",
     "status": "completed"
    },
    "tags": []
   },
   "outputs": [],
   "source": [
    "def collate_fn(batch: torch.tensor):\n",
    "    return {key: torch.tensor([(d[key]) for d in batch]) for key in batch[0]}"
   ]
  },
  {
   "cell_type": "code",
   "execution_count": 9,
   "id": "cfecf675",
   "metadata": {
    "execution": {
     "iopub.execute_input": "2025-05-13T05:03:45.844414Z",
     "iopub.status.busy": "2025-05-13T05:03:45.844209Z",
     "iopub.status.idle": "2025-05-13T05:03:47.648621Z",
     "shell.execute_reply": "2025-05-13T05:03:47.648024Z"
    },
    "papermill": {
     "duration": 1.809134,
     "end_time": "2025-05-13T05:03:47.649970",
     "exception": false,
     "start_time": "2025-05-13T05:03:45.840836",
     "status": "completed"
    },
    "tags": []
   },
   "outputs": [],
   "source": [
    "model = BartForConditionalGeneration(\n",
    "    BartConfig(\n",
    "        vocab_size=parameters['VOCAB_SIZE'],\n",
    "        max_position_embeddings=parameters['SEQUENCE_LENGTH'],\n",
    "        encoder_layers=parameters['ENCODER_LAYERS'],\n",
    "        encoder_ffn_dim=parameters['ENCODER_FFN_DIM'],\n",
    "        encoder_attention_heads=parameters['ENCODER_ATTENTION_HEADS'],\n",
    "        decoder_layers=parameters['DECODER_LAYERS'],\n",
    "        decoder_ffn_dim=parameters['DECODER_FFN_DIM'],\n",
    "        decoder_attention_heads=parameters['DECODER_ATTENTION_HEADS'],\n",
    "        d_model=parameters['EMBEDDING_DIMENSION'],\n",
    "        dropout=parameters['DROPOUT'],\n",
    "        pad_token_id=tokenizer.pad_token_id,\n",
    "        bos_token_id=tokenizer.bos_token_id,\n",
    "        eos_token_id=tokenizer.eos_token_id,\n",
    "        is_encoder_decoder=True,\n",
    "        decoder_start_token_id=tokenizer.eos_token_id,\n",
    "    )\n",
    ")"
   ]
  },
  {
   "cell_type": "code",
   "execution_count": 10,
   "id": "759a16d5",
   "metadata": {
    "execution": {
     "iopub.execute_input": "2025-05-13T05:03:47.656681Z",
     "iopub.status.busy": "2025-05-13T05:03:47.656446Z",
     "iopub.status.idle": "2025-05-13T05:03:47.768352Z",
     "shell.execute_reply": "2025-05-13T05:03:47.767604Z"
    },
    "papermill": {
     "duration": 0.11667,
     "end_time": "2025-05-13T05:03:47.769686",
     "exception": false,
     "start_time": "2025-05-13T05:03:47.653016",
     "status": "completed"
    },
    "tags": []
   },
   "outputs": [],
   "source": [
    "training_args = TrainingArguments(\n",
    "    output_dir='/kaggle/tmp/',\n",
    "    overwrite_output_dir=True,\n",
    "    # eval_strategy='epoch',\n",
    "    eval_strategy='steps',\n",
    "    eval_steps=10_000,\n",
    "    per_device_train_batch_size=parameters['TRAIN_BATCH_SIZE'],\n",
    "    per_device_eval_batch_size=parameters['EVAL_BATCH_SIZE'],\n",
    "    learning_rate=parameters['LEARNING_RATE'],\n",
    "    # num_train_epochs=parameters['EPOCHS'],\n",
    "    max_steps=parameters['MAX_STEPS'],\n",
    "    warmup_steps=parameters['WARMUP_STEPS'],\n",
    "    weight_decay=parameters['L2_REG'],\n",
    "    logging_dir=\"/kaggle/tmp/\",\n",
    "    logging_strategy=\"steps\",\n",
    "    save_strategy=\"steps\",\n",
    "    save_steps=10_000,\n",
    "    save_total_limit=2,\n",
    "    fp16=True,\n",
    "    num_train_epochs=2,\n",
    "    load_best_model_at_end=True,\n",
    "    metric_for_best_model=\"loss\",\n",
    "    greater_is_better=False,\n",
    "    report_to=\"none\",\n",
    ")\n"
   ]
  },
  {
   "cell_type": "code",
   "execution_count": 11,
   "id": "e5139529",
   "metadata": {
    "execution": {
     "iopub.execute_input": "2025-05-13T05:03:47.776553Z",
     "iopub.status.busy": "2025-05-13T05:03:47.775977Z",
     "iopub.status.idle": "2025-05-13T05:03:48.030173Z",
     "shell.execute_reply": "2025-05-13T05:03:48.029597Z"
    },
    "papermill": {
     "duration": 0.259067,
     "end_time": "2025-05-13T05:03:48.031724",
     "exception": false,
     "start_time": "2025-05-13T05:03:47.772657",
     "status": "completed"
    },
    "tags": []
   },
   "outputs": [],
   "source": [
    "trainer = Trainer(\n",
    "    model=model,\n",
    "    args=training_args,\n",
    "    train_dataset=train_dataset,\n",
    "    eval_dataset=eval_dataset,\n",
    "    data_collator=collate_fn\n",
    ")"
   ]
  },
  {
   "cell_type": "code",
   "execution_count": 12,
   "id": "81593be9",
   "metadata": {
    "execution": {
     "iopub.execute_input": "2025-05-13T05:03:48.038395Z",
     "iopub.status.busy": "2025-05-13T05:03:48.037980Z",
     "iopub.status.idle": "2025-05-13T05:03:48.041370Z",
     "shell.execute_reply": "2025-05-13T05:03:48.040668Z"
    },
    "papermill": {
     "duration": 0.007713,
     "end_time": "2025-05-13T05:03:48.042392",
     "exception": false,
     "start_time": "2025-05-13T05:03:48.034679",
     "status": "completed"
    },
    "tags": []
   },
   "outputs": [],
   "source": [
    "import warnings\n",
    "warnings.simplefilter(action='ignore', category=FutureWarning)"
   ]
  },
  {
   "cell_type": "code",
   "execution_count": 13,
   "id": "5287efca",
   "metadata": {
    "execution": {
     "iopub.execute_input": "2025-05-13T05:03:48.048632Z",
     "iopub.status.busy": "2025-05-13T05:03:48.048387Z",
     "iopub.status.idle": "2025-05-13T12:16:41.504611Z",
     "shell.execute_reply": "2025-05-13T12:16:41.503792Z"
    },
    "papermill": {
     "duration": 25973.461224,
     "end_time": "2025-05-13T12:16:41.506443",
     "exception": false,
     "start_time": "2025-05-13T05:03:48.045219",
     "status": "completed"
    },
    "tags": []
   },
   "outputs": [
    {
     "name": "stderr",
     "output_type": "stream",
     "text": [
      "There were missing keys in the checkpoint model loaded: ['model.encoder.embed_tokens.weight', 'model.decoder.embed_tokens.weight', 'lm_head.weight'].\n"
     ]
    },
    {
     "data": {
      "text/html": [
       "\n",
       "    <div>\n",
       "      \n",
       "      <progress value='116000' max='116000' style='width:300px; height:20px; vertical-align: middle;'></progress>\n",
       "      [116000/116000 6:24:44, Epoch 1/9223372036854775807]\n",
       "    </div>\n",
       "    <table border=\"1\" class=\"dataframe\">\n",
       "  <thead>\n",
       " <tr style=\"text-align: left;\">\n",
       "      <th>Step</th>\n",
       "      <th>Training Loss</th>\n",
       "      <th>Validation Loss</th>\n",
       "    </tr>\n",
       "  </thead>\n",
       "  <tbody>\n",
       "    <tr>\n",
       "      <td>110000</td>\n",
       "      <td>0.320100</td>\n",
       "      <td>0.312700</td>\n",
       "    </tr>\n",
       "  </tbody>\n",
       "</table><p>"
      ],
      "text/plain": [
       "<IPython.core.display.HTML object>"
      ]
     },
     "metadata": {},
     "output_type": "display_data"
    },
    {
     "name": "stderr",
     "output_type": "stream",
     "text": [
      "There were missing keys in the checkpoint model loaded: ['model.encoder.embed_tokens.weight', 'model.decoder.embed_tokens.weight', 'lm_head.weight'].\n"
     ]
    },
    {
     "data": {
      "text/plain": [
       "TrainOutput(global_step=116000, training_loss=0.04168574458155139, metrics={'train_runtime': 25967.25, 'train_samples_per_second': 142.949, 'train_steps_per_second': 4.467, 'total_flos': 5.03346276335616e+17, 'train_loss': 0.04168574458155139, 'epoch': 1.0})"
      ]
     },
     "execution_count": 13,
     "metadata": {},
     "output_type": "execute_result"
    }
   ],
   "source": [
    "trainer.train(resume_from_checkpoint='/kaggle/input/nepbart-checkpoint-101000-steps/checkpoint-101000')"
   ]
  },
  {
   "cell_type": "code",
   "execution_count": 14,
   "id": "af3006e1",
   "metadata": {
    "execution": {
     "iopub.execute_input": "2025-05-13T12:16:41.524082Z",
     "iopub.status.busy": "2025-05-13T12:16:41.523842Z",
     "iopub.status.idle": "2025-05-13T13:17:39.834781Z",
     "shell.execute_reply": "2025-05-13T13:17:39.833950Z"
    },
    "papermill": {
     "duration": 3658.325514,
     "end_time": "2025-05-13T13:17:39.840489",
     "exception": false,
     "start_time": "2025-05-13T12:16:41.514975",
     "status": "completed"
    },
    "tags": []
   },
   "outputs": [
    {
     "name": "stdout",
     "output_type": "stream",
     "text": [
      "{'eval_loss': 0.312700480222702, 'eval_runtime': 3658.3044, 'eval_samples_per_second': 70.599, 'eval_steps_per_second': 2.206, 'epoch': 1.0}\n"
     ]
    }
   ],
   "source": [
    "print(trainer.evaluate(eval_dataset))"
   ]
  },
  {
   "cell_type": "code",
   "execution_count": 15,
   "id": "9feabc0e",
   "metadata": {
    "execution": {
     "iopub.execute_input": "2025-05-13T13:17:39.847667Z",
     "iopub.status.busy": "2025-05-13T13:17:39.847433Z",
     "iopub.status.idle": "2025-05-13T13:17:40.170857Z",
     "shell.execute_reply": "2025-05-13T13:17:40.170302Z"
    },
    "papermill": {
     "duration": 0.328401,
     "end_time": "2025-05-13T13:17:40.172092",
     "exception": false,
     "start_time": "2025-05-13T13:17:39.843691",
     "status": "completed"
    },
    "tags": []
   },
   "outputs": [],
   "source": [
    "trainer.save_model('/kaggle/tmp/final_model')"
   ]
  },
  {
   "cell_type": "code",
   "execution_count": 16,
   "id": "bcc092fa",
   "metadata": {
    "execution": {
     "iopub.execute_input": "2025-05-13T13:17:40.179409Z",
     "iopub.status.busy": "2025-05-13T13:17:40.179198Z",
     "iopub.status.idle": "2025-05-13T13:19:06.391313Z",
     "shell.execute_reply": "2025-05-13T13:19:06.390460Z"
    },
    "papermill": {
     "duration": 86.217816,
     "end_time": "2025-05-13T13:19:06.393243",
     "exception": false,
     "start_time": "2025-05-13T13:17:40.175427",
     "status": "completed"
    },
    "tags": []
   },
   "outputs": [],
   "source": [
    "import tarfile\n",
    "with tarfile.open(\"/kaggle/working/model_checkpoints.tar.gz\", \"w:gz\") as tar:\n",
    "    tar.add(\"/kaggle/tmp\", arcname=\"model_checkpoints\")"
   ]
  }
 ],
 "metadata": {
  "kaggle": {
   "accelerator": "none",
   "dataSources": [
    {
     "datasetId": 7334713,
     "sourceId": 11686155,
     "sourceType": "datasetVersion"
    },
    {
     "datasetId": 7334750,
     "sourceId": 11686223,
     "sourceType": "datasetVersion"
    },
    {
     "datasetId": 7403357,
     "sourceId": 11790703,
     "sourceType": "datasetVersion"
    }
   ],
   "dockerImageVersionId": 31012,
   "isGpuEnabled": false,
   "isInternetEnabled": true,
   "language": "python",
   "sourceType": "notebook"
  },
  "kernelspec": {
   "display_name": "Python 3",
   "language": "python",
   "name": "python3"
  },
  "language_info": {
   "codemirror_mode": {
    "name": "ipython",
    "version": 3
   },
   "file_extension": ".py",
   "mimetype": "text/x-python",
   "name": "python",
   "nbconvert_exporter": "python",
   "pygments_lexer": "ipython3",
   "version": "3.11.11"
  },
  "papermill": {
   "default_parameters": {},
   "duration": 29769.40218,
   "end_time": "2025-05-13T13:19:09.911913",
   "environment_variables": {},
   "exception": null,
   "input_path": "__notebook__.ipynb",
   "output_path": "__notebook__.ipynb",
   "parameters": {},
   "start_time": "2025-05-13T05:03:00.509733",
   "version": "2.6.0"
  }
 },
 "nbformat": 4,
 "nbformat_minor": 5
}
