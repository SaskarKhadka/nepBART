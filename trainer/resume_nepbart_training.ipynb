{
 "cells": [
  {
   "cell_type": "code",
   "execution_count": 1,
   "id": "00ffa7f6",
   "metadata": {
    "_cell_guid": "b1076dfc-b9ad-4769-8c92-a6c4dae69d19",
    "_uuid": "8f2839f25d086af736a60e9eeb907d3b93b6e0e5",
    "execution": {
     "iopub.execute_input": "2025-05-05T21:38:56.350542Z",
     "iopub.status.busy": "2025-05-05T21:38:56.350234Z",
     "iopub.status.idle": "2025-05-05T21:39:21.156692Z",
     "shell.execute_reply": "2025-05-05T21:39:21.155759Z"
    },
    "papermill": {
     "duration": 24.812338,
     "end_time": "2025-05-05T21:39:21.158352",
     "exception": false,
     "start_time": "2025-05-05T21:38:56.346014",
     "status": "completed"
    },
    "tags": []
   },
   "outputs": [],
   "source": [
    "from transformers import BartTokenizerFast, BartForConditionalGeneration, BartConfig, TrainingArguments, Trainer\n",
    "import torch\n",
    "import transformers\n",
    "from datasets import load_dataset\n",
    "from torch.utils.data import DataLoader"
   ]
  },
  {
   "cell_type": "code",
   "execution_count": 2,
   "id": "02fbd7c4",
   "metadata": {
    "execution": {
     "iopub.execute_input": "2025-05-05T21:39:21.165434Z",
     "iopub.status.busy": "2025-05-05T21:39:21.164907Z",
     "iopub.status.idle": "2025-05-05T21:39:21.327736Z",
     "shell.execute_reply": "2025-05-05T21:39:21.326702Z"
    },
    "papermill": {
     "duration": 0.167348,
     "end_time": "2025-05-05T21:39:21.328976",
     "exception": false,
     "start_time": "2025-05-05T21:39:21.161628",
     "status": "completed"
    },
    "tags": []
   },
   "outputs": [
    {
     "name": "stderr",
     "output_type": "stream",
     "text": [
      "The tokenizer class you load from this checkpoint is not the same type as the class this function is called from. It may result in unexpected tokenization. \n",
      "The tokenizer class you load from this checkpoint is 'PreTrainedTokenizerFast'. \n",
      "The class this function is called from is 'BartTokenizerFast'.\n"
     ]
    }
   ],
   "source": [
    "tokenizer = BartTokenizerFast.from_pretrained(\"/kaggle/input/nepbart-tokenizer/nepbart_tokenizer\")"
   ]
  },
  {
   "cell_type": "code",
   "execution_count": 3,
   "id": "3a4e8484",
   "metadata": {
    "execution": {
     "iopub.execute_input": "2025-05-05T21:39:21.335678Z",
     "iopub.status.busy": "2025-05-05T21:39:21.335441Z",
     "iopub.status.idle": "2025-05-05T21:39:21.339211Z",
     "shell.execute_reply": "2025-05-05T21:39:21.338567Z"
    },
    "papermill": {
     "duration": 0.008335,
     "end_time": "2025-05-05T21:39:21.340422",
     "exception": false,
     "start_time": "2025-05-05T21:39:21.332087",
     "status": "completed"
    },
    "tags": []
   },
   "outputs": [],
   "source": [
    "parameters = {\n",
    "    'VOCAB_SIZE': 32_768,\n",
    "    'SEQUENCE_LENGTH': 512,\n",
    "    'EMBEDDING_DIMENSION': 512,\n",
    "\n",
    "    'ENCODER_LAYERS': 6,\n",
    "    'ENCODER_ATTENTION_HEADS': 8,\n",
    "    'ENCODER_FFN_DIM': 2048,\n",
    "\n",
    "    'DECODER_LAYERS': 6,\n",
    "    'DECODER_ATTENTION_HEADS': 8,\n",
    "    'DECODER_FFN_DIM': 2048,\n",
    "\n",
    "    'DROPOUT': 0.1,\n",
    "\n",
    "    'TRAIN_BATCH_SIZE': 32,\n",
    "    'EVAL_BATCH_SIZE': 32,\n",
    "    'EPOCHS': 5,\n",
    "    'LEARNING_RATE': 1e-4,\n",
    "    'WARMUP_STEPS': 5_000,\n",
    "    'GRADIENT_ACCUMULATION_STEPS': 4,\n",
    "    'L2_REG': 0.01,\n",
    "    'MAX_STEPS': 21_000 # dataset_size / (BATCH*GRADIENT_ACCUMULATION_STEPS)\n",
    "}"
   ]
  },
  {
   "cell_type": "code",
   "execution_count": 4,
   "id": "1203d01c",
   "metadata": {
    "execution": {
     "iopub.execute_input": "2025-05-05T21:39:21.346832Z",
     "iopub.status.busy": "2025-05-05T21:39:21.346623Z",
     "iopub.status.idle": "2025-05-05T21:39:21.349504Z",
     "shell.execute_reply": "2025-05-05T21:39:21.348885Z"
    },
    "papermill": {
     "duration": 0.0074,
     "end_time": "2025-05-05T21:39:21.350668",
     "exception": false,
     "start_time": "2025-05-05T21:39:21.343268",
     "status": "completed"
    },
    "tags": []
   },
   "outputs": [],
   "source": [
    "dataset_files = {\n",
    "    \"train\": \"/kaggle/input/nepbart-dataset-tokenized-masked-padded/nepbart_tokenized_masked_padded_train.parquet\",\n",
    "    \"eval\": \"/kaggle/input/nepbart-dataset-tokenized-masked-padded/nepbart_tokenized_masked_padded_test.parquet\"\n",
    "}"
   ]
  },
  {
   "cell_type": "code",
   "execution_count": 5,
   "id": "31d25289",
   "metadata": {
    "execution": {
     "iopub.execute_input": "2025-05-05T21:39:21.357064Z",
     "iopub.status.busy": "2025-05-05T21:39:21.356863Z",
     "iopub.status.idle": "2025-05-05T21:39:21.701854Z",
     "shell.execute_reply": "2025-05-05T21:39:21.701198Z"
    },
    "papermill": {
     "duration": 0.349938,
     "end_time": "2025-05-05T21:39:21.703411",
     "exception": false,
     "start_time": "2025-05-05T21:39:21.353473",
     "status": "completed"
    },
    "tags": []
   },
   "outputs": [],
   "source": [
    "dataset = load_dataset(\"parquet\", data_files=dataset_files, streaming=True)\n",
    "train_dataset = dataset[\"train\"].repeat(None)\n",
    "eval_dataset = dataset[\"eval\"]"
   ]
  },
  {
   "cell_type": "code",
   "execution_count": 6,
   "id": "f16ee57f",
   "metadata": {
    "execution": {
     "iopub.execute_input": "2025-05-05T21:39:21.710161Z",
     "iopub.status.busy": "2025-05-05T21:39:21.709912Z",
     "iopub.status.idle": "2025-05-05T21:39:21.713311Z",
     "shell.execute_reply": "2025-05-05T21:39:21.712744Z"
    },
    "papermill": {
     "duration": 0.008061,
     "end_time": "2025-05-05T21:39:21.714572",
     "exception": false,
     "start_time": "2025-05-05T21:39:21.706511",
     "status": "completed"
    },
    "tags": []
   },
   "outputs": [],
   "source": [
    "def collate_fn(batch: torch.tensor):\n",
    "    return {key: torch.tensor([(d[key]) for d in batch]) for key in batch[0]}"
   ]
  },
  {
   "cell_type": "code",
   "execution_count": 7,
   "id": "27df4bd0",
   "metadata": {
    "execution": {
     "iopub.execute_input": "2025-05-05T21:39:21.720802Z",
     "iopub.status.busy": "2025-05-05T21:39:21.720553Z",
     "iopub.status.idle": "2025-05-05T21:39:23.413631Z",
     "shell.execute_reply": "2025-05-05T21:39:23.412896Z"
    },
    "papermill": {
     "duration": 1.69788,
     "end_time": "2025-05-05T21:39:23.415251",
     "exception": false,
     "start_time": "2025-05-05T21:39:21.717371",
     "status": "completed"
    },
    "tags": []
   },
   "outputs": [],
   "source": [
    "model = BartForConditionalGeneration(\n",
    "    BartConfig(\n",
    "        vocab_size=parameters['VOCAB_SIZE'],\n",
    "        max_position_embeddings=parameters['SEQUENCE_LENGTH'],\n",
    "        encoder_layers=parameters['ENCODER_LAYERS'],\n",
    "        encoder_ffn_dim=parameters['ENCODER_FFN_DIM'],\n",
    "        encoder_attention_heads=parameters['ENCODER_ATTENTION_HEADS'],\n",
    "        decoder_layers=parameters['DECODER_LAYERS'],\n",
    "        decoder_ffn_dim=parameters['DECODER_FFN_DIM'],\n",
    "        decoder_attention_heads=parameters['DECODER_ATTENTION_HEADS'],\n",
    "        d_model=parameters['EMBEDDING_DIMENSION'],\n",
    "        dropout=parameters['DROPOUT'],\n",
    "        pad_token_id=tokenizer.pad_token_id,\n",
    "        bos_token_id=tokenizer.bos_token_id,\n",
    "        eos_token_id=tokenizer.eos_token_id,\n",
    "        is_encoder_decoder=True,\n",
    "        decoder_start_token_id=tokenizer.eos_token_id,\n",
    "    )\n",
    ")"
   ]
  },
  {
   "cell_type": "code",
   "execution_count": 8,
   "id": "ed7758a6",
   "metadata": {
    "execution": {
     "iopub.execute_input": "2025-05-05T21:39:23.422044Z",
     "iopub.status.busy": "2025-05-05T21:39:23.421788Z",
     "iopub.status.idle": "2025-05-05T21:39:23.524072Z",
     "shell.execute_reply": "2025-05-05T21:39:23.523103Z"
    },
    "papermill": {
     "duration": 0.107285,
     "end_time": "2025-05-05T21:39:23.525718",
     "exception": false,
     "start_time": "2025-05-05T21:39:23.418433",
     "status": "completed"
    },
    "tags": []
   },
   "outputs": [],
   "source": [
    "training_args = TrainingArguments(\n",
    "    output_dir='/kaggle/tmp/',\n",
    "    overwrite_output_dir=True,\n",
    "    # eval_strategy='epoch',\n",
    "    eval_strategy='steps',\n",
    "    eval_steps=10_000,\n",
    "    per_device_train_batch_size=parameters['TRAIN_BATCH_SIZE'],\n",
    "    per_device_eval_batch_size=parameters['EVAL_BATCH_SIZE'],\n",
    "    learning_rate=parameters['LEARNING_RATE'],\n",
    "    # num_train_epochs=parameters['EPOCHS'],\n",
    "    max_steps=parameters['MAX_STEPS'],\n",
    "    warmup_steps=parameters['WARMUP_STEPS'],\n",
    "    weight_decay=parameters['L2_REG'],\n",
    "    logging_dir=\"/kaggle/tmp/\",\n",
    "    logging_strategy=\"steps\",\n",
    "    save_strategy=\"steps\",\n",
    "    save_steps=10_000,\n",
    "    save_total_limit=2,\n",
    "    fp16=True,\n",
    "    num_train_epochs=2,\n",
    "    load_best_model_at_end=True,\n",
    "    metric_for_best_model=\"loss\",\n",
    "    greater_is_better=False,\n",
    "    report_to=\"none\",\n",
    ")\n"
   ]
  },
  {
   "cell_type": "code",
   "execution_count": 9,
   "id": "a5d02590",
   "metadata": {
    "execution": {
     "iopub.execute_input": "2025-05-05T21:39:23.532634Z",
     "iopub.status.busy": "2025-05-05T21:39:23.532369Z",
     "iopub.status.idle": "2025-05-05T21:39:23.794863Z",
     "shell.execute_reply": "2025-05-05T21:39:23.793908Z"
    },
    "papermill": {
     "duration": 0.267656,
     "end_time": "2025-05-05T21:39:23.796498",
     "exception": false,
     "start_time": "2025-05-05T21:39:23.528842",
     "status": "completed"
    },
    "tags": []
   },
   "outputs": [],
   "source": [
    "trainer = Trainer(\n",
    "    model=model,\n",
    "    args=training_args,\n",
    "    train_dataset=train_dataset,\n",
    "    eval_dataset=eval_dataset,\n",
    "    data_collator=collate_fn\n",
    ")"
   ]
  },
  {
   "cell_type": "code",
   "execution_count": 10,
   "id": "99d6cb82",
   "metadata": {
    "execution": {
     "iopub.execute_input": "2025-05-05T21:39:23.803286Z",
     "iopub.status.busy": "2025-05-05T21:39:23.803009Z",
     "iopub.status.idle": "2025-05-05T21:39:23.806399Z",
     "shell.execute_reply": "2025-05-05T21:39:23.805606Z"
    },
    "papermill": {
     "duration": 0.008128,
     "end_time": "2025-05-05T21:39:23.807759",
     "exception": false,
     "start_time": "2025-05-05T21:39:23.799631",
     "status": "completed"
    },
    "tags": []
   },
   "outputs": [],
   "source": [
    "import warnings\n",
    "warnings.simplefilter(action='ignore', category=FutureWarning)"
   ]
  },
  {
   "cell_type": "code",
   "execution_count": 11,
   "id": "84975259",
   "metadata": {
    "execution": {
     "iopub.execute_input": "2025-05-05T21:39:23.813904Z",
     "iopub.status.busy": "2025-05-05T21:39:23.813699Z",
     "iopub.status.idle": "2025-05-06T02:02:21.984490Z",
     "shell.execute_reply": "2025-05-06T02:02:21.983718Z"
    },
    "papermill": {
     "duration": 15778.176394,
     "end_time": "2025-05-06T02:02:21.986906",
     "exception": false,
     "start_time": "2025-05-05T21:39:23.810512",
     "status": "completed"
    },
    "tags": []
   },
   "outputs": [
    {
     "name": "stderr",
     "output_type": "stream",
     "text": [
      "There were missing keys in the checkpoint model loaded: ['model.encoder.embed_tokens.weight', 'model.decoder.embed_tokens.weight', 'lm_head.weight'].\n"
     ]
    },
    {
     "data": {
      "text/html": [
       "\n",
       "    <div>\n",
       "      \n",
       "      <progress value='21000' max='21000' style='width:300px; height:20px; vertical-align: middle;'></progress>\n",
       "      [21000/21000 4:15:37, Epoch 1/9223372036854775807]\n",
       "    </div>\n",
       "    <table border=\"1\" class=\"dataframe\">\n",
       "  <thead>\n",
       " <tr style=\"text-align: left;\">\n",
       "      <th>Step</th>\n",
       "      <th>Training Loss</th>\n",
       "      <th>Validation Loss</th>\n",
       "    </tr>\n",
       "  </thead>\n",
       "  <tbody>\n",
       "    <tr>\n",
       "      <td>20000</td>\n",
       "      <td>0.406200</td>\n",
       "      <td>0.391423</td>\n",
       "    </tr>\n",
       "  </tbody>\n",
       "</table><p>"
      ],
      "text/plain": [
       "<IPython.core.display.HTML object>"
      ]
     },
     "metadata": {},
     "output_type": "display_data"
    },
    {
     "name": "stderr",
     "output_type": "stream",
     "text": [
      "There were missing keys in the checkpoint model loaded: ['model.encoder.embed_tokens.weight', 'model.decoder.embed_tokens.weight', 'lm_head.weight'].\n"
     ]
    },
    {
     "data": {
      "text/plain": [
       "TrainOutput(global_step=21000, training_loss=0.18237190755208332, metrics={'train_runtime': 15770.2131, 'train_samples_per_second': 42.612, 'train_steps_per_second': 1.332, 'total_flos': 9.1123032784896e+16, 'train_loss': 0.18237190755208332, 'epoch': 1.0})"
      ]
     },
     "execution_count": 11,
     "metadata": {},
     "output_type": "execute_result"
    }
   ],
   "source": [
    "trainer.train(resume_from_checkpoint='/kaggle/input/nepbart-checkpoint-12000-steps/checkpoint-12000')"
   ]
  },
  {
   "cell_type": "code",
   "execution_count": 12,
   "id": "5434e0c6",
   "metadata": {
    "execution": {
     "iopub.execute_input": "2025-05-06T02:02:21.994557Z",
     "iopub.status.busy": "2025-05-06T02:02:21.994319Z",
     "iopub.status.idle": "2025-05-06T03:03:49.372045Z",
     "shell.execute_reply": "2025-05-06T03:03:49.371089Z"
    },
    "papermill": {
     "duration": 3687.386091,
     "end_time": "2025-05-06T03:03:49.376496",
     "exception": false,
     "start_time": "2025-05-06T02:02:21.990405",
     "status": "completed"
    },
    "tags": []
   },
   "outputs": [
    {
     "name": "stdout",
     "output_type": "stream",
     "text": [
      "{'eval_loss': 0.3914231061935425, 'eval_runtime': 3687.3722, 'eval_samples_per_second': 70.043, 'eval_steps_per_second': 2.189, 'epoch': 1.0}\n"
     ]
    }
   ],
   "source": [
    "print(trainer.evaluate(eval_dataset))"
   ]
  },
  {
   "cell_type": "code",
   "execution_count": 13,
   "id": "1664d5e5",
   "metadata": {
    "execution": {
     "iopub.execute_input": "2025-05-06T03:03:49.384936Z",
     "iopub.status.busy": "2025-05-06T03:03:49.384703Z",
     "iopub.status.idle": "2025-05-06T03:03:49.998168Z",
     "shell.execute_reply": "2025-05-06T03:03:49.997496Z"
    },
    "papermill": {
     "duration": 0.619933,
     "end_time": "2025-05-06T03:03:49.999686",
     "exception": false,
     "start_time": "2025-05-06T03:03:49.379753",
     "status": "completed"
    },
    "tags": []
   },
   "outputs": [],
   "source": [
    "trainer.save_model('/kaggle/tmp/final_model')"
   ]
  },
  {
   "cell_type": "code",
   "execution_count": 14,
   "id": "267735f2",
   "metadata": {
    "execution": {
     "iopub.execute_input": "2025-05-06T03:03:50.007082Z",
     "iopub.status.busy": "2025-05-06T03:03:50.006840Z",
     "iopub.status.idle": "2025-05-06T03:05:16.572911Z",
     "shell.execute_reply": "2025-05-06T03:05:16.571536Z"
    },
    "papermill": {
     "duration": 86.572442,
     "end_time": "2025-05-06T03:05:16.575634",
     "exception": false,
     "start_time": "2025-05-06T03:03:50.003192",
     "status": "completed"
    },
    "tags": []
   },
   "outputs": [],
   "source": [
    "import tarfile\n",
    "with tarfile.open(\"/kaggle/working/model_checkpoints.tar.gz\", \"w:gz\") as tar:\n",
    "    tar.add(\"/kaggle/tmp\", arcname=\"model_checkpoints\")"
   ]
  }
 ],
 "metadata": {
  "kaggle": {
   "accelerator": "none",
   "dataSources": [
    {
     "datasetId": 6980635,
     "sourceId": 11183228,
     "sourceType": "datasetVersion"
    },
    {
     "datasetId": 6980679,
     "sourceId": 11183288,
     "sourceType": "datasetVersion"
    },
    {
     "datasetId": 7338247,
     "sourceId": 11691534,
     "sourceType": "datasetVersion"
    }
   ],
   "dockerImageVersionId": 30919,
   "isGpuEnabled": false,
   "isInternetEnabled": true,
   "language": "python",
   "sourceType": "notebook"
  },
  "kernelspec": {
   "display_name": "Python 3",
   "language": "python",
   "name": "python3"
  },
  "language_info": {
   "codemirror_mode": {
    "name": "ipython",
    "version": 3
   },
   "file_extension": ".py",
   "mimetype": "text/x-python",
   "name": "python",
   "nbconvert_exporter": "python",
   "pygments_lexer": "ipython3",
   "version": "3.10.12"
  },
  "papermill": {
   "default_parameters": {},
   "duration": 19586.18712,
   "end_time": "2025-05-06T03:05:19.847090",
   "environment_variables": {},
   "exception": null,
   "input_path": "__notebook__.ipynb",
   "output_path": "__notebook__.ipynb",
   "parameters": {},
   "start_time": "2025-05-05T21:38:53.659970",
   "version": "2.6.0"
  }
 },
 "nbformat": 4,
 "nbformat_minor": 5
}
