{
 "cells": [
  {
   "cell_type": "code",
   "execution_count": 1,
   "id": "e2893e83",
   "metadata": {
    "execution": {
     "iopub.execute_input": "2025-05-06T07:06:35.152513Z",
     "iopub.status.busy": "2025-05-06T07:06:35.152212Z",
     "iopub.status.idle": "2025-05-06T07:06:47.031889Z",
     "shell.execute_reply": "2025-05-06T07:06:47.030921Z"
    },
    "papermill": {
     "duration": 11.885404,
     "end_time": "2025-05-06T07:06:47.033375",
     "exception": false,
     "start_time": "2025-05-06T07:06:35.147971",
     "status": "completed"
    },
    "tags": []
   },
   "outputs": [
    {
     "name": "stdout",
     "output_type": "stream",
     "text": [
      "\u001b[2K     \u001b[90m━━━━━━━━━━━━━━━━━━━━━━━━━━━━━━━━━━━━━━━━\u001b[0m \u001b[32m43.5/43.5 kB\u001b[0m \u001b[31m2.0 MB/s\u001b[0m eta \u001b[36m0:00:00\u001b[0m\r\n",
      "\u001b[2K   \u001b[90m━━━━━━━━━━━━━━━━━━━━━━━━━━━━━━━━━━━━━━━━\u001b[0m \u001b[32m10.1/10.1 MB\u001b[0m \u001b[31m91.0 MB/s\u001b[0m eta \u001b[36m0:00:00\u001b[0m\r\n",
      "\u001b[?25h"
     ]
    }
   ],
   "source": [
    "!pip install transformers==4.47.0 --quiet"
   ]
  },
  {
   "cell_type": "code",
   "execution_count": 2,
   "id": "6adc7f55",
   "metadata": {
    "_cell_guid": "b1076dfc-b9ad-4769-8c92-a6c4dae69d19",
    "_uuid": "8f2839f25d086af736a60e9eeb907d3b93b6e0e5",
    "execution": {
     "iopub.execute_input": "2025-05-06T07:06:47.040035Z",
     "iopub.status.busy": "2025-05-06T07:06:47.039411Z",
     "iopub.status.idle": "2025-05-06T07:07:13.716676Z",
     "shell.execute_reply": "2025-05-06T07:07:13.716083Z"
    },
    "papermill": {
     "duration": 26.681715,
     "end_time": "2025-05-06T07:07:13.717997",
     "exception": false,
     "start_time": "2025-05-06T07:06:47.036282",
     "status": "completed"
    },
    "tags": []
   },
   "outputs": [
    {
     "name": "stderr",
     "output_type": "stream",
     "text": [
      "2025-05-06 07:06:59.625916: E external/local_xla/xla/stream_executor/cuda/cuda_fft.cc:477] Unable to register cuFFT factory: Attempting to register factory for plugin cuFFT when one has already been registered\n",
      "WARNING: All log messages before absl::InitializeLog() is called are written to STDERR\n",
      "E0000 00:00:1746515219.814303      19 cuda_dnn.cc:8310] Unable to register cuDNN factory: Attempting to register factory for plugin cuDNN when one has already been registered\n",
      "E0000 00:00:1746515219.873661      19 cuda_blas.cc:1418] Unable to register cuBLAS factory: Attempting to register factory for plugin cuBLAS when one has already been registered\n"
     ]
    }
   ],
   "source": [
    "from transformers import BartTokenizerFast, BartForConditionalGeneration, BartConfig, TrainingArguments, Trainer\n",
    "import torch\n",
    "import transformers\n",
    "from datasets import load_dataset\n",
    "from torch.utils.data import DataLoader"
   ]
  },
  {
   "cell_type": "code",
   "execution_count": 3,
   "id": "4ff651c3",
   "metadata": {
    "execution": {
     "iopub.execute_input": "2025-05-06T07:07:13.724150Z",
     "iopub.status.busy": "2025-05-06T07:07:13.723711Z",
     "iopub.status.idle": "2025-05-06T07:07:13.845014Z",
     "shell.execute_reply": "2025-05-06T07:07:13.844372Z"
    },
    "papermill": {
     "duration": 0.125335,
     "end_time": "2025-05-06T07:07:13.846087",
     "exception": false,
     "start_time": "2025-05-06T07:07:13.720752",
     "status": "completed"
    },
    "tags": []
   },
   "outputs": [
    {
     "name": "stderr",
     "output_type": "stream",
     "text": [
      "The tokenizer class you load from this checkpoint is not the same type as the class this function is called from. It may result in unexpected tokenization. \n",
      "The tokenizer class you load from this checkpoint is 'PreTrainedTokenizerFast'. \n",
      "The class this function is called from is 'BartTokenizerFast'.\n"
     ]
    }
   ],
   "source": [
    "tokenizer = BartTokenizerFast.from_pretrained(\"/kaggle/input/nepbart-tokenizer/nepbart_tokenizer\")"
   ]
  },
  {
   "cell_type": "code",
   "execution_count": 4,
   "id": "c872f9a6",
   "metadata": {
    "execution": {
     "iopub.execute_input": "2025-05-06T07:07:13.852063Z",
     "iopub.status.busy": "2025-05-06T07:07:13.851855Z",
     "iopub.status.idle": "2025-05-06T07:07:13.856137Z",
     "shell.execute_reply": "2025-05-06T07:07:13.855445Z"
    },
    "papermill": {
     "duration": 0.0084,
     "end_time": "2025-05-06T07:07:13.857184",
     "exception": false,
     "start_time": "2025-05-06T07:07:13.848784",
     "status": "completed"
    },
    "tags": []
   },
   "outputs": [],
   "source": [
    "parameters = {\n",
    "    'VOCAB_SIZE': 32_768,\n",
    "    'SEQUENCE_LENGTH': 512,\n",
    "    'EMBEDDING_DIMENSION': 512,\n",
    "\n",
    "    'ENCODER_LAYERS': 6,\n",
    "    'ENCODER_ATTENTION_HEADS': 8,\n",
    "    'ENCODER_FFN_DIM': 2048,\n",
    "\n",
    "    'DECODER_LAYERS': 6,\n",
    "    'DECODER_ATTENTION_HEADS': 8,\n",
    "    'DECODER_FFN_DIM': 2048,\n",
    "\n",
    "    'DROPOUT': 0.1,\n",
    "\n",
    "    'TRAIN_BATCH_SIZE': 32,\n",
    "    'EVAL_BATCH_SIZE': 32,\n",
    "    'EPOCHS': 5,\n",
    "    'LEARNING_RATE': 1e-4,\n",
    "    'WARMUP_STEPS': 5_000,\n",
    "    'GRADIENT_ACCUMULATION_STEPS': 4,\n",
    "    'L2_REG': 0.01,\n",
    "    'MAX_STEPS': 37_000 # dataset_size / (BATCH*GRADIENT_ACCUMULATION_STEPS) \n",
    "}"
   ]
  },
  {
   "cell_type": "code",
   "execution_count": 5,
   "id": "479e40a1",
   "metadata": {
    "execution": {
     "iopub.execute_input": "2025-05-06T07:07:13.863955Z",
     "iopub.status.busy": "2025-05-06T07:07:13.863570Z",
     "iopub.status.idle": "2025-05-06T07:07:13.866861Z",
     "shell.execute_reply": "2025-05-06T07:07:13.866284Z"
    },
    "papermill": {
     "duration": 0.008326,
     "end_time": "2025-05-06T07:07:13.867900",
     "exception": false,
     "start_time": "2025-05-06T07:07:13.859574",
     "status": "completed"
    },
    "tags": []
   },
   "outputs": [],
   "source": [
    "dataset_files = {\n",
    "    \"train\": \"/kaggle/input/nepbart-dataset-tokenized-masked-padded/nepbart_tokenized_masked_padded_train.parquet\",\n",
    "    \"eval\": \"/kaggle/input/nepbart-dataset-tokenized-masked-padded/nepbart_tokenized_masked_padded_test.parquet\"\n",
    "}"
   ]
  },
  {
   "cell_type": "code",
   "execution_count": 6,
   "id": "e57c9d7d",
   "metadata": {
    "execution": {
     "iopub.execute_input": "2025-05-06T07:07:13.873290Z",
     "iopub.status.busy": "2025-05-06T07:07:13.873116Z",
     "iopub.status.idle": "2025-05-06T07:07:14.173770Z",
     "shell.execute_reply": "2025-05-06T07:07:14.172961Z"
    },
    "papermill": {
     "duration": 0.304828,
     "end_time": "2025-05-06T07:07:14.175123",
     "exception": false,
     "start_time": "2025-05-06T07:07:13.870295",
     "status": "completed"
    },
    "tags": []
   },
   "outputs": [],
   "source": [
    "dataset = load_dataset(\"parquet\", data_files=dataset_files, streaming=True)\n",
    "train_dataset = dataset[\"train\"].repeat(None)\n",
    "eval_dataset = dataset[\"eval\"]"
   ]
  },
  {
   "cell_type": "code",
   "execution_count": 7,
   "id": "c2cfb3e8",
   "metadata": {
    "execution": {
     "iopub.execute_input": "2025-05-06T07:07:14.181074Z",
     "iopub.status.busy": "2025-05-06T07:07:14.180867Z",
     "iopub.status.idle": "2025-05-06T07:07:14.184363Z",
     "shell.execute_reply": "2025-05-06T07:07:14.183846Z"
    },
    "papermill": {
     "duration": 0.007468,
     "end_time": "2025-05-06T07:07:14.185311",
     "exception": false,
     "start_time": "2025-05-06T07:07:14.177843",
     "status": "completed"
    },
    "tags": []
   },
   "outputs": [],
   "source": [
    "def collate_fn(batch: torch.tensor):\n",
    "    return {key: torch.tensor([(d[key]) for d in batch]) for key in batch[0]}"
   ]
  },
  {
   "cell_type": "code",
   "execution_count": 8,
   "id": "9ecd5fc1",
   "metadata": {
    "execution": {
     "iopub.execute_input": "2025-05-06T07:07:14.190971Z",
     "iopub.status.busy": "2025-05-06T07:07:14.190784Z",
     "iopub.status.idle": "2025-05-06T07:07:15.950095Z",
     "shell.execute_reply": "2025-05-06T07:07:15.949250Z"
    },
    "papermill": {
     "duration": 1.763604,
     "end_time": "2025-05-06T07:07:15.951477",
     "exception": false,
     "start_time": "2025-05-06T07:07:14.187873",
     "status": "completed"
    },
    "tags": []
   },
   "outputs": [],
   "source": [
    "model = BartForConditionalGeneration(\n",
    "    BartConfig(\n",
    "        vocab_size=parameters['VOCAB_SIZE'],\n",
    "        max_position_embeddings=parameters['SEQUENCE_LENGTH'],\n",
    "        encoder_layers=parameters['ENCODER_LAYERS'],\n",
    "        encoder_ffn_dim=parameters['ENCODER_FFN_DIM'],\n",
    "        encoder_attention_heads=parameters['ENCODER_ATTENTION_HEADS'],\n",
    "        decoder_layers=parameters['DECODER_LAYERS'],\n",
    "        decoder_ffn_dim=parameters['DECODER_FFN_DIM'],\n",
    "        decoder_attention_heads=parameters['DECODER_ATTENTION_HEADS'],\n",
    "        d_model=parameters['EMBEDDING_DIMENSION'],\n",
    "        dropout=parameters['DROPOUT'],\n",
    "        pad_token_id=tokenizer.pad_token_id,\n",
    "        bos_token_id=tokenizer.bos_token_id,\n",
    "        eos_token_id=tokenizer.eos_token_id,\n",
    "        is_encoder_decoder=True,\n",
    "        decoder_start_token_id=tokenizer.eos_token_id,\n",
    "    )\n",
    ")"
   ]
  },
  {
   "cell_type": "code",
   "execution_count": 9,
   "id": "b16af6b6",
   "metadata": {
    "execution": {
     "iopub.execute_input": "2025-05-06T07:07:15.958366Z",
     "iopub.status.busy": "2025-05-06T07:07:15.957764Z",
     "iopub.status.idle": "2025-05-06T07:07:16.067412Z",
     "shell.execute_reply": "2025-05-06T07:07:16.066446Z"
    },
    "papermill": {
     "duration": 0.114672,
     "end_time": "2025-05-06T07:07:16.069139",
     "exception": false,
     "start_time": "2025-05-06T07:07:15.954467",
     "status": "completed"
    },
    "tags": []
   },
   "outputs": [],
   "source": [
    "training_args = TrainingArguments(\n",
    "    output_dir='/kaggle/tmp/',\n",
    "    overwrite_output_dir=True,\n",
    "    # eval_strategy='epoch',\n",
    "    eval_strategy='steps',\n",
    "    eval_steps=10_000,\n",
    "    per_device_train_batch_size=parameters['TRAIN_BATCH_SIZE'],\n",
    "    per_device_eval_batch_size=parameters['EVAL_BATCH_SIZE'],\n",
    "    learning_rate=parameters['LEARNING_RATE'],\n",
    "    # num_train_epochs=parameters['EPOCHS'],\n",
    "    max_steps=parameters['MAX_STEPS'],\n",
    "    warmup_steps=parameters['WARMUP_STEPS'],\n",
    "    weight_decay=parameters['L2_REG'],\n",
    "    logging_dir=\"/kaggle/tmp/\",\n",
    "    logging_strategy=\"steps\",\n",
    "    save_strategy=\"steps\",\n",
    "    save_steps=10_000,\n",
    "    save_total_limit=2,\n",
    "    fp16=True,\n",
    "    num_train_epochs=2,\n",
    "    load_best_model_at_end=True,\n",
    "    metric_for_best_model=\"loss\",\n",
    "    greater_is_better=False,\n",
    "    report_to=\"none\",\n",
    ")\n"
   ]
  },
  {
   "cell_type": "code",
   "execution_count": 10,
   "id": "15d04abe",
   "metadata": {
    "execution": {
     "iopub.execute_input": "2025-05-06T07:07:16.075438Z",
     "iopub.status.busy": "2025-05-06T07:07:16.075206Z",
     "iopub.status.idle": "2025-05-06T07:07:16.323732Z",
     "shell.execute_reply": "2025-05-06T07:07:16.323147Z"
    },
    "papermill": {
     "duration": 0.253015,
     "end_time": "2025-05-06T07:07:16.325030",
     "exception": false,
     "start_time": "2025-05-06T07:07:16.072015",
     "status": "completed"
    },
    "tags": []
   },
   "outputs": [],
   "source": [
    "trainer = Trainer(\n",
    "    model=model,\n",
    "    args=training_args,\n",
    "    train_dataset=train_dataset,\n",
    "    eval_dataset=eval_dataset,\n",
    "    data_collator=collate_fn\n",
    ")"
   ]
  },
  {
   "cell_type": "code",
   "execution_count": 11,
   "id": "367a68b5",
   "metadata": {
    "execution": {
     "iopub.execute_input": "2025-05-06T07:07:16.331147Z",
     "iopub.status.busy": "2025-05-06T07:07:16.330935Z",
     "iopub.status.idle": "2025-05-06T07:07:16.334162Z",
     "shell.execute_reply": "2025-05-06T07:07:16.333656Z"
    },
    "papermill": {
     "duration": 0.007236,
     "end_time": "2025-05-06T07:07:16.335051",
     "exception": false,
     "start_time": "2025-05-06T07:07:16.327815",
     "status": "completed"
    },
    "tags": []
   },
   "outputs": [],
   "source": [
    "import warnings\n",
    "warnings.simplefilter(action='ignore', category=FutureWarning)"
   ]
  },
  {
   "cell_type": "code",
   "execution_count": 12,
   "id": "063448f0",
   "metadata": {
    "execution": {
     "iopub.execute_input": "2025-05-06T07:07:16.340734Z",
     "iopub.status.busy": "2025-05-06T07:07:16.340544Z",
     "iopub.status.idle": "2025-05-06T14:02:51.627380Z",
     "shell.execute_reply": "2025-05-06T14:02:51.618904Z"
    },
    "papermill": {
     "duration": 24935.291316,
     "end_time": "2025-05-06T14:02:51.628918",
     "exception": false,
     "start_time": "2025-05-06T07:07:16.337602",
     "status": "completed"
    },
    "tags": []
   },
   "outputs": [
    {
     "name": "stderr",
     "output_type": "stream",
     "text": [
      "There were missing keys in the checkpoint model loaded: ['model.encoder.embed_tokens.weight', 'model.decoder.embed_tokens.weight', 'lm_head.weight'].\n"
     ]
    },
    {
     "data": {
      "text/html": [
       "\n",
       "    <div>\n",
       "      \n",
       "      <progress value='37000' max='37000' style='width:300px; height:20px; vertical-align: middle;'></progress>\n",
       "      [37000/37000 6:45:17, Epoch 1/9223372036854775807]\n",
       "    </div>\n",
       "    <table border=\"1\" class=\"dataframe\">\n",
       "  <thead>\n",
       " <tr style=\"text-align: left;\">\n",
       "      <th>Step</th>\n",
       "      <th>Training Loss</th>\n",
       "      <th>Validation Loss</th>\n",
       "    </tr>\n",
       "  </thead>\n",
       "  <tbody>\n",
       "    <tr>\n",
       "      <td>30000</td>\n",
       "      <td>0.379400</td>\n",
       "      <td>0.363929</td>\n",
       "    </tr>\n",
       "  </tbody>\n",
       "</table><p>"
      ],
      "text/plain": [
       "<IPython.core.display.HTML object>"
      ]
     },
     "metadata": {},
     "output_type": "display_data"
    },
    {
     "name": "stderr",
     "output_type": "stream",
     "text": [
      "There were missing keys in the checkpoint model loaded: ['model.encoder.embed_tokens.weight', 'model.decoder.embed_tokens.weight', 'lm_head.weight'].\n"
     ]
    },
    {
     "data": {
      "text/plain": [
       "TrainOutput(global_step=37000, training_loss=0.16558090952280405, metrics={'train_runtime': 24928.9276, 'train_samples_per_second': 47.495, 'train_steps_per_second': 1.484, 'total_flos': 1.60550105382912e+17, 'train_loss': 0.16558090952280405, 'epoch': 1.0})"
      ]
     },
     "execution_count": 12,
     "metadata": {},
     "output_type": "execute_result"
    }
   ],
   "source": [
    "trainer.train(resume_from_checkpoint='/kaggle/input/nepbart-checkpoint-21000-steps/checkpoint-21000')"
   ]
  },
  {
   "cell_type": "code",
   "execution_count": 13,
   "id": "95af6e5f",
   "metadata": {
    "execution": {
     "iopub.execute_input": "2025-05-06T14:02:51.636390Z",
     "iopub.status.busy": "2025-05-06T14:02:51.636062Z",
     "iopub.status.idle": "2025-05-06T15:03:35.967381Z",
     "shell.execute_reply": "2025-05-06T15:03:35.966580Z"
    },
    "papermill": {
     "duration": 3644.339749,
     "end_time": "2025-05-06T15:03:35.971910",
     "exception": false,
     "start_time": "2025-05-06T14:02:51.632161",
     "status": "completed"
    },
    "tags": []
   },
   "outputs": [
    {
     "name": "stdout",
     "output_type": "stream",
     "text": [
      "{'eval_loss': 0.3639293611049652, 'eval_runtime': 3644.3237, 'eval_samples_per_second': 70.87, 'eval_steps_per_second': 2.215, 'epoch': 1.0}\n"
     ]
    }
   ],
   "source": [
    "print(trainer.evaluate(eval_dataset))"
   ]
  },
  {
   "cell_type": "code",
   "execution_count": 14,
   "id": "0f3904ac",
   "metadata": {
    "execution": {
     "iopub.execute_input": "2025-05-06T15:03:35.978941Z",
     "iopub.status.busy": "2025-05-06T15:03:35.978715Z",
     "iopub.status.idle": "2025-05-06T15:03:36.313244Z",
     "shell.execute_reply": "2025-05-06T15:03:36.312442Z"
    },
    "papermill": {
     "duration": 0.339779,
     "end_time": "2025-05-06T15:03:36.314806",
     "exception": false,
     "start_time": "2025-05-06T15:03:35.975027",
     "status": "completed"
    },
    "tags": []
   },
   "outputs": [],
   "source": [
    "trainer.save_model('/kaggle/tmp/final_model')"
   ]
  },
  {
   "cell_type": "code",
   "execution_count": 15,
   "id": "d79212cc",
   "metadata": {
    "execution": {
     "iopub.execute_input": "2025-05-06T15:03:36.322359Z",
     "iopub.status.busy": "2025-05-06T15:03:36.322136Z",
     "iopub.status.idle": "2025-05-06T15:05:01.998547Z",
     "shell.execute_reply": "2025-05-06T15:05:01.997946Z"
    },
    "papermill": {
     "duration": 85.681493,
     "end_time": "2025-05-06T15:05:02.000014",
     "exception": false,
     "start_time": "2025-05-06T15:03:36.318521",
     "status": "completed"
    },
    "tags": []
   },
   "outputs": [],
   "source": [
    "import tarfile\n",
    "with tarfile.open(\"/kaggle/working/model_checkpoints.tar.gz\", \"w:gz\") as tar:\n",
    "    tar.add(\"/kaggle/tmp\", arcname=\"model_checkpoints\")"
   ]
  }
 ],
 "metadata": {
  "kaggle": {
   "accelerator": "none",
   "dataSources": [
    {
     "datasetId": 7334713,
     "sourceId": 11686155,
     "sourceType": "datasetVersion"
    },
    {
     "datasetId": 7334750,
     "sourceId": 11686223,
     "sourceType": "datasetVersion"
    },
    {
     "datasetId": 7339802,
     "sourceId": 11694076,
     "sourceType": "datasetVersion"
    }
   ],
   "dockerImageVersionId": 31012,
   "isGpuEnabled": false,
   "isInternetEnabled": true,
   "language": "python",
   "sourceType": "notebook"
  },
  "kernelspec": {
   "display_name": "Python 3",
   "language": "python",
   "name": "python3"
  },
  "language_info": {
   "codemirror_mode": {
    "name": "ipython",
    "version": 3
   },
   "file_extension": ".py",
   "mimetype": "text/x-python",
   "name": "python",
   "nbconvert_exporter": "python",
   "pygments_lexer": "ipython3",
   "version": "3.11.11"
  },
  "papermill": {
   "default_parameters": {},
   "duration": 28714.446814,
   "end_time": "2025-05-06T15:05:05.662887",
   "environment_variables": {},
   "exception": null,
   "input_path": "__notebook__.ipynb",
   "output_path": "__notebook__.ipynb",
   "parameters": {},
   "start_time": "2025-05-06T07:06:31.216073",
   "version": "2.6.0"
  }
 },
 "nbformat": 4,
 "nbformat_minor": 5
}
