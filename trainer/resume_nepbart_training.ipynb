{
 "cells": [
  {
   "cell_type": "code",
   "execution_count": 1,
   "id": "e5be33a2",
   "metadata": {
    "execution": {
     "iopub.execute_input": "2025-05-08T15:30:26.605117Z",
     "iopub.status.busy": "2025-05-08T15:30:26.604855Z",
     "iopub.status.idle": "2025-05-08T15:30:29.202083Z",
     "shell.execute_reply": "2025-05-08T15:30:29.201008Z"
    },
    "papermill": {
     "duration": 2.602735,
     "end_time": "2025-05-08T15:30:29.203597",
     "exception": false,
     "start_time": "2025-05-08T15:30:26.600862",
     "status": "completed"
    },
    "tags": []
   },
   "outputs": [],
   "source": [
    "!pip freeze > '/kaggle/working/requirements.txt'"
   ]
  },
  {
   "cell_type": "code",
   "execution_count": 2,
   "id": "5730fc0b",
   "metadata": {
    "execution": {
     "iopub.execute_input": "2025-05-08T15:30:29.210186Z",
     "iopub.status.busy": "2025-05-08T15:30:29.209932Z",
     "iopub.status.idle": "2025-05-08T15:30:40.723886Z",
     "shell.execute_reply": "2025-05-08T15:30:40.722918Z"
    },
    "papermill": {
     "duration": 11.518661,
     "end_time": "2025-05-08T15:30:40.725387",
     "exception": false,
     "start_time": "2025-05-08T15:30:29.206726",
     "status": "completed"
    },
    "tags": []
   },
   "outputs": [
    {
     "name": "stdout",
     "output_type": "stream",
     "text": [
      "\u001b[2K     \u001b[90m━━━━━━━━━━━━━━━━━━━━━━━━━━━━━━━━━━━━━━━━\u001b[0m \u001b[32m43.5/43.5 kB\u001b[0m \u001b[31m1.4 MB/s\u001b[0m eta \u001b[36m0:00:00\u001b[0m\r\n",
      "\u001b[2K   \u001b[90m━━━━━━━━━━━━━━━━━━━━━━━━━━━━━━━━━━━━━━━━\u001b[0m \u001b[32m10.1/10.1 MB\u001b[0m \u001b[31m69.9 MB/s\u001b[0m eta \u001b[36m0:00:00\u001b[0m\r\n",
      "\u001b[?25h"
     ]
    }
   ],
   "source": [
    "!pip install transformers==4.47.0 --quiet"
   ]
  },
  {
   "cell_type": "code",
   "execution_count": 3,
   "id": "b7339939",
   "metadata": {
    "_cell_guid": "b1076dfc-b9ad-4769-8c92-a6c4dae69d19",
    "_uuid": "8f2839f25d086af736a60e9eeb907d3b93b6e0e5",
    "execution": {
     "iopub.execute_input": "2025-05-08T15:30:40.732136Z",
     "iopub.status.busy": "2025-05-08T15:30:40.731879Z",
     "iopub.status.idle": "2025-05-08T15:31:07.650346Z",
     "shell.execute_reply": "2025-05-08T15:31:07.649774Z"
    },
    "papermill": {
     "duration": 26.923364,
     "end_time": "2025-05-08T15:31:07.651702",
     "exception": false,
     "start_time": "2025-05-08T15:30:40.728338",
     "status": "completed"
    },
    "tags": []
   },
   "outputs": [
    {
     "name": "stderr",
     "output_type": "stream",
     "text": [
      "2025-05-08 15:30:53.182052: E external/local_xla/xla/stream_executor/cuda/cuda_fft.cc:477] Unable to register cuFFT factory: Attempting to register factory for plugin cuFFT when one has already been registered\n",
      "WARNING: All log messages before absl::InitializeLog() is called are written to STDERR\n",
      "E0000 00:00:1746718253.383026      19 cuda_dnn.cc:8310] Unable to register cuDNN factory: Attempting to register factory for plugin cuDNN when one has already been registered\n",
      "E0000 00:00:1746718253.443041      19 cuda_blas.cc:1418] Unable to register cuBLAS factory: Attempting to register factory for plugin cuBLAS when one has already been registered\n"
     ]
    }
   ],
   "source": [
    "from transformers import BartTokenizerFast, BartForConditionalGeneration, BartConfig, TrainingArguments, Trainer\n",
    "import torch\n",
    "import transformers\n",
    "from datasets import load_dataset\n",
    "from torch.utils.data import DataLoader"
   ]
  },
  {
   "cell_type": "code",
   "execution_count": 4,
   "id": "f96d6a44",
   "metadata": {
    "execution": {
     "iopub.execute_input": "2025-05-08T15:31:07.658156Z",
     "iopub.status.busy": "2025-05-08T15:31:07.657639Z",
     "iopub.status.idle": "2025-05-08T15:31:07.794564Z",
     "shell.execute_reply": "2025-05-08T15:31:07.793641Z"
    },
    "papermill": {
     "duration": 0.141555,
     "end_time": "2025-05-08T15:31:07.796071",
     "exception": false,
     "start_time": "2025-05-08T15:31:07.654516",
     "status": "completed"
    },
    "tags": []
   },
   "outputs": [
    {
     "name": "stderr",
     "output_type": "stream",
     "text": [
      "The tokenizer class you load from this checkpoint is not the same type as the class this function is called from. It may result in unexpected tokenization. \n",
      "The tokenizer class you load from this checkpoint is 'PreTrainedTokenizerFast'. \n",
      "The class this function is called from is 'BartTokenizerFast'.\n"
     ]
    }
   ],
   "source": [
    "tokenizer = BartTokenizerFast.from_pretrained(\"/kaggle/input/nepbart-tokenizer/nepbart_tokenizer\")"
   ]
  },
  {
   "cell_type": "code",
   "execution_count": 5,
   "id": "5ad110bb",
   "metadata": {
    "execution": {
     "iopub.execute_input": "2025-05-08T15:31:07.807815Z",
     "iopub.status.busy": "2025-05-08T15:31:07.807347Z",
     "iopub.status.idle": "2025-05-08T15:31:07.811687Z",
     "shell.execute_reply": "2025-05-08T15:31:07.810979Z"
    },
    "papermill": {
     "duration": 0.010282,
     "end_time": "2025-05-08T15:31:07.812754",
     "exception": false,
     "start_time": "2025-05-08T15:31:07.802472",
     "status": "completed"
    },
    "tags": []
   },
   "outputs": [],
   "source": [
    "parameters = {\n",
    "    'VOCAB_SIZE': 32_768,\n",
    "    'SEQUENCE_LENGTH': 512,\n",
    "    'EMBEDDING_DIMENSION': 512,\n",
    "\n",
    "    'ENCODER_LAYERS': 6,\n",
    "    'ENCODER_ATTENTION_HEADS': 8,\n",
    "    'ENCODER_FFN_DIM': 2048,\n",
    "\n",
    "    'DECODER_LAYERS': 6,\n",
    "    'DECODER_ATTENTION_HEADS': 8,\n",
    "    'DECODER_FFN_DIM': 2048,\n",
    "\n",
    "    'DROPOUT': 0.1,\n",
    "\n",
    "    'TRAIN_BATCH_SIZE': 32,\n",
    "    'EVAL_BATCH_SIZE': 32,\n",
    "    'EPOCHS': 5,\n",
    "    'LEARNING_RATE': 1e-4,\n",
    "    'WARMUP_STEPS': 5_000,\n",
    "    'GRADIENT_ACCUMULATION_STEPS': 4,\n",
    "    'L2_REG': 0.01,\n",
    "    'MAX_STEPS': 67_000 # dataset_size / (BATCH*GRADIENT_ACCUMULATION_STEPS) \n",
    "}"
   ]
  },
  {
   "cell_type": "code",
   "execution_count": 6,
   "id": "3e47a4aa",
   "metadata": {
    "execution": {
     "iopub.execute_input": "2025-05-08T15:31:07.818648Z",
     "iopub.status.busy": "2025-05-08T15:31:07.818443Z",
     "iopub.status.idle": "2025-05-08T15:31:07.821731Z",
     "shell.execute_reply": "2025-05-08T15:31:07.821022Z"
    },
    "papermill": {
     "duration": 0.007522,
     "end_time": "2025-05-08T15:31:07.822834",
     "exception": false,
     "start_time": "2025-05-08T15:31:07.815312",
     "status": "completed"
    },
    "tags": []
   },
   "outputs": [],
   "source": [
    "dataset_files = {\n",
    "    \"train\": \"/kaggle/input/nepbart-dataset-tokenized-masked-padded/nepbart_tokenized_masked_padded_train.parquet\",\n",
    "    \"eval\": \"/kaggle/input/nepbart-dataset-tokenized-masked-padded/nepbart_tokenized_masked_padded_test.parquet\"\n",
    "}"
   ]
  },
  {
   "cell_type": "code",
   "execution_count": 7,
   "id": "9fbad7e0",
   "metadata": {
    "execution": {
     "iopub.execute_input": "2025-05-08T15:31:07.829191Z",
     "iopub.status.busy": "2025-05-08T15:31:07.828596Z",
     "iopub.status.idle": "2025-05-08T15:31:08.037215Z",
     "shell.execute_reply": "2025-05-08T15:31:08.036592Z"
    },
    "papermill": {
     "duration": 0.212875,
     "end_time": "2025-05-08T15:31:08.038438",
     "exception": false,
     "start_time": "2025-05-08T15:31:07.825563",
     "status": "completed"
    },
    "tags": []
   },
   "outputs": [],
   "source": [
    "dataset = load_dataset(\"parquet\", data_files=dataset_files, streaming=True)\n",
    "train_dataset = dataset[\"train\"].repeat(None)\n",
    "eval_dataset = dataset[\"eval\"]"
   ]
  },
  {
   "cell_type": "code",
   "execution_count": 8,
   "id": "fcfd1afb",
   "metadata": {
    "execution": {
     "iopub.execute_input": "2025-05-08T15:31:08.045313Z",
     "iopub.status.busy": "2025-05-08T15:31:08.044681Z",
     "iopub.status.idle": "2025-05-08T15:31:08.048550Z",
     "shell.execute_reply": "2025-05-08T15:31:08.048026Z"
    },
    "papermill": {
     "duration": 0.008355,
     "end_time": "2025-05-08T15:31:08.049700",
     "exception": false,
     "start_time": "2025-05-08T15:31:08.041345",
     "status": "completed"
    },
    "tags": []
   },
   "outputs": [],
   "source": [
    "def collate_fn(batch: torch.tensor):\n",
    "    return {key: torch.tensor([(d[key]) for d in batch]) for key in batch[0]}"
   ]
  },
  {
   "cell_type": "code",
   "execution_count": 9,
   "id": "fc552441",
   "metadata": {
    "execution": {
     "iopub.execute_input": "2025-05-08T15:31:08.056032Z",
     "iopub.status.busy": "2025-05-08T15:31:08.055825Z",
     "iopub.status.idle": "2025-05-08T15:31:09.889047Z",
     "shell.execute_reply": "2025-05-08T15:31:09.888209Z"
    },
    "papermill": {
     "duration": 1.83796,
     "end_time": "2025-05-08T15:31:09.890430",
     "exception": false,
     "start_time": "2025-05-08T15:31:08.052470",
     "status": "completed"
    },
    "tags": []
   },
   "outputs": [],
   "source": [
    "model = BartForConditionalGeneration(\n",
    "    BartConfig(\n",
    "        vocab_size=parameters['VOCAB_SIZE'],\n",
    "        max_position_embeddings=parameters['SEQUENCE_LENGTH'],\n",
    "        encoder_layers=parameters['ENCODER_LAYERS'],\n",
    "        encoder_ffn_dim=parameters['ENCODER_FFN_DIM'],\n",
    "        encoder_attention_heads=parameters['ENCODER_ATTENTION_HEADS'],\n",
    "        decoder_layers=parameters['DECODER_LAYERS'],\n",
    "        decoder_ffn_dim=parameters['DECODER_FFN_DIM'],\n",
    "        decoder_attention_heads=parameters['DECODER_ATTENTION_HEADS'],\n",
    "        d_model=parameters['EMBEDDING_DIMENSION'],\n",
    "        dropout=parameters['DROPOUT'],\n",
    "        pad_token_id=tokenizer.pad_token_id,\n",
    "        bos_token_id=tokenizer.bos_token_id,\n",
    "        eos_token_id=tokenizer.eos_token_id,\n",
    "        is_encoder_decoder=True,\n",
    "        decoder_start_token_id=tokenizer.eos_token_id,\n",
    "    )\n",
    ")"
   ]
  },
  {
   "cell_type": "code",
   "execution_count": 10,
   "id": "f8fbb882",
   "metadata": {
    "execution": {
     "iopub.execute_input": "2025-05-08T15:31:09.897158Z",
     "iopub.status.busy": "2025-05-08T15:31:09.896927Z",
     "iopub.status.idle": "2025-05-08T15:31:10.004158Z",
     "shell.execute_reply": "2025-05-08T15:31:10.003382Z"
    },
    "papermill": {
     "duration": 0.112116,
     "end_time": "2025-05-08T15:31:10.005657",
     "exception": false,
     "start_time": "2025-05-08T15:31:09.893541",
     "status": "completed"
    },
    "tags": []
   },
   "outputs": [],
   "source": [
    "training_args = TrainingArguments(\n",
    "    output_dir='/kaggle/tmp/',\n",
    "    overwrite_output_dir=True,\n",
    "    # eval_strategy='epoch',\n",
    "    eval_strategy='steps',\n",
    "    eval_steps=10_000,\n",
    "    per_device_train_batch_size=parameters['TRAIN_BATCH_SIZE'],\n",
    "    per_device_eval_batch_size=parameters['EVAL_BATCH_SIZE'],\n",
    "    learning_rate=parameters['LEARNING_RATE'],\n",
    "    # num_train_epochs=parameters['EPOCHS'],\n",
    "    max_steps=parameters['MAX_STEPS'],\n",
    "    warmup_steps=parameters['WARMUP_STEPS'],\n",
    "    weight_decay=parameters['L2_REG'],\n",
    "    logging_dir=\"/kaggle/tmp/\",\n",
    "    logging_strategy=\"steps\",\n",
    "    save_strategy=\"steps\",\n",
    "    save_steps=10_000,\n",
    "    save_total_limit=2,\n",
    "    fp16=True,\n",
    "    num_train_epochs=2,\n",
    "    load_best_model_at_end=True,\n",
    "    metric_for_best_model=\"loss\",\n",
    "    greater_is_better=False,\n",
    "    report_to=\"none\",\n",
    ")\n"
   ]
  },
  {
   "cell_type": "code",
   "execution_count": 11,
   "id": "a683206d",
   "metadata": {
    "execution": {
     "iopub.execute_input": "2025-05-08T15:31:10.012593Z",
     "iopub.status.busy": "2025-05-08T15:31:10.012355Z",
     "iopub.status.idle": "2025-05-08T15:31:10.270249Z",
     "shell.execute_reply": "2025-05-08T15:31:10.269696Z"
    },
    "papermill": {
     "duration": 0.262773,
     "end_time": "2025-05-08T15:31:10.271565",
     "exception": false,
     "start_time": "2025-05-08T15:31:10.008792",
     "status": "completed"
    },
    "tags": []
   },
   "outputs": [],
   "source": [
    "trainer = Trainer(\n",
    "    model=model,\n",
    "    args=training_args,\n",
    "    train_dataset=train_dataset,\n",
    "    eval_dataset=eval_dataset,\n",
    "    data_collator=collate_fn\n",
    ")"
   ]
  },
  {
   "cell_type": "code",
   "execution_count": 12,
   "id": "50c70e3e",
   "metadata": {
    "execution": {
     "iopub.execute_input": "2025-05-08T15:31:10.278238Z",
     "iopub.status.busy": "2025-05-08T15:31:10.278018Z",
     "iopub.status.idle": "2025-05-08T15:31:10.281598Z",
     "shell.execute_reply": "2025-05-08T15:31:10.280883Z"
    },
    "papermill": {
     "duration": 0.008146,
     "end_time": "2025-05-08T15:31:10.282770",
     "exception": false,
     "start_time": "2025-05-08T15:31:10.274624",
     "status": "completed"
    },
    "tags": []
   },
   "outputs": [],
   "source": [
    "import warnings\n",
    "warnings.simplefilter(action='ignore', category=FutureWarning)"
   ]
  },
  {
   "cell_type": "code",
   "execution_count": 13,
   "id": "9c85e34a",
   "metadata": {
    "execution": {
     "iopub.execute_input": "2025-05-08T15:31:10.289377Z",
     "iopub.status.busy": "2025-05-08T15:31:10.288858Z",
     "iopub.status.idle": "2025-05-08T22:19:29.921974Z",
     "shell.execute_reply": "2025-05-08T22:19:29.921293Z"
    },
    "papermill": {
     "duration": 24499.637553,
     "end_time": "2025-05-08T22:19:29.923090",
     "exception": false,
     "start_time": "2025-05-08T15:31:10.285537",
     "status": "completed"
    },
    "tags": []
   },
   "outputs": [
    {
     "name": "stderr",
     "output_type": "stream",
     "text": [
      "There were missing keys in the checkpoint model loaded: ['model.encoder.embed_tokens.weight', 'model.decoder.embed_tokens.weight', 'lm_head.weight'].\n"
     ]
    },
    {
     "data": {
      "text/html": [
       "\n",
       "    <div>\n",
       "      \n",
       "      <progress value='67000' max='67000' style='width:300px; height:20px; vertical-align: middle;'></progress>\n",
       "      [67000/67000 6:22:56, Epoch 1/9223372036854775807]\n",
       "    </div>\n",
       "    <table border=\"1\" class=\"dataframe\">\n",
       "  <thead>\n",
       " <tr style=\"text-align: left;\">\n",
       "      <th>Step</th>\n",
       "      <th>Training Loss</th>\n",
       "      <th>Validation Loss</th>\n",
       "    </tr>\n",
       "  </thead>\n",
       "  <tbody>\n",
       "    <tr>\n",
       "      <td>60000</td>\n",
       "      <td>0.342000</td>\n",
       "      <td>0.331075</td>\n",
       "    </tr>\n",
       "  </tbody>\n",
       "</table><p>"
      ],
      "text/plain": [
       "<IPython.core.display.HTML object>"
      ]
     },
     "metadata": {},
     "output_type": "display_data"
    },
    {
     "name": "stderr",
     "output_type": "stream",
     "text": [
      "There were missing keys in the checkpoint model loaded: ['model.encoder.embed_tokens.weight', 'model.decoder.embed_tokens.weight', 'lm_head.weight'].\n"
     ]
    },
    {
     "data": {
      "text/plain": [
       "TrainOutput(global_step=67000, training_loss=0.07674343074969392, metrics={'train_runtime': 24494.0459, 'train_samples_per_second': 87.531, 'train_steps_per_second': 2.735, 'total_flos': 2.90725866504192e+17, 'train_loss': 0.07674343074969392, 'epoch': 1.0})"
      ]
     },
     "execution_count": 13,
     "metadata": {},
     "output_type": "execute_result"
    }
   ],
   "source": [
    "trainer.train(resume_from_checkpoint='/kaggle/input/nepbart-checkpoint-52000-epoch/checkpoint-52000')"
   ]
  },
  {
   "cell_type": "code",
   "execution_count": 14,
   "id": "c2f601dc",
   "metadata": {
    "execution": {
     "iopub.execute_input": "2025-05-08T22:19:29.930379Z",
     "iopub.status.busy": "2025-05-08T22:19:29.930169Z",
     "iopub.status.idle": "2025-05-08T23:20:12.105324Z",
     "shell.execute_reply": "2025-05-08T23:20:12.104388Z"
    },
    "papermill": {
     "duration": 3642.184759,
     "end_time": "2025-05-08T23:20:12.111186",
     "exception": false,
     "start_time": "2025-05-08T22:19:29.926427",
     "status": "completed"
    },
    "tags": []
   },
   "outputs": [
    {
     "name": "stdout",
     "output_type": "stream",
     "text": [
      "{'eval_loss': 0.33107489347457886, 'eval_runtime': 3642.1686, 'eval_samples_per_second': 70.912, 'eval_steps_per_second': 2.216, 'epoch': 1.0}\n"
     ]
    }
   ],
   "source": [
    "print(trainer.evaluate(eval_dataset))"
   ]
  },
  {
   "cell_type": "code",
   "execution_count": 15,
   "id": "928f61a8",
   "metadata": {
    "execution": {
     "iopub.execute_input": "2025-05-08T23:20:12.120774Z",
     "iopub.status.busy": "2025-05-08T23:20:12.120186Z",
     "iopub.status.idle": "2025-05-08T23:20:12.454624Z",
     "shell.execute_reply": "2025-05-08T23:20:12.454018Z"
    },
    "papermill": {
     "duration": 0.34088,
     "end_time": "2025-05-08T23:20:12.455956",
     "exception": false,
     "start_time": "2025-05-08T23:20:12.115076",
     "status": "completed"
    },
    "tags": []
   },
   "outputs": [],
   "source": [
    "trainer.save_model('/kaggle/tmp/final_model')"
   ]
  },
  {
   "cell_type": "code",
   "execution_count": 16,
   "id": "356b210f",
   "metadata": {
    "execution": {
     "iopub.execute_input": "2025-05-08T23:20:12.463489Z",
     "iopub.status.busy": "2025-05-08T23:20:12.463300Z",
     "iopub.status.idle": "2025-05-08T23:21:41.351080Z",
     "shell.execute_reply": "2025-05-08T23:21:41.350490Z"
    },
    "papermill": {
     "duration": 88.89294,
     "end_time": "2025-05-08T23:21:41.352425",
     "exception": false,
     "start_time": "2025-05-08T23:20:12.459485",
     "status": "completed"
    },
    "tags": []
   },
   "outputs": [],
   "source": [
    "import tarfile\n",
    "with tarfile.open(\"/kaggle/working/model_checkpoints.tar.gz\", \"w:gz\") as tar:\n",
    "    tar.add(\"/kaggle/tmp\", arcname=\"model_checkpoints\")"
   ]
  }
 ],
 "metadata": {
  "kaggle": {
   "accelerator": "none",
   "dataSources": [
    {
     "datasetId": 7334713,
     "sourceId": 11686155,
     "sourceType": "datasetVersion"
    },
    {
     "datasetId": 7334750,
     "sourceId": 11686223,
     "sourceType": "datasetVersion"
    },
    {
     "datasetId": 7366921,
     "sourceId": 11735017,
     "sourceType": "datasetVersion"
    }
   ],
   "dockerImageVersionId": 31012,
   "isGpuEnabled": false,
   "isInternetEnabled": true,
   "language": "python",
   "sourceType": "notebook"
  },
  "kernelspec": {
   "display_name": "Python 3",
   "language": "python",
   "name": "python3"
  },
  "language_info": {
   "codemirror_mode": {
    "name": "ipython",
    "version": 3
   },
   "file_extension": ".py",
   "mimetype": "text/x-python",
   "name": "python",
   "nbconvert_exporter": "python",
   "pygments_lexer": "ipython3",
   "version": "3.11.11"
  },
  "papermill": {
   "default_parameters": {},
   "duration": 28282.458745,
   "end_time": "2025-05-08T23:21:44.915357",
   "environment_variables": {},
   "exception": null,
   "input_path": "__notebook__.ipynb",
   "output_path": "__notebook__.ipynb",
   "parameters": {},
   "start_time": "2025-05-08T15:30:22.456612",
   "version": "2.6.0"
  }
 },
 "nbformat": 4,
 "nbformat_minor": 5
}
