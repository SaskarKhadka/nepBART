{
 "cells": [
  {
   "cell_type": "code",
   "execution_count": 1,
   "id": "c3e0eda0",
   "metadata": {
    "execution": {
     "iopub.execute_input": "2025-05-17T18:51:44.413311Z",
     "iopub.status.busy": "2025-05-17T18:51:44.413036Z",
     "iopub.status.idle": "2025-05-17T18:51:46.987957Z",
     "shell.execute_reply": "2025-05-17T18:51:46.987055Z"
    },
    "papermill": {
     "duration": 2.581424,
     "end_time": "2025-05-17T18:51:46.990129",
     "exception": false,
     "start_time": "2025-05-17T18:51:44.408705",
     "status": "completed"
    },
    "tags": []
   },
   "outputs": [],
   "source": [
    "!pip freeze > '/kaggle/working/requirements.txt'"
   ]
  },
  {
   "cell_type": "code",
   "execution_count": 2,
   "id": "e551fc8f",
   "metadata": {
    "execution": {
     "iopub.execute_input": "2025-05-17T18:51:46.996423Z",
     "iopub.status.busy": "2025-05-17T18:51:46.996147Z",
     "iopub.status.idle": "2025-05-17T18:51:58.610742Z",
     "shell.execute_reply": "2025-05-17T18:51:58.609510Z"
    },
    "papermill": {
     "duration": 11.619333,
     "end_time": "2025-05-17T18:51:58.612316",
     "exception": false,
     "start_time": "2025-05-17T18:51:46.992983",
     "status": "completed"
    },
    "tags": []
   },
   "outputs": [
    {
     "name": "stdout",
     "output_type": "stream",
     "text": [
      "\u001b[2K     \u001b[90m━━━━━━━━━━━━━━━━━━━━━━━━━━━━━━━━━━━━━━━━\u001b[0m \u001b[32m43.5/43.5 kB\u001b[0m \u001b[31m2.0 MB/s\u001b[0m eta \u001b[36m0:00:00\u001b[0m\r\n",
      "\u001b[2K   \u001b[90m━━━━━━━━━━━━━━━━━━━━━━━━━━━━━━━━━━━━━━━━\u001b[0m \u001b[32m10.1/10.1 MB\u001b[0m \u001b[31m80.1 MB/s\u001b[0m eta \u001b[36m0:00:00\u001b[0m\r\n",
      "\u001b[?25h"
     ]
    }
   ],
   "source": [
    "!pip install transformers==4.47.0 --quiet"
   ]
  },
  {
   "cell_type": "code",
   "execution_count": 3,
   "id": "c958d347",
   "metadata": {
    "_cell_guid": "b1076dfc-b9ad-4769-8c92-a6c4dae69d19",
    "_uuid": "8f2839f25d086af736a60e9eeb907d3b93b6e0e5",
    "execution": {
     "iopub.execute_input": "2025-05-17T18:51:58.619134Z",
     "iopub.status.busy": "2025-05-17T18:51:58.618872Z",
     "iopub.status.idle": "2025-05-17T18:52:26.733657Z",
     "shell.execute_reply": "2025-05-17T18:52:26.732771Z"
    },
    "papermill": {
     "duration": 28.11984,
     "end_time": "2025-05-17T18:52:26.735171",
     "exception": false,
     "start_time": "2025-05-17T18:51:58.615331",
     "status": "completed"
    },
    "tags": []
   },
   "outputs": [
    {
     "name": "stderr",
     "output_type": "stream",
     "text": [
      "2025-05-17 18:52:11.686968: E external/local_xla/xla/stream_executor/cuda/cuda_fft.cc:477] Unable to register cuFFT factory: Attempting to register factory for plugin cuFFT when one has already been registered\n",
      "WARNING: All log messages before absl::InitializeLog() is called are written to STDERR\n",
      "E0000 00:00:1747507931.894014      19 cuda_dnn.cc:8310] Unable to register cuDNN factory: Attempting to register factory for plugin cuDNN when one has already been registered\n",
      "E0000 00:00:1747507931.950454      19 cuda_blas.cc:1418] Unable to register cuBLAS factory: Attempting to register factory for plugin cuBLAS when one has already been registered\n"
     ]
    }
   ],
   "source": [
    "from transformers import BartTokenizerFast, BartForConditionalGeneration, BartConfig, TrainingArguments, Trainer\n",
    "import torch\n",
    "import transformers\n",
    "from datasets import load_dataset\n",
    "from torch.utils.data import DataLoader"
   ]
  },
  {
   "cell_type": "code",
   "execution_count": 4,
   "id": "a1baff69",
   "metadata": {
    "execution": {
     "iopub.execute_input": "2025-05-17T18:52:26.742134Z",
     "iopub.status.busy": "2025-05-17T18:52:26.741251Z",
     "iopub.status.idle": "2025-05-17T18:52:26.875216Z",
     "shell.execute_reply": "2025-05-17T18:52:26.874331Z"
    },
    "papermill": {
     "duration": 0.138445,
     "end_time": "2025-05-17T18:52:26.876412",
     "exception": false,
     "start_time": "2025-05-17T18:52:26.737967",
     "status": "completed"
    },
    "tags": []
   },
   "outputs": [
    {
     "name": "stderr",
     "output_type": "stream",
     "text": [
      "The tokenizer class you load from this checkpoint is not the same type as the class this function is called from. It may result in unexpected tokenization. \n",
      "The tokenizer class you load from this checkpoint is 'PreTrainedTokenizerFast'. \n",
      "The class this function is called from is 'BartTokenizerFast'.\n"
     ]
    }
   ],
   "source": [
    "tokenizer = BartTokenizerFast.from_pretrained(\"/kaggle/input/nepbart-tokenizer/nepbart_tokenizer\")"
   ]
  },
  {
   "cell_type": "code",
   "execution_count": 5,
   "id": "eae7ff52",
   "metadata": {
    "execution": {
     "iopub.execute_input": "2025-05-17T18:52:26.884423Z",
     "iopub.status.busy": "2025-05-17T18:52:26.883977Z",
     "iopub.status.idle": "2025-05-17T18:52:26.888175Z",
     "shell.execute_reply": "2025-05-17T18:52:26.887627Z"
    },
    "papermill": {
     "duration": 0.008576,
     "end_time": "2025-05-17T18:52:26.889298",
     "exception": false,
     "start_time": "2025-05-17T18:52:26.880722",
     "status": "completed"
    },
    "tags": []
   },
   "outputs": [],
   "source": [
    "parameters = {\n",
    "    'VOCAB_SIZE': 32_768,\n",
    "    'SEQUENCE_LENGTH': 512,\n",
    "    'EMBEDDING_DIMENSION': 512,\n",
    "\n",
    "    'ENCODER_LAYERS': 6,\n",
    "    'ENCODER_ATTENTION_HEADS': 8,\n",
    "    'ENCODER_FFN_DIM': 2048,\n",
    "\n",
    "    'DECODER_LAYERS': 6,\n",
    "    'DECODER_ATTENTION_HEADS': 8,\n",
    "    'DECODER_FFN_DIM': 2048,\n",
    "\n",
    "    'DROPOUT': 0.1,\n",
    "\n",
    "    'TRAIN_BATCH_SIZE': 32,\n",
    "    'EVAL_BATCH_SIZE': 32,\n",
    "    'EPOCHS': 5,\n",
    "    'LEARNING_RATE': 1e-4,\n",
    "    'WARMUP_STEPS': 5_000,\n",
    "    'GRADIENT_ACCUMULATION_STEPS': 4,\n",
    "    'L2_REG': 0.01,\n",
    "    'MAX_STEPS': 139_000 # dataset_size / (BATCH*GRADIENT_ACCUMULATION_STEPS) \n",
    "}"
   ]
  },
  {
   "cell_type": "code",
   "execution_count": 6,
   "id": "a3f2ef18",
   "metadata": {
    "execution": {
     "iopub.execute_input": "2025-05-17T18:52:26.895517Z",
     "iopub.status.busy": "2025-05-17T18:52:26.895160Z",
     "iopub.status.idle": "2025-05-17T18:52:26.898612Z",
     "shell.execute_reply": "2025-05-17T18:52:26.898007Z"
    },
    "papermill": {
     "duration": 0.007718,
     "end_time": "2025-05-17T18:52:26.899728",
     "exception": false,
     "start_time": "2025-05-17T18:52:26.892010",
     "status": "completed"
    },
    "tags": []
   },
   "outputs": [],
   "source": [
    "dataset_files = {\n",
    "    \"train\": \"/kaggle/input/nepbart-dataset-tokenized-masked-padded/nepbart_tokenized_masked_padded_train.parquet\",\n",
    "    \"eval\": \"/kaggle/input/nepbart-dataset-tokenized-masked-padded/nepbart_tokenized_masked_padded_test.parquet\"\n",
    "}"
   ]
  },
  {
   "cell_type": "code",
   "execution_count": 7,
   "id": "a814fb23",
   "metadata": {
    "execution": {
     "iopub.execute_input": "2025-05-17T18:52:26.905706Z",
     "iopub.status.busy": "2025-05-17T18:52:26.905497Z",
     "iopub.status.idle": "2025-05-17T18:52:27.231498Z",
     "shell.execute_reply": "2025-05-17T18:52:27.230881Z"
    },
    "papermill": {
     "duration": 0.330466,
     "end_time": "2025-05-17T18:52:27.232859",
     "exception": false,
     "start_time": "2025-05-17T18:52:26.902393",
     "status": "completed"
    },
    "tags": []
   },
   "outputs": [],
   "source": [
    "dataset = load_dataset(\"parquet\", data_files=dataset_files, streaming=True)\n",
    "train_dataset = dataset[\"train\"].repeat(None)\n",
    "eval_dataset = dataset[\"eval\"]"
   ]
  },
  {
   "cell_type": "code",
   "execution_count": 8,
   "id": "ee3b7825",
   "metadata": {
    "execution": {
     "iopub.execute_input": "2025-05-17T18:52:27.239470Z",
     "iopub.status.busy": "2025-05-17T18:52:27.239212Z",
     "iopub.status.idle": "2025-05-17T18:52:27.243378Z",
     "shell.execute_reply": "2025-05-17T18:52:27.242820Z"
    },
    "papermill": {
     "duration": 0.008746,
     "end_time": "2025-05-17T18:52:27.244593",
     "exception": false,
     "start_time": "2025-05-17T18:52:27.235847",
     "status": "completed"
    },
    "tags": []
   },
   "outputs": [],
   "source": [
    "def collate_fn(batch: torch.tensor):\n",
    "    return {key: torch.tensor([(d[key]) for d in batch]) for key in batch[0]}"
   ]
  },
  {
   "cell_type": "code",
   "execution_count": 9,
   "id": "e254ebf5",
   "metadata": {
    "execution": {
     "iopub.execute_input": "2025-05-17T18:52:27.251067Z",
     "iopub.status.busy": "2025-05-17T18:52:27.250845Z",
     "iopub.status.idle": "2025-05-17T18:52:29.059264Z",
     "shell.execute_reply": "2025-05-17T18:52:29.058685Z"
    },
    "papermill": {
     "duration": 1.812994,
     "end_time": "2025-05-17T18:52:29.060603",
     "exception": false,
     "start_time": "2025-05-17T18:52:27.247609",
     "status": "completed"
    },
    "tags": []
   },
   "outputs": [],
   "source": [
    "model = BartForConditionalGeneration(\n",
    "    BartConfig(\n",
    "        vocab_size=parameters['VOCAB_SIZE'],\n",
    "        max_position_embeddings=parameters['SEQUENCE_LENGTH'],\n",
    "        encoder_layers=parameters['ENCODER_LAYERS'],\n",
    "        encoder_ffn_dim=parameters['ENCODER_FFN_DIM'],\n",
    "        encoder_attention_heads=parameters['ENCODER_ATTENTION_HEADS'],\n",
    "        decoder_layers=parameters['DECODER_LAYERS'],\n",
    "        decoder_ffn_dim=parameters['DECODER_FFN_DIM'],\n",
    "        decoder_attention_heads=parameters['DECODER_ATTENTION_HEADS'],\n",
    "        d_model=parameters['EMBEDDING_DIMENSION'],\n",
    "        dropout=parameters['DROPOUT'],\n",
    "        pad_token_id=tokenizer.pad_token_id,\n",
    "        bos_token_id=tokenizer.bos_token_id,\n",
    "        eos_token_id=tokenizer.eos_token_id,\n",
    "        is_encoder_decoder=True,\n",
    "        decoder_start_token_id=tokenizer.eos_token_id,\n",
    "    )\n",
    ")"
   ]
  },
  {
   "cell_type": "code",
   "execution_count": 10,
   "id": "a34416f3",
   "metadata": {
    "execution": {
     "iopub.execute_input": "2025-05-17T18:52:29.067438Z",
     "iopub.status.busy": "2025-05-17T18:52:29.067155Z",
     "iopub.status.idle": "2025-05-17T18:52:29.180328Z",
     "shell.execute_reply": "2025-05-17T18:52:29.179733Z"
    },
    "papermill": {
     "duration": 0.118086,
     "end_time": "2025-05-17T18:52:29.181719",
     "exception": false,
     "start_time": "2025-05-17T18:52:29.063633",
     "status": "completed"
    },
    "tags": []
   },
   "outputs": [],
   "source": [
    "training_args = TrainingArguments(\n",
    "    output_dir='/kaggle/tmp/',\n",
    "    overwrite_output_dir=True,\n",
    "    # eval_strategy='epoch',\n",
    "    eval_strategy='steps',\n",
    "    eval_steps=10_000,\n",
    "    per_device_train_batch_size=parameters['TRAIN_BATCH_SIZE'],\n",
    "    per_device_eval_batch_size=parameters['EVAL_BATCH_SIZE'],\n",
    "    learning_rate=parameters['LEARNING_RATE'],\n",
    "    # num_train_epochs=parameters['EPOCHS'],\n",
    "    max_steps=parameters['MAX_STEPS'],\n",
    "    warmup_steps=parameters['WARMUP_STEPS'],\n",
    "    weight_decay=parameters['L2_REG'],\n",
    "    logging_dir=\"/kaggle/tmp/\",\n",
    "    logging_strategy=\"steps\",\n",
    "    save_strategy=\"steps\",\n",
    "    save_steps=10_000,\n",
    "    save_total_limit=2,\n",
    "    fp16=True,\n",
    "    num_train_epochs=2,\n",
    "    load_best_model_at_end=True,\n",
    "    metric_for_best_model=\"loss\",\n",
    "    greater_is_better=False,\n",
    "    report_to=\"none\",\n",
    ")\n"
   ]
  },
  {
   "cell_type": "code",
   "execution_count": 11,
   "id": "657d3d36",
   "metadata": {
    "execution": {
     "iopub.execute_input": "2025-05-17T18:52:29.188372Z",
     "iopub.status.busy": "2025-05-17T18:52:29.188126Z",
     "iopub.status.idle": "2025-05-17T18:52:29.450205Z",
     "shell.execute_reply": "2025-05-17T18:52:29.449379Z"
    },
    "papermill": {
     "duration": 0.266959,
     "end_time": "2025-05-17T18:52:29.451728",
     "exception": false,
     "start_time": "2025-05-17T18:52:29.184769",
     "status": "completed"
    },
    "tags": []
   },
   "outputs": [],
   "source": [
    "trainer = Trainer(\n",
    "    model=model,\n",
    "    args=training_args,\n",
    "    train_dataset=train_dataset,\n",
    "    eval_dataset=eval_dataset,\n",
    "    data_collator=collate_fn\n",
    ")"
   ]
  },
  {
   "cell_type": "code",
   "execution_count": 12,
   "id": "dabf0e70",
   "metadata": {
    "execution": {
     "iopub.execute_input": "2025-05-17T18:52:29.462617Z",
     "iopub.status.busy": "2025-05-17T18:52:29.462291Z",
     "iopub.status.idle": "2025-05-17T18:52:29.466260Z",
     "shell.execute_reply": "2025-05-17T18:52:29.465540Z"
    },
    "papermill": {
     "duration": 0.008649,
     "end_time": "2025-05-17T18:52:29.467323",
     "exception": false,
     "start_time": "2025-05-17T18:52:29.458674",
     "status": "completed"
    },
    "tags": []
   },
   "outputs": [],
   "source": [
    "import warnings\n",
    "warnings.simplefilter(action='ignore', category=FutureWarning)"
   ]
  },
  {
   "cell_type": "code",
   "execution_count": 13,
   "id": "166dc00c",
   "metadata": {
    "execution": {
     "iopub.execute_input": "2025-05-17T18:52:29.473677Z",
     "iopub.status.busy": "2025-05-17T18:52:29.473415Z",
     "iopub.status.idle": "2025-05-18T02:35:08.218490Z",
     "shell.execute_reply": "2025-05-18T02:35:08.217788Z"
    },
    "papermill": {
     "duration": 27758.749567,
     "end_time": "2025-05-18T02:35:08.219784",
     "exception": false,
     "start_time": "2025-05-17T18:52:29.470217",
     "status": "completed"
    },
    "tags": []
   },
   "outputs": [
    {
     "name": "stderr",
     "output_type": "stream",
     "text": [
      "There were missing keys in the checkpoint model loaded: ['model.encoder.embed_tokens.weight', 'model.decoder.embed_tokens.weight', 'lm_head.weight'].\n"
     ]
    },
    {
     "data": {
      "text/html": [
       "\n",
       "    <div>\n",
       "      \n",
       "      <progress value='139000' max='139000' style='width:300px; height:20px; vertical-align: middle;'></progress>\n",
       "      [139000/139000 6:44:19, Epoch 1/9223372036854775807]\n",
       "    </div>\n",
       "    <table border=\"1\" class=\"dataframe\">\n",
       "  <thead>\n",
       " <tr style=\"text-align: left;\">\n",
       "      <th>Step</th>\n",
       "      <th>Training Loss</th>\n",
       "      <th>Validation Loss</th>\n",
       "    </tr>\n",
       "  </thead>\n",
       "  <tbody>\n",
       "    <tr>\n",
       "      <td>130000</td>\n",
       "      <td>0.315200</td>\n",
       "      <td>0.309366</td>\n",
       "    </tr>\n",
       "  </tbody>\n",
       "</table><p>"
      ],
      "text/plain": [
       "<IPython.core.display.HTML object>"
      ]
     },
     "metadata": {},
     "output_type": "display_data"
    },
    {
     "name": "stderr",
     "output_type": "stream",
     "text": [
      "There were missing keys in the checkpoint model loaded: ['model.encoder.embed_tokens.weight', 'model.decoder.embed_tokens.weight', 'lm_head.weight'].\n"
     ]
    },
    {
     "data": {
      "text/plain": [
       "TrainOutput(global_step=139000, training_loss=0.036504355341410465, metrics={'train_runtime': 27751.1445, 'train_samples_per_second': 160.282, 'train_steps_per_second': 5.009, 'total_flos': 6.03147693195264e+17, 'train_loss': 0.036504355341410465, 'epoch': 1.0})"
      ]
     },
     "execution_count": 13,
     "metadata": {},
     "output_type": "execute_result"
    }
   ],
   "source": [
    "trainer.train(resume_from_checkpoint='/kaggle/input/nepbart-checkpoint-123000-steps/checkpoint-123000')"
   ]
  },
  {
   "cell_type": "code",
   "execution_count": 14,
   "id": "4b4c4c5e",
   "metadata": {
    "execution": {
     "iopub.execute_input": "2025-05-18T02:35:08.227041Z",
     "iopub.status.busy": "2025-05-18T02:35:08.226802Z",
     "iopub.status.idle": "2025-05-18T03:35:37.157724Z",
     "shell.execute_reply": "2025-05-18T03:35:37.156916Z"
    },
    "papermill": {
     "duration": 3628.938491,
     "end_time": "2025-05-18T03:35:37.161526",
     "exception": false,
     "start_time": "2025-05-18T02:35:08.223035",
     "status": "completed"
    },
    "tags": []
   },
   "outputs": [
    {
     "name": "stdout",
     "output_type": "stream",
     "text": [
      "{'eval_loss': 0.3093664348125458, 'eval_runtime': 3628.9238, 'eval_samples_per_second': 71.171, 'eval_steps_per_second': 2.224, 'epoch': 1.0}\n"
     ]
    }
   ],
   "source": [
    "print(trainer.evaluate(eval_dataset))"
   ]
  },
  {
   "cell_type": "code",
   "execution_count": 15,
   "id": "02bb763d",
   "metadata": {
    "execution": {
     "iopub.execute_input": "2025-05-18T03:35:37.168573Z",
     "iopub.status.busy": "2025-05-18T03:35:37.168296Z",
     "iopub.status.idle": "2025-05-18T03:35:37.502666Z",
     "shell.execute_reply": "2025-05-18T03:35:37.501852Z"
    },
    "papermill": {
     "duration": 0.339506,
     "end_time": "2025-05-18T03:35:37.504125",
     "exception": false,
     "start_time": "2025-05-18T03:35:37.164619",
     "status": "completed"
    },
    "tags": []
   },
   "outputs": [],
   "source": [
    "trainer.save_model('/kaggle/tmp/final_model')"
   ]
  },
  {
   "cell_type": "code",
   "execution_count": 16,
   "id": "942679c6",
   "metadata": {
    "execution": {
     "iopub.execute_input": "2025-05-18T03:35:37.511349Z",
     "iopub.status.busy": "2025-05-18T03:35:37.511120Z",
     "iopub.status.idle": "2025-05-18T03:37:04.318725Z",
     "shell.execute_reply": "2025-05-18T03:37:04.317904Z"
    },
    "papermill": {
     "duration": 86.812896,
     "end_time": "2025-05-18T03:37:04.320295",
     "exception": false,
     "start_time": "2025-05-18T03:35:37.507399",
     "status": "completed"
    },
    "tags": []
   },
   "outputs": [],
   "source": [
    "import tarfile\n",
    "with tarfile.open(\"/kaggle/working/model_checkpoints.tar.gz\", \"w:gz\") as tar:\n",
    "    tar.add(\"/kaggle/tmp\", arcname=\"model_checkpoints\")"
   ]
  }
 ],
 "metadata": {
  "kaggle": {
   "accelerator": "gpu",
   "dataSources": [
    {
     "datasetId": 7334713,
     "sourceId": 11686155,
     "sourceType": "datasetVersion"
    },
    {
     "datasetId": 7334750,
     "sourceId": 11686223,
     "sourceType": "datasetVersion"
    },
    {
     "datasetId": 7446621,
     "sourceId": 11851036,
     "sourceType": "datasetVersion"
    }
   ],
   "dockerImageVersionId": 31012,
   "isGpuEnabled": true,
   "isInternetEnabled": true,
   "language": "python",
   "sourceType": "notebook"
  },
  "kernelspec": {
   "display_name": "Python 3",
   "language": "python",
   "name": "python3"
  },
  "language_info": {
   "codemirror_mode": {
    "name": "ipython",
    "version": 3
   },
   "file_extension": ".py",
   "mimetype": "text/x-python",
   "name": "python",
   "nbconvert_exporter": "python",
   "pygments_lexer": "ipython3",
   "version": "3.11.11"
  },
  "papermill": {
   "default_parameters": {},
   "duration": 31527.633004,
   "end_time": "2025-05-18T03:37:07.654747",
   "environment_variables": {},
   "exception": null,
   "input_path": "__notebook__.ipynb",
   "output_path": "__notebook__.ipynb",
   "parameters": {},
   "start_time": "2025-05-17T18:51:40.021743",
   "version": "2.6.0"
  }
 },
 "nbformat": 4,
 "nbformat_minor": 5
}
