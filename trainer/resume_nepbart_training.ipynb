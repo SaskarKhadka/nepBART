{
 "cells": [
  {
   "cell_type": "code",
   "execution_count": 1,
   "id": "de4abe8d",
   "metadata": {
    "execution": {
     "iopub.execute_input": "2025-05-07T05:27:10.166368Z",
     "iopub.status.busy": "2025-05-07T05:27:10.165772Z",
     "iopub.status.idle": "2025-05-07T05:27:12.721787Z",
     "shell.execute_reply": "2025-05-07T05:27:12.720978Z"
    },
    "papermill": {
     "duration": 2.561092,
     "end_time": "2025-05-07T05:27:12.723220",
     "exception": false,
     "start_time": "2025-05-07T05:27:10.162128",
     "status": "completed"
    },
    "tags": []
   },
   "outputs": [],
   "source": [
    "!pip freeze > '/kaggle/working/requirements.txt'"
   ]
  },
  {
   "cell_type": "code",
   "execution_count": 2,
   "id": "41ffad31",
   "metadata": {
    "execution": {
     "iopub.execute_input": "2025-05-07T05:27:12.729126Z",
     "iopub.status.busy": "2025-05-07T05:27:12.728893Z",
     "iopub.status.idle": "2025-05-07T05:27:23.884538Z",
     "shell.execute_reply": "2025-05-07T05:27:23.883588Z"
    },
    "papermill": {
     "duration": 11.160143,
     "end_time": "2025-05-07T05:27:23.886075",
     "exception": false,
     "start_time": "2025-05-07T05:27:12.725932",
     "status": "completed"
    },
    "tags": []
   },
   "outputs": [
    {
     "name": "stdout",
     "output_type": "stream",
     "text": [
      "\u001b[2K     \u001b[90m━━━━━━━━━━━━━━━━━━━━━━━━━━━━━━━━━━━━━━━━\u001b[0m \u001b[32m43.5/43.5 kB\u001b[0m \u001b[31m1.5 MB/s\u001b[0m eta \u001b[36m0:00:00\u001b[0m\r\n",
      "\u001b[2K   \u001b[90m━━━━━━━━━━━━━━━━━━━━━━━━━━━━━━━━━━━━━━━━\u001b[0m \u001b[32m10.1/10.1 MB\u001b[0m \u001b[31m72.7 MB/s\u001b[0m eta \u001b[36m0:00:00\u001b[0m\r\n",
      "\u001b[?25h"
     ]
    }
   ],
   "source": [
    "!pip install transformers==4.47.0 --quiet"
   ]
  },
  {
   "cell_type": "code",
   "execution_count": 3,
   "id": "18538102",
   "metadata": {
    "_cell_guid": "b1076dfc-b9ad-4769-8c92-a6c4dae69d19",
    "_uuid": "8f2839f25d086af736a60e9eeb907d3b93b6e0e5",
    "execution": {
     "iopub.execute_input": "2025-05-07T05:27:23.892548Z",
     "iopub.status.busy": "2025-05-07T05:27:23.892330Z",
     "iopub.status.idle": "2025-05-07T05:27:50.541871Z",
     "shell.execute_reply": "2025-05-07T05:27:50.541070Z"
    },
    "papermill": {
     "duration": 26.654512,
     "end_time": "2025-05-07T05:27:50.543400",
     "exception": false,
     "start_time": "2025-05-07T05:27:23.888888",
     "status": "completed"
    },
    "tags": []
   },
   "outputs": [
    {
     "name": "stderr",
     "output_type": "stream",
     "text": [
      "2025-05-07 05:27:36.382916: E external/local_xla/xla/stream_executor/cuda/cuda_fft.cc:477] Unable to register cuFFT factory: Attempting to register factory for plugin cuFFT when one has already been registered\n",
      "WARNING: All log messages before absl::InitializeLog() is called are written to STDERR\n",
      "E0000 00:00:1746595656.581695      19 cuda_dnn.cc:8310] Unable to register cuDNN factory: Attempting to register factory for plugin cuDNN when one has already been registered\n",
      "E0000 00:00:1746595656.636782      19 cuda_blas.cc:1418] Unable to register cuBLAS factory: Attempting to register factory for plugin cuBLAS when one has already been registered\n"
     ]
    }
   ],
   "source": [
    "from transformers import BartTokenizerFast, BartForConditionalGeneration, BartConfig, TrainingArguments, Trainer\n",
    "import torch\n",
    "import transformers\n",
    "from datasets import load_dataset\n",
    "from torch.utils.data import DataLoader"
   ]
  },
  {
   "cell_type": "code",
   "execution_count": 4,
   "id": "699a431e",
   "metadata": {
    "execution": {
     "iopub.execute_input": "2025-05-07T05:27:50.550150Z",
     "iopub.status.busy": "2025-05-07T05:27:50.549442Z",
     "iopub.status.idle": "2025-05-07T05:27:50.682921Z",
     "shell.execute_reply": "2025-05-07T05:27:50.682224Z"
    },
    "papermill": {
     "duration": 0.137858,
     "end_time": "2025-05-07T05:27:50.684112",
     "exception": false,
     "start_time": "2025-05-07T05:27:50.546254",
     "status": "completed"
    },
    "tags": []
   },
   "outputs": [
    {
     "name": "stderr",
     "output_type": "stream",
     "text": [
      "The tokenizer class you load from this checkpoint is not the same type as the class this function is called from. It may result in unexpected tokenization. \n",
      "The tokenizer class you load from this checkpoint is 'PreTrainedTokenizerFast'. \n",
      "The class this function is called from is 'BartTokenizerFast'.\n"
     ]
    }
   ],
   "source": [
    "tokenizer = BartTokenizerFast.from_pretrained(\"/kaggle/input/nepbart-tokenizer/nepbart_tokenizer\")"
   ]
  },
  {
   "cell_type": "code",
   "execution_count": 5,
   "id": "6f326d5e",
   "metadata": {
    "execution": {
     "iopub.execute_input": "2025-05-07T05:27:50.691636Z",
     "iopub.status.busy": "2025-05-07T05:27:50.691423Z",
     "iopub.status.idle": "2025-05-07T05:27:50.695367Z",
     "shell.execute_reply": "2025-05-07T05:27:50.694855Z"
    },
    "papermill": {
     "duration": 0.008239,
     "end_time": "2025-05-07T05:27:50.696405",
     "exception": false,
     "start_time": "2025-05-07T05:27:50.688166",
     "status": "completed"
    },
    "tags": []
   },
   "outputs": [],
   "source": [
    "parameters = {\n",
    "    'VOCAB_SIZE': 32_768,\n",
    "    'SEQUENCE_LENGTH': 512,\n",
    "    'EMBEDDING_DIMENSION': 512,\n",
    "\n",
    "    'ENCODER_LAYERS': 6,\n",
    "    'ENCODER_ATTENTION_HEADS': 8,\n",
    "    'ENCODER_FFN_DIM': 2048,\n",
    "\n",
    "    'DECODER_LAYERS': 6,\n",
    "    'DECODER_ATTENTION_HEADS': 8,\n",
    "    'DECODER_FFN_DIM': 2048,\n",
    "\n",
    "    'DROPOUT': 0.1,\n",
    "\n",
    "    'TRAIN_BATCH_SIZE': 32,\n",
    "    'EVAL_BATCH_SIZE': 32,\n",
    "    'EPOCHS': 5,\n",
    "    'LEARNING_RATE': 1e-4,\n",
    "    'WARMUP_STEPS': 5_000,\n",
    "    'GRADIENT_ACCUMULATION_STEPS': 4,\n",
    "    'L2_REG': 0.01,\n",
    "    'MAX_STEPS': 52_000 # dataset_size / (BATCH*GRADIENT_ACCUMULATION_STEPS) \n",
    "}"
   ]
  },
  {
   "cell_type": "code",
   "execution_count": 6,
   "id": "f601091f",
   "metadata": {
    "execution": {
     "iopub.execute_input": "2025-05-07T05:27:50.702409Z",
     "iopub.status.busy": "2025-05-07T05:27:50.701999Z",
     "iopub.status.idle": "2025-05-07T05:27:50.705259Z",
     "shell.execute_reply": "2025-05-07T05:27:50.704592Z"
    },
    "papermill": {
     "duration": 0.007333,
     "end_time": "2025-05-07T05:27:50.706351",
     "exception": false,
     "start_time": "2025-05-07T05:27:50.699018",
     "status": "completed"
    },
    "tags": []
   },
   "outputs": [],
   "source": [
    "dataset_files = {\n",
    "    \"train\": \"/kaggle/input/nepbart-dataset-tokenized-masked-padded/nepbart_tokenized_masked_padded_train.parquet\",\n",
    "    \"eval\": \"/kaggle/input/nepbart-dataset-tokenized-masked-padded/nepbart_tokenized_masked_padded_test.parquet\"\n",
    "}"
   ]
  },
  {
   "cell_type": "code",
   "execution_count": 7,
   "id": "9b153772",
   "metadata": {
    "execution": {
     "iopub.execute_input": "2025-05-07T05:27:50.712631Z",
     "iopub.status.busy": "2025-05-07T05:27:50.712043Z",
     "iopub.status.idle": "2025-05-07T05:27:51.392715Z",
     "shell.execute_reply": "2025-05-07T05:27:51.392159Z"
    },
    "papermill": {
     "duration": 0.685028,
     "end_time": "2025-05-07T05:27:51.394031",
     "exception": false,
     "start_time": "2025-05-07T05:27:50.709003",
     "status": "completed"
    },
    "tags": []
   },
   "outputs": [],
   "source": [
    "dataset = load_dataset(\"parquet\", data_files=dataset_files, streaming=True)\n",
    "train_dataset = dataset[\"train\"].repeat(None)\n",
    "eval_dataset = dataset[\"eval\"]"
   ]
  },
  {
   "cell_type": "code",
   "execution_count": 8,
   "id": "4ea9ac15",
   "metadata": {
    "execution": {
     "iopub.execute_input": "2025-05-07T05:27:51.400273Z",
     "iopub.status.busy": "2025-05-07T05:27:51.400064Z",
     "iopub.status.idle": "2025-05-07T05:27:51.403602Z",
     "shell.execute_reply": "2025-05-07T05:27:51.403123Z"
    },
    "papermill": {
     "duration": 0.00776,
     "end_time": "2025-05-07T05:27:51.404645",
     "exception": false,
     "start_time": "2025-05-07T05:27:51.396885",
     "status": "completed"
    },
    "tags": []
   },
   "outputs": [],
   "source": [
    "def collate_fn(batch: torch.tensor):\n",
    "    return {key: torch.tensor([(d[key]) for d in batch]) for key in batch[0]}"
   ]
  },
  {
   "cell_type": "code",
   "execution_count": 9,
   "id": "16f4139d",
   "metadata": {
    "execution": {
     "iopub.execute_input": "2025-05-07T05:27:51.410635Z",
     "iopub.status.busy": "2025-05-07T05:27:51.410433Z",
     "iopub.status.idle": "2025-05-07T05:27:53.197050Z",
     "shell.execute_reply": "2025-05-07T05:27:53.196454Z"
    },
    "papermill": {
     "duration": 1.791012,
     "end_time": "2025-05-07T05:27:53.198398",
     "exception": false,
     "start_time": "2025-05-07T05:27:51.407386",
     "status": "completed"
    },
    "tags": []
   },
   "outputs": [],
   "source": [
    "model = BartForConditionalGeneration(\n",
    "    BartConfig(\n",
    "        vocab_size=parameters['VOCAB_SIZE'],\n",
    "        max_position_embeddings=parameters['SEQUENCE_LENGTH'],\n",
    "        encoder_layers=parameters['ENCODER_LAYERS'],\n",
    "        encoder_ffn_dim=parameters['ENCODER_FFN_DIM'],\n",
    "        encoder_attention_heads=parameters['ENCODER_ATTENTION_HEADS'],\n",
    "        decoder_layers=parameters['DECODER_LAYERS'],\n",
    "        decoder_ffn_dim=parameters['DECODER_FFN_DIM'],\n",
    "        decoder_attention_heads=parameters['DECODER_ATTENTION_HEADS'],\n",
    "        d_model=parameters['EMBEDDING_DIMENSION'],\n",
    "        dropout=parameters['DROPOUT'],\n",
    "        pad_token_id=tokenizer.pad_token_id,\n",
    "        bos_token_id=tokenizer.bos_token_id,\n",
    "        eos_token_id=tokenizer.eos_token_id,\n",
    "        is_encoder_decoder=True,\n",
    "        decoder_start_token_id=tokenizer.eos_token_id,\n",
    "    )\n",
    ")"
   ]
  },
  {
   "cell_type": "code",
   "execution_count": 10,
   "id": "36cfcd72",
   "metadata": {
    "execution": {
     "iopub.execute_input": "2025-05-07T05:27:53.205052Z",
     "iopub.status.busy": "2025-05-07T05:27:53.204775Z",
     "iopub.status.idle": "2025-05-07T05:27:53.312491Z",
     "shell.execute_reply": "2025-05-07T05:27:53.311880Z"
    },
    "papermill": {
     "duration": 0.112363,
     "end_time": "2025-05-07T05:27:53.313764",
     "exception": false,
     "start_time": "2025-05-07T05:27:53.201401",
     "status": "completed"
    },
    "tags": []
   },
   "outputs": [],
   "source": [
    "training_args = TrainingArguments(\n",
    "    output_dir='/kaggle/tmp/',\n",
    "    overwrite_output_dir=True,\n",
    "    # eval_strategy='epoch',\n",
    "    eval_strategy='steps',\n",
    "    eval_steps=10_000,\n",
    "    per_device_train_batch_size=parameters['TRAIN_BATCH_SIZE'],\n",
    "    per_device_eval_batch_size=parameters['EVAL_BATCH_SIZE'],\n",
    "    learning_rate=parameters['LEARNING_RATE'],\n",
    "    # num_train_epochs=parameters['EPOCHS'],\n",
    "    max_steps=parameters['MAX_STEPS'],\n",
    "    warmup_steps=parameters['WARMUP_STEPS'],\n",
    "    weight_decay=parameters['L2_REG'],\n",
    "    logging_dir=\"/kaggle/tmp/\",\n",
    "    logging_strategy=\"steps\",\n",
    "    save_strategy=\"steps\",\n",
    "    save_steps=10_000,\n",
    "    save_total_limit=2,\n",
    "    fp16=True,\n",
    "    num_train_epochs=2,\n",
    "    load_best_model_at_end=True,\n",
    "    metric_for_best_model=\"loss\",\n",
    "    greater_is_better=False,\n",
    "    report_to=\"none\",\n",
    ")\n"
   ]
  },
  {
   "cell_type": "code",
   "execution_count": 11,
   "id": "9fcba2a9",
   "metadata": {
    "execution": {
     "iopub.execute_input": "2025-05-07T05:27:53.320273Z",
     "iopub.status.busy": "2025-05-07T05:27:53.320058Z",
     "iopub.status.idle": "2025-05-07T05:27:53.568595Z",
     "shell.execute_reply": "2025-05-07T05:27:53.568050Z"
    },
    "papermill": {
     "duration": 0.253155,
     "end_time": "2025-05-07T05:27:53.569897",
     "exception": false,
     "start_time": "2025-05-07T05:27:53.316742",
     "status": "completed"
    },
    "tags": []
   },
   "outputs": [],
   "source": [
    "trainer = Trainer(\n",
    "    model=model,\n",
    "    args=training_args,\n",
    "    train_dataset=train_dataset,\n",
    "    eval_dataset=eval_dataset,\n",
    "    data_collator=collate_fn\n",
    ")"
   ]
  },
  {
   "cell_type": "code",
   "execution_count": 12,
   "id": "3da9ee7d",
   "metadata": {
    "execution": {
     "iopub.execute_input": "2025-05-07T05:27:53.576444Z",
     "iopub.status.busy": "2025-05-07T05:27:53.576220Z",
     "iopub.status.idle": "2025-05-07T05:27:53.579452Z",
     "shell.execute_reply": "2025-05-07T05:27:53.578947Z"
    },
    "papermill": {
     "duration": 0.007578,
     "end_time": "2025-05-07T05:27:53.580467",
     "exception": false,
     "start_time": "2025-05-07T05:27:53.572889",
     "status": "completed"
    },
    "tags": []
   },
   "outputs": [],
   "source": [
    "import warnings\n",
    "warnings.simplefilter(action='ignore', category=FutureWarning)"
   ]
  },
  {
   "cell_type": "code",
   "execution_count": 13,
   "id": "2241d23a",
   "metadata": {
    "execution": {
     "iopub.execute_input": "2025-05-07T05:27:53.586685Z",
     "iopub.status.busy": "2025-05-07T05:27:53.586486Z",
     "iopub.status.idle": "2025-05-07T13:09:20.852680Z",
     "shell.execute_reply": "2025-05-07T13:09:20.851777Z"
    },
    "papermill": {
     "duration": 27687.270838,
     "end_time": "2025-05-07T13:09:20.854214",
     "exception": false,
     "start_time": "2025-05-07T05:27:53.583376",
     "status": "completed"
    },
    "tags": []
   },
   "outputs": [
    {
     "name": "stderr",
     "output_type": "stream",
     "text": [
      "There were missing keys in the checkpoint model loaded: ['model.encoder.embed_tokens.weight', 'model.decoder.embed_tokens.weight', 'lm_head.weight'].\n"
     ]
    },
    {
     "data": {
      "text/html": [
       "\n",
       "    <div>\n",
       "      \n",
       "      <progress value='52000' max='52000' style='width:300px; height:20px; vertical-align: middle;'></progress>\n",
       "      [52000/52000 7:23:17, Epoch 1/9223372036854775807]\n",
       "    </div>\n",
       "    <table border=\"1\" class=\"dataframe\">\n",
       "  <thead>\n",
       " <tr style=\"text-align: left;\">\n",
       "      <th>Step</th>\n",
       "      <th>Training Loss</th>\n",
       "      <th>Validation Loss</th>\n",
       "    </tr>\n",
       "  </thead>\n",
       "  <tbody>\n",
       "    <tr>\n",
       "      <td>40000</td>\n",
       "      <td>0.364400</td>\n",
       "      <td>0.352192</td>\n",
       "    </tr>\n",
       "    <tr>\n",
       "      <td>50000</td>\n",
       "      <td>0.349300</td>\n",
       "      <td>0.338003</td>\n",
       "    </tr>\n",
       "  </tbody>\n",
       "</table><p>"
      ],
      "text/plain": [
       "<IPython.core.display.HTML object>"
      ]
     },
     "metadata": {},
     "output_type": "display_data"
    },
    {
     "name": "stderr",
     "output_type": "stream",
     "text": [
      "There were missing keys in the checkpoint model loaded: ['model.encoder.embed_tokens.weight', 'model.decoder.embed_tokens.weight', 'lm_head.weight'].\n"
     ]
    },
    {
     "data": {
      "text/plain": [
       "TrainOutput(global_step=52000, training_loss=0.10279371672410231, metrics={'train_runtime': 27679.7042, 'train_samples_per_second': 60.116, 'train_steps_per_second': 1.879, 'total_flos': 2.25637985943552e+17, 'train_loss': 0.10279371672410231, 'epoch': 1.0})"
      ]
     },
     "execution_count": 13,
     "metadata": {},
     "output_type": "execute_result"
    }
   ],
   "source": [
    "trainer.train(resume_from_checkpoint='/kaggle/input/nepbart-checkpoint-37000-steps/checkpoint-37000')"
   ]
  },
  {
   "cell_type": "code",
   "execution_count": 14,
   "id": "0a5d104f",
   "metadata": {
    "execution": {
     "iopub.execute_input": "2025-05-07T13:09:20.862295Z",
     "iopub.status.busy": "2025-05-07T13:09:20.861723Z",
     "iopub.status.idle": "2025-05-07T14:09:41.307801Z",
     "shell.execute_reply": "2025-05-07T14:09:41.307030Z"
    },
    "papermill": {
     "duration": 3620.454638,
     "end_time": "2025-05-07T14:09:41.312258",
     "exception": false,
     "start_time": "2025-05-07T13:09:20.857620",
     "status": "completed"
    },
    "tags": []
   },
   "outputs": [
    {
     "name": "stdout",
     "output_type": "stream",
     "text": [
      "{'eval_loss': 0.33800289034843445, 'eval_runtime': 3620.4382, 'eval_samples_per_second': 71.337, 'eval_steps_per_second': 2.23, 'epoch': 1.0}\n"
     ]
    }
   ],
   "source": [
    "print(trainer.evaluate(eval_dataset))"
   ]
  },
  {
   "cell_type": "code",
   "execution_count": 15,
   "id": "53495318",
   "metadata": {
    "execution": {
     "iopub.execute_input": "2025-05-07T14:09:41.319487Z",
     "iopub.status.busy": "2025-05-07T14:09:41.319262Z",
     "iopub.status.idle": "2025-05-07T14:09:41.631882Z",
     "shell.execute_reply": "2025-05-07T14:09:41.631300Z"
    },
    "papermill": {
     "duration": 0.317807,
     "end_time": "2025-05-07T14:09:41.633234",
     "exception": false,
     "start_time": "2025-05-07T14:09:41.315427",
     "status": "completed"
    },
    "tags": []
   },
   "outputs": [],
   "source": [
    "trainer.save_model('/kaggle/tmp/final_model')"
   ]
  },
  {
   "cell_type": "code",
   "execution_count": 16,
   "id": "a8d37806",
   "metadata": {
    "execution": {
     "iopub.execute_input": "2025-05-07T14:09:41.640803Z",
     "iopub.status.busy": "2025-05-07T14:09:41.640425Z",
     "iopub.status.idle": "2025-05-07T14:11:07.025327Z",
     "shell.execute_reply": "2025-05-07T14:11:07.024731Z"
    },
    "papermill": {
     "duration": 85.38998,
     "end_time": "2025-05-07T14:11:07.026673",
     "exception": false,
     "start_time": "2025-05-07T14:09:41.636693",
     "status": "completed"
    },
    "tags": []
   },
   "outputs": [],
   "source": [
    "import tarfile\n",
    "with tarfile.open(\"/kaggle/working/model_checkpoints.tar.gz\", \"w:gz\") as tar:\n",
    "    tar.add(\"/kaggle/tmp\", arcname=\"model_checkpoints\")"
   ]
  }
 ],
 "metadata": {
  "kaggle": {
   "accelerator": "none",
   "dataSources": [
    {
     "datasetId": 7334713,
     "sourceId": 11686155,
     "sourceType": "datasetVersion"
    },
    {
     "datasetId": 7334750,
     "sourceId": 11686223,
     "sourceType": "datasetVersion"
    },
    {
     "datasetId": 7351971,
     "sourceId": 11712587,
     "sourceType": "datasetVersion"
    }
   ],
   "dockerImageVersionId": 31012,
   "isGpuEnabled": false,
   "isInternetEnabled": true,
   "language": "python",
   "sourceType": "notebook"
  },
  "kernelspec": {
   "display_name": "Python 3",
   "language": "python",
   "name": "python3"
  },
  "language_info": {
   "codemirror_mode": {
    "name": "ipython",
    "version": 3
   },
   "file_extension": ".py",
   "mimetype": "text/x-python",
   "name": "python",
   "nbconvert_exporter": "python",
   "pygments_lexer": "ipython3",
   "version": "3.11.11"
  },
  "papermill": {
   "default_parameters": {},
   "duration": 31445.214242,
   "end_time": "2025-05-07T14:11:11.149133",
   "environment_variables": {},
   "exception": null,
   "input_path": "__notebook__.ipynb",
   "output_path": "__notebook__.ipynb",
   "parameters": {},
   "start_time": "2025-05-07T05:27:05.934891",
   "version": "2.6.0"
  }
 },
 "nbformat": 4,
 "nbformat_minor": 5
}
