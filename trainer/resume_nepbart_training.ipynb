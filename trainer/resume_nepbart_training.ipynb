{
 "cells": [
  {
   "cell_type": "code",
   "execution_count": 1,
   "id": "99258807",
   "metadata": {
    "execution": {
     "iopub.execute_input": "2025-05-09T05:53:59.227142Z",
     "iopub.status.busy": "2025-05-09T05:53:59.226921Z",
     "iopub.status.idle": "2025-05-09T05:54:01.703160Z",
     "shell.execute_reply": "2025-05-09T05:54:01.702351Z"
    },
    "papermill": {
     "duration": 2.481928,
     "end_time": "2025-05-09T05:54:01.705206",
     "exception": false,
     "start_time": "2025-05-09T05:53:59.223278",
     "status": "completed"
    },
    "tags": []
   },
   "outputs": [],
   "source": [
    "!pip freeze > '/kaggle/working/requirements.txt'"
   ]
  },
  {
   "cell_type": "code",
   "execution_count": 2,
   "id": "b55ac531",
   "metadata": {
    "execution": {
     "iopub.execute_input": "2025-05-09T05:54:01.711162Z",
     "iopub.status.busy": "2025-05-09T05:54:01.710917Z",
     "iopub.status.idle": "2025-05-09T05:54:12.868169Z",
     "shell.execute_reply": "2025-05-09T05:54:12.867234Z"
    },
    "papermill": {
     "duration": 11.161734,
     "end_time": "2025-05-09T05:54:12.869703",
     "exception": false,
     "start_time": "2025-05-09T05:54:01.707969",
     "status": "completed"
    },
    "tags": []
   },
   "outputs": [
    {
     "name": "stdout",
     "output_type": "stream",
     "text": [
      "\u001b[2K     \u001b[90m━━━━━━━━━━━━━━━━━━━━━━━━━━━━━━━━━━━━━━━━\u001b[0m \u001b[32m43.5/43.5 kB\u001b[0m \u001b[31m2.1 MB/s\u001b[0m eta \u001b[36m0:00:00\u001b[0m\r\n",
      "\u001b[2K   \u001b[90m━━━━━━━━━━━━━━━━━━━━━━━━━━━━━━━━━━━━━━━━\u001b[0m \u001b[32m10.1/10.1 MB\u001b[0m \u001b[31m88.9 MB/s\u001b[0m eta \u001b[36m0:00:00\u001b[0m\r\n",
      "\u001b[?25h"
     ]
    }
   ],
   "source": [
    "!pip install transformers==4.47.0 --quiet"
   ]
  },
  {
   "cell_type": "code",
   "execution_count": 3,
   "id": "5742c52f",
   "metadata": {
    "_cell_guid": "b1076dfc-b9ad-4769-8c92-a6c4dae69d19",
    "_uuid": "8f2839f25d086af736a60e9eeb907d3b93b6e0e5",
    "execution": {
     "iopub.execute_input": "2025-05-09T05:54:12.876887Z",
     "iopub.status.busy": "2025-05-09T05:54:12.876342Z",
     "iopub.status.idle": "2025-05-09T05:54:39.853041Z",
     "shell.execute_reply": "2025-05-09T05:54:39.852234Z"
    },
    "papermill": {
     "duration": 26.981584,
     "end_time": "2025-05-09T05:54:39.854562",
     "exception": false,
     "start_time": "2025-05-09T05:54:12.872978",
     "status": "completed"
    },
    "tags": []
   },
   "outputs": [
    {
     "name": "stderr",
     "output_type": "stream",
     "text": [
      "2025-05-09 05:54:25.838822: E external/local_xla/xla/stream_executor/cuda/cuda_fft.cc:477] Unable to register cuFFT factory: Attempting to register factory for plugin cuFFT when one has already been registered\n",
      "WARNING: All log messages before absl::InitializeLog() is called are written to STDERR\n",
      "E0000 00:00:1746770066.038272      19 cuda_dnn.cc:8310] Unable to register cuDNN factory: Attempting to register factory for plugin cuDNN when one has already been registered\n",
      "E0000 00:00:1746770066.099369      19 cuda_blas.cc:1418] Unable to register cuBLAS factory: Attempting to register factory for plugin cuBLAS when one has already been registered\n"
     ]
    }
   ],
   "source": [
    "from transformers import BartTokenizerFast, BartForConditionalGeneration, BartConfig, TrainingArguments, Trainer\n",
    "import torch\n",
    "import transformers\n",
    "from datasets import load_dataset\n",
    "from torch.utils.data import DataLoader"
   ]
  },
  {
   "cell_type": "code",
   "execution_count": 4,
   "id": "41e3324b",
   "metadata": {
    "execution": {
     "iopub.execute_input": "2025-05-09T05:54:39.861043Z",
     "iopub.status.busy": "2025-05-09T05:54:39.860565Z",
     "iopub.status.idle": "2025-05-09T05:54:39.972728Z",
     "shell.execute_reply": "2025-05-09T05:54:39.972138Z"
    },
    "papermill": {
     "duration": 0.116625,
     "end_time": "2025-05-09T05:54:39.974000",
     "exception": false,
     "start_time": "2025-05-09T05:54:39.857375",
     "status": "completed"
    },
    "tags": []
   },
   "outputs": [
    {
     "name": "stderr",
     "output_type": "stream",
     "text": [
      "The tokenizer class you load from this checkpoint is not the same type as the class this function is called from. It may result in unexpected tokenization. \n",
      "The tokenizer class you load from this checkpoint is 'PreTrainedTokenizerFast'. \n",
      "The class this function is called from is 'BartTokenizerFast'.\n"
     ]
    }
   ],
   "source": [
    "tokenizer = BartTokenizerFast.from_pretrained(\"/kaggle/input/nepbart-tokenizer/nepbart_tokenizer\")"
   ]
  },
  {
   "cell_type": "code",
   "execution_count": 5,
   "id": "4d7a6201",
   "metadata": {
    "execution": {
     "iopub.execute_input": "2025-05-09T05:54:39.981634Z",
     "iopub.status.busy": "2025-05-09T05:54:39.981020Z",
     "iopub.status.idle": "2025-05-09T05:54:39.985484Z",
     "shell.execute_reply": "2025-05-09T05:54:39.984748Z"
    },
    "papermill": {
     "duration": 0.008641,
     "end_time": "2025-05-09T05:54:39.986537",
     "exception": false,
     "start_time": "2025-05-09T05:54:39.977896",
     "status": "completed"
    },
    "tags": []
   },
   "outputs": [],
   "source": [
    "parameters = {\n",
    "    'VOCAB_SIZE': 32_768,\n",
    "    'SEQUENCE_LENGTH': 512,\n",
    "    'EMBEDDING_DIMENSION': 512,\n",
    "\n",
    "    'ENCODER_LAYERS': 6,\n",
    "    'ENCODER_ATTENTION_HEADS': 8,\n",
    "    'ENCODER_FFN_DIM': 2048,\n",
    "\n",
    "    'DECODER_LAYERS': 6,\n",
    "    'DECODER_ATTENTION_HEADS': 8,\n",
    "    'DECODER_FFN_DIM': 2048,\n",
    "\n",
    "    'DROPOUT': 0.1,\n",
    "\n",
    "    'TRAIN_BATCH_SIZE': 32,\n",
    "    'EVAL_BATCH_SIZE': 32,\n",
    "    'EPOCHS': 5,\n",
    "    'LEARNING_RATE': 1e-4,\n",
    "    'WARMUP_STEPS': 5_000,\n",
    "    'GRADIENT_ACCUMULATION_STEPS': 4,\n",
    "    'L2_REG': 0.01,\n",
    "    'MAX_STEPS': 75_000 # dataset_size / (BATCH*GRADIENT_ACCUMULATION_STEPS) \n",
    "}"
   ]
  },
  {
   "cell_type": "code",
   "execution_count": 6,
   "id": "ea3ceef1",
   "metadata": {
    "execution": {
     "iopub.execute_input": "2025-05-09T05:54:39.992224Z",
     "iopub.status.busy": "2025-05-09T05:54:39.992016Z",
     "iopub.status.idle": "2025-05-09T05:54:39.995369Z",
     "shell.execute_reply": "2025-05-09T05:54:39.994669Z"
    },
    "papermill": {
     "duration": 0.007479,
     "end_time": "2025-05-09T05:54:39.996554",
     "exception": false,
     "start_time": "2025-05-09T05:54:39.989075",
     "status": "completed"
    },
    "tags": []
   },
   "outputs": [],
   "source": [
    "dataset_files = {\n",
    "    \"train\": \"/kaggle/input/nepbart-dataset-tokenized-masked-padded/nepbart_tokenized_masked_padded_train.parquet\",\n",
    "    \"eval\": \"/kaggle/input/nepbart-dataset-tokenized-masked-padded/nepbart_tokenized_masked_padded_test.parquet\"\n",
    "}"
   ]
  },
  {
   "cell_type": "code",
   "execution_count": 7,
   "id": "54a7fda6",
   "metadata": {
    "execution": {
     "iopub.execute_input": "2025-05-09T05:54:40.002267Z",
     "iopub.status.busy": "2025-05-09T05:54:40.002091Z",
     "iopub.status.idle": "2025-05-09T05:54:40.348668Z",
     "shell.execute_reply": "2025-05-09T05:54:40.347883Z"
    },
    "papermill": {
     "duration": 0.350844,
     "end_time": "2025-05-09T05:54:40.349974",
     "exception": false,
     "start_time": "2025-05-09T05:54:39.999130",
     "status": "completed"
    },
    "tags": []
   },
   "outputs": [],
   "source": [
    "dataset = load_dataset(\"parquet\", data_files=dataset_files, streaming=True)\n",
    "train_dataset = dataset[\"train\"].repeat(None)\n",
    "eval_dataset = dataset[\"eval\"]"
   ]
  },
  {
   "cell_type": "code",
   "execution_count": 8,
   "id": "3fb88625",
   "metadata": {
    "execution": {
     "iopub.execute_input": "2025-05-09T05:54:40.356222Z",
     "iopub.status.busy": "2025-05-09T05:54:40.355994Z",
     "iopub.status.idle": "2025-05-09T05:54:40.359793Z",
     "shell.execute_reply": "2025-05-09T05:54:40.359260Z"
    },
    "papermill": {
     "duration": 0.008001,
     "end_time": "2025-05-09T05:54:40.360776",
     "exception": false,
     "start_time": "2025-05-09T05:54:40.352775",
     "status": "completed"
    },
    "tags": []
   },
   "outputs": [],
   "source": [
    "def collate_fn(batch: torch.tensor):\n",
    "    return {key: torch.tensor([(d[key]) for d in batch]) for key in batch[0]}"
   ]
  },
  {
   "cell_type": "code",
   "execution_count": 9,
   "id": "337ecb5a",
   "metadata": {
    "execution": {
     "iopub.execute_input": "2025-05-09T05:54:40.366727Z",
     "iopub.status.busy": "2025-05-09T05:54:40.366516Z",
     "iopub.status.idle": "2025-05-09T05:54:42.159994Z",
     "shell.execute_reply": "2025-05-09T05:54:42.159201Z"
    },
    "papermill": {
     "duration": 1.797984,
     "end_time": "2025-05-09T05:54:42.161429",
     "exception": false,
     "start_time": "2025-05-09T05:54:40.363445",
     "status": "completed"
    },
    "tags": []
   },
   "outputs": [],
   "source": [
    "model = BartForConditionalGeneration(\n",
    "    BartConfig(\n",
    "        vocab_size=parameters['VOCAB_SIZE'],\n",
    "        max_position_embeddings=parameters['SEQUENCE_LENGTH'],\n",
    "        encoder_layers=parameters['ENCODER_LAYERS'],\n",
    "        encoder_ffn_dim=parameters['ENCODER_FFN_DIM'],\n",
    "        encoder_attention_heads=parameters['ENCODER_ATTENTION_HEADS'],\n",
    "        decoder_layers=parameters['DECODER_LAYERS'],\n",
    "        decoder_ffn_dim=parameters['DECODER_FFN_DIM'],\n",
    "        decoder_attention_heads=parameters['DECODER_ATTENTION_HEADS'],\n",
    "        d_model=parameters['EMBEDDING_DIMENSION'],\n",
    "        dropout=parameters['DROPOUT'],\n",
    "        pad_token_id=tokenizer.pad_token_id,\n",
    "        bos_token_id=tokenizer.bos_token_id,\n",
    "        eos_token_id=tokenizer.eos_token_id,\n",
    "        is_encoder_decoder=True,\n",
    "        decoder_start_token_id=tokenizer.eos_token_id,\n",
    "    )\n",
    ")"
   ]
  },
  {
   "cell_type": "code",
   "execution_count": 10,
   "id": "dabfdbf8",
   "metadata": {
    "execution": {
     "iopub.execute_input": "2025-05-09T05:54:42.168105Z",
     "iopub.status.busy": "2025-05-09T05:54:42.167635Z",
     "iopub.status.idle": "2025-05-09T05:54:42.276300Z",
     "shell.execute_reply": "2025-05-09T05:54:42.275701Z"
    },
    "papermill": {
     "duration": 0.113318,
     "end_time": "2025-05-09T05:54:42.277708",
     "exception": false,
     "start_time": "2025-05-09T05:54:42.164390",
     "status": "completed"
    },
    "tags": []
   },
   "outputs": [],
   "source": [
    "training_args = TrainingArguments(\n",
    "    output_dir='/kaggle/tmp/',\n",
    "    overwrite_output_dir=True,\n",
    "    # eval_strategy='epoch',\n",
    "    eval_strategy='steps',\n",
    "    eval_steps=10_000,\n",
    "    per_device_train_batch_size=parameters['TRAIN_BATCH_SIZE'],\n",
    "    per_device_eval_batch_size=parameters['EVAL_BATCH_SIZE'],\n",
    "    learning_rate=parameters['LEARNING_RATE'],\n",
    "    # num_train_epochs=parameters['EPOCHS'],\n",
    "    max_steps=parameters['MAX_STEPS'],\n",
    "    warmup_steps=parameters['WARMUP_STEPS'],\n",
    "    weight_decay=parameters['L2_REG'],\n",
    "    logging_dir=\"/kaggle/tmp/\",\n",
    "    logging_strategy=\"steps\",\n",
    "    save_strategy=\"steps\",\n",
    "    save_steps=10_000,\n",
    "    save_total_limit=2,\n",
    "    fp16=True,\n",
    "    num_train_epochs=2,\n",
    "    load_best_model_at_end=True,\n",
    "    metric_for_best_model=\"loss\",\n",
    "    greater_is_better=False,\n",
    "    report_to=\"none\",\n",
    ")\n"
   ]
  },
  {
   "cell_type": "code",
   "execution_count": 11,
   "id": "5f13894d",
   "metadata": {
    "execution": {
     "iopub.execute_input": "2025-05-09T05:54:42.284191Z",
     "iopub.status.busy": "2025-05-09T05:54:42.283972Z",
     "iopub.status.idle": "2025-05-09T05:54:42.534222Z",
     "shell.execute_reply": "2025-05-09T05:54:42.533666Z"
    },
    "papermill": {
     "duration": 0.254757,
     "end_time": "2025-05-09T05:54:42.535492",
     "exception": false,
     "start_time": "2025-05-09T05:54:42.280735",
     "status": "completed"
    },
    "tags": []
   },
   "outputs": [],
   "source": [
    "trainer = Trainer(\n",
    "    model=model,\n",
    "    args=training_args,\n",
    "    train_dataset=train_dataset,\n",
    "    eval_dataset=eval_dataset,\n",
    "    data_collator=collate_fn\n",
    ")"
   ]
  },
  {
   "cell_type": "code",
   "execution_count": 12,
   "id": "8f96f4d0",
   "metadata": {
    "execution": {
     "iopub.execute_input": "2025-05-09T05:54:42.541938Z",
     "iopub.status.busy": "2025-05-09T05:54:42.541711Z",
     "iopub.status.idle": "2025-05-09T05:54:42.544836Z",
     "shell.execute_reply": "2025-05-09T05:54:42.544360Z"
    },
    "papermill": {
     "duration": 0.007421,
     "end_time": "2025-05-09T05:54:42.545787",
     "exception": false,
     "start_time": "2025-05-09T05:54:42.538366",
     "status": "completed"
    },
    "tags": []
   },
   "outputs": [],
   "source": [
    "import warnings\n",
    "warnings.simplefilter(action='ignore', category=FutureWarning)"
   ]
  },
  {
   "cell_type": "code",
   "execution_count": 13,
   "id": "b864b62f",
   "metadata": {
    "execution": {
     "iopub.execute_input": "2025-05-09T05:54:42.551863Z",
     "iopub.status.busy": "2025-05-09T05:54:42.551661Z",
     "iopub.status.idle": "2025-05-09T10:18:29.653074Z",
     "shell.execute_reply": "2025-05-09T10:18:29.652287Z"
    },
    "papermill": {
     "duration": 15827.106302,
     "end_time": "2025-05-09T10:18:29.654750",
     "exception": false,
     "start_time": "2025-05-09T05:54:42.548448",
     "status": "completed"
    },
    "tags": []
   },
   "outputs": [
    {
     "name": "stderr",
     "output_type": "stream",
     "text": [
      "There were missing keys in the checkpoint model loaded: ['model.encoder.embed_tokens.weight', 'model.decoder.embed_tokens.weight', 'lm_head.weight'].\n"
     ]
    },
    {
     "data": {
      "text/html": [
       "\n",
       "    <div>\n",
       "      \n",
       "      <progress value='75000' max='75000' style='width:300px; height:20px; vertical-align: middle;'></progress>\n",
       "      [75000/75000 3:52:25, Epoch 1/9223372036854775807]\n",
       "    </div>\n",
       "    <table border=\"1\" class=\"dataframe\">\n",
       "  <thead>\n",
       " <tr style=\"text-align: left;\">\n",
       "      <th>Step</th>\n",
       "      <th>Training Loss</th>\n",
       "      <th>Validation Loss</th>\n",
       "    </tr>\n",
       "  </thead>\n",
       "  <tbody>\n",
       "    <tr>\n",
       "      <td>70000</td>\n",
       "      <td>0.333500</td>\n",
       "      <td>0.326319</td>\n",
       "    </tr>\n",
       "  </tbody>\n",
       "</table><p>"
      ],
      "text/plain": [
       "<IPython.core.display.HTML object>"
      ]
     },
     "metadata": {},
     "output_type": "display_data"
    },
    {
     "name": "stderr",
     "output_type": "stream",
     "text": [
      "There were missing keys in the checkpoint model loaded: ['model.encoder.embed_tokens.weight', 'model.decoder.embed_tokens.weight', 'lm_head.weight'].\n"
     ]
    },
    {
     "data": {
      "text/plain": [
       "TrainOutput(global_step=75000, training_loss=0.03580017923990885, metrics={'train_runtime': 15818.5203, 'train_samples_per_second': 151.721, 'train_steps_per_second': 4.741, 'total_flos': 3.254394028032e+17, 'train_loss': 0.03580017923990885, 'epoch': 1.0})"
      ]
     },
     "execution_count": 13,
     "metadata": {},
     "output_type": "execute_result"
    }
   ],
   "source": [
    "trainer.train(resume_from_checkpoint='/kaggle/input/nepbart-checkpoint-67000-steps/checkpoint-67000')"
   ]
  },
  {
   "cell_type": "code",
   "execution_count": 14,
   "id": "c4a98ae5",
   "metadata": {
    "execution": {
     "iopub.execute_input": "2025-05-09T10:18:29.669464Z",
     "iopub.status.busy": "2025-05-09T10:18:29.669214Z",
     "iopub.status.idle": "2025-05-09T11:19:07.761905Z",
     "shell.execute_reply": "2025-05-09T11:19:07.761215Z"
    },
    "papermill": {
     "duration": 3638.103219,
     "end_time": "2025-05-09T11:19:07.766903",
     "exception": false,
     "start_time": "2025-05-09T10:18:29.663684",
     "status": "completed"
    },
    "tags": []
   },
   "outputs": [
    {
     "name": "stdout",
     "output_type": "stream",
     "text": [
      "{'eval_loss': 0.32631924748420715, 'eval_runtime': 3638.086, 'eval_samples_per_second': 70.991, 'eval_steps_per_second': 2.219, 'epoch': 1.0}\n"
     ]
    }
   ],
   "source": [
    "print(trainer.evaluate(eval_dataset))"
   ]
  },
  {
   "cell_type": "code",
   "execution_count": 15,
   "id": "21788099",
   "metadata": {
    "execution": {
     "iopub.execute_input": "2025-05-09T11:19:07.774578Z",
     "iopub.status.busy": "2025-05-09T11:19:07.773987Z",
     "iopub.status.idle": "2025-05-09T11:19:08.099163Z",
     "shell.execute_reply": "2025-05-09T11:19:08.098363Z"
    },
    "papermill": {
     "duration": 0.330282,
     "end_time": "2025-05-09T11:19:08.100570",
     "exception": false,
     "start_time": "2025-05-09T11:19:07.770288",
     "status": "completed"
    },
    "tags": []
   },
   "outputs": [],
   "source": [
    "trainer.save_model('/kaggle/tmp/final_model')"
   ]
  },
  {
   "cell_type": "code",
   "execution_count": 16,
   "id": "fbbd7b37",
   "metadata": {
    "execution": {
     "iopub.execute_input": "2025-05-09T11:19:08.108113Z",
     "iopub.status.busy": "2025-05-09T11:19:08.107729Z",
     "iopub.status.idle": "2025-05-09T11:20:34.125574Z",
     "shell.execute_reply": "2025-05-09T11:20:34.124795Z"
    },
    "papermill": {
     "duration": 86.023024,
     "end_time": "2025-05-09T11:20:34.127094",
     "exception": false,
     "start_time": "2025-05-09T11:19:08.104070",
     "status": "completed"
    },
    "tags": []
   },
   "outputs": [],
   "source": [
    "import tarfile\n",
    "with tarfile.open(\"/kaggle/working/model_checkpoints.tar.gz\", \"w:gz\") as tar:\n",
    "    tar.add(\"/kaggle/tmp\", arcname=\"model_checkpoints\")"
   ]
  }
 ],
 "metadata": {
  "kaggle": {
   "accelerator": "none",
   "dataSources": [
    {
     "datasetId": 7334713,
     "sourceId": 11686155,
     "sourceType": "datasetVersion"
    },
    {
     "datasetId": 7334750,
     "sourceId": 11686223,
     "sourceType": "datasetVersion"
    },
    {
     "datasetId": 7370652,
     "sourceId": 11741278,
     "sourceType": "datasetVersion"
    }
   ],
   "dockerImageVersionId": 31012,
   "isGpuEnabled": false,
   "isInternetEnabled": true,
   "language": "python",
   "sourceType": "notebook"
  },
  "kernelspec": {
   "display_name": "Python 3",
   "language": "python",
   "name": "python3"
  },
  "language_info": {
   "codemirror_mode": {
    "name": "ipython",
    "version": 3
   },
   "file_extension": ".py",
   "mimetype": "text/x-python",
   "name": "python",
   "nbconvert_exporter": "python",
   "pygments_lexer": "ipython3",
   "version": "3.11.11"
  },
  "papermill": {
   "default_parameters": {},
   "duration": 19602.054816,
   "end_time": "2025-05-09T11:20:37.266813",
   "environment_variables": {},
   "exception": null,
   "input_path": "__notebook__.ipynb",
   "output_path": "__notebook__.ipynb",
   "parameters": {},
   "start_time": "2025-05-09T05:53:55.211997",
   "version": "2.6.0"
  }
 },
 "nbformat": 4,
 "nbformat_minor": 5
}
