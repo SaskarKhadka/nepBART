{
 "cells": [
  {
   "cell_type": "code",
   "execution_count": 1,
   "id": "8e293b82",
   "metadata": {
    "execution": {
     "iopub.execute_input": "2025-05-18T06:19:21.812402Z",
     "iopub.status.busy": "2025-05-18T06:19:21.812159Z",
     "iopub.status.idle": "2025-05-18T06:19:24.311093Z",
     "shell.execute_reply": "2025-05-18T06:19:24.310312Z"
    },
    "papermill": {
     "duration": 2.50455,
     "end_time": "2025-05-18T06:19:24.312934",
     "exception": false,
     "start_time": "2025-05-18T06:19:21.808384",
     "status": "completed"
    },
    "tags": []
   },
   "outputs": [],
   "source": [
    "!pip freeze > '/kaggle/working/requirements.txt'"
   ]
  },
  {
   "cell_type": "code",
   "execution_count": 2,
   "id": "785f36a2",
   "metadata": {
    "execution": {
     "iopub.execute_input": "2025-05-18T06:19:24.319275Z",
     "iopub.status.busy": "2025-05-18T06:19:24.319052Z",
     "iopub.status.idle": "2025-05-18T06:19:35.570783Z",
     "shell.execute_reply": "2025-05-18T06:19:35.569833Z"
    },
    "papermill": {
     "duration": 11.256739,
     "end_time": "2025-05-18T06:19:35.572413",
     "exception": false,
     "start_time": "2025-05-18T06:19:24.315674",
     "status": "completed"
    },
    "tags": []
   },
   "outputs": [
    {
     "name": "stdout",
     "output_type": "stream",
     "text": [
      "\u001b[2K     \u001b[90m━━━━━━━━━━━━━━━━━━━━━━━━━━━━━━━━━━━━━━━━\u001b[0m \u001b[32m43.5/43.5 kB\u001b[0m \u001b[31m1.5 MB/s\u001b[0m eta \u001b[36m0:00:00\u001b[0m\r\n",
      "\u001b[2K   \u001b[90m━━━━━━━━━━━━━━━━━━━━━━━━━━━━━━━━━━━━━━━━\u001b[0m \u001b[32m10.1/10.1 MB\u001b[0m \u001b[31m69.3 MB/s\u001b[0m eta \u001b[36m0:00:00\u001b[0m\r\n",
      "\u001b[?25h"
     ]
    }
   ],
   "source": [
    "!pip install transformers==4.47.0 --quiet"
   ]
  },
  {
   "cell_type": "code",
   "execution_count": 3,
   "id": "bef30511",
   "metadata": {
    "_cell_guid": "b1076dfc-b9ad-4769-8c92-a6c4dae69d19",
    "_uuid": "8f2839f25d086af736a60e9eeb907d3b93b6e0e5",
    "execution": {
     "iopub.execute_input": "2025-05-18T06:19:35.579143Z",
     "iopub.status.busy": "2025-05-18T06:19:35.578872Z",
     "iopub.status.idle": "2025-05-18T06:20:02.593082Z",
     "shell.execute_reply": "2025-05-18T06:20:02.592436Z"
    },
    "papermill": {
     "duration": 27.019074,
     "end_time": "2025-05-18T06:20:02.594436",
     "exception": false,
     "start_time": "2025-05-18T06:19:35.575362",
     "status": "completed"
    },
    "tags": []
   },
   "outputs": [
    {
     "name": "stderr",
     "output_type": "stream",
     "text": [
      "2025-05-18 06:19:48.157879: E external/local_xla/xla/stream_executor/cuda/cuda_fft.cc:477] Unable to register cuFFT factory: Attempting to register factory for plugin cuFFT when one has already been registered\n",
      "WARNING: All log messages before absl::InitializeLog() is called are written to STDERR\n",
      "E0000 00:00:1747549188.352538      18 cuda_dnn.cc:8310] Unable to register cuDNN factory: Attempting to register factory for plugin cuDNN when one has already been registered\n",
      "E0000 00:00:1747549188.413483      18 cuda_blas.cc:1418] Unable to register cuBLAS factory: Attempting to register factory for plugin cuBLAS when one has already been registered\n"
     ]
    }
   ],
   "source": [
    "from transformers import BartTokenizerFast, BartForConditionalGeneration, BartConfig, TrainingArguments, Trainer\n",
    "import torch\n",
    "import transformers\n",
    "from datasets import load_dataset\n",
    "from torch.utils.data import DataLoader"
   ]
  },
  {
   "cell_type": "code",
   "execution_count": 4,
   "id": "14b7666d",
   "metadata": {
    "execution": {
     "iopub.execute_input": "2025-05-18T06:20:02.600904Z",
     "iopub.status.busy": "2025-05-18T06:20:02.600342Z",
     "iopub.status.idle": "2025-05-18T06:20:02.759041Z",
     "shell.execute_reply": "2025-05-18T06:20:02.758399Z"
    },
    "papermill": {
     "duration": 0.163099,
     "end_time": "2025-05-18T06:20:02.760354",
     "exception": false,
     "start_time": "2025-05-18T06:20:02.597255",
     "status": "completed"
    },
    "tags": []
   },
   "outputs": [
    {
     "name": "stderr",
     "output_type": "stream",
     "text": [
      "The tokenizer class you load from this checkpoint is not the same type as the class this function is called from. It may result in unexpected tokenization. \n",
      "The tokenizer class you load from this checkpoint is 'PreTrainedTokenizerFast'. \n",
      "The class this function is called from is 'BartTokenizerFast'.\n"
     ]
    }
   ],
   "source": [
    "tokenizer = BartTokenizerFast.from_pretrained(\"/kaggle/input/nepbart-tokenizer/nepbart_tokenizer\")"
   ]
  },
  {
   "cell_type": "code",
   "execution_count": 5,
   "id": "8022cd8a",
   "metadata": {
    "execution": {
     "iopub.execute_input": "2025-05-18T06:20:02.768444Z",
     "iopub.status.busy": "2025-05-18T06:20:02.767829Z",
     "iopub.status.idle": "2025-05-18T06:20:02.772063Z",
     "shell.execute_reply": "2025-05-18T06:20:02.771503Z"
    },
    "papermill": {
     "duration": 0.008699,
     "end_time": "2025-05-18T06:20:02.773144",
     "exception": false,
     "start_time": "2025-05-18T06:20:02.764445",
     "status": "completed"
    },
    "tags": []
   },
   "outputs": [],
   "source": [
    "parameters = {\n",
    "    'VOCAB_SIZE': 32_768,\n",
    "    'SEQUENCE_LENGTH': 512,\n",
    "    'EMBEDDING_DIMENSION': 512,\n",
    "\n",
    "    'ENCODER_LAYERS': 6,\n",
    "    'ENCODER_ATTENTION_HEADS': 8,\n",
    "    'ENCODER_FFN_DIM': 2048,\n",
    "\n",
    "    'DECODER_LAYERS': 6,\n",
    "    'DECODER_ATTENTION_HEADS': 8,\n",
    "    'DECODER_FFN_DIM': 2048,\n",
    "\n",
    "    'DROPOUT': 0.1,\n",
    "\n",
    "    'TRAIN_BATCH_SIZE': 32,\n",
    "    'EVAL_BATCH_SIZE': 32,\n",
    "    'EPOCHS': 5,\n",
    "    'LEARNING_RATE': 1e-4,\n",
    "    'WARMUP_STEPS': 5_000,\n",
    "    'GRADIENT_ACCUMULATION_STEPS': 4,\n",
    "    'L2_REG': 0.01,\n",
    "    'MAX_STEPS': 155_000 # dataset_size / (BATCH*GRADIENT_ACCUMULATION_STEPS) \n",
    "}"
   ]
  },
  {
   "cell_type": "code",
   "execution_count": 6,
   "id": "b7106138",
   "metadata": {
    "execution": {
     "iopub.execute_input": "2025-05-18T06:20:02.778858Z",
     "iopub.status.busy": "2025-05-18T06:20:02.778631Z",
     "iopub.status.idle": "2025-05-18T06:20:02.781750Z",
     "shell.execute_reply": "2025-05-18T06:20:02.781238Z"
    },
    "papermill": {
     "duration": 0.007178,
     "end_time": "2025-05-18T06:20:02.782824",
     "exception": false,
     "start_time": "2025-05-18T06:20:02.775646",
     "status": "completed"
    },
    "tags": []
   },
   "outputs": [],
   "source": [
    "dataset_files = {\n",
    "    \"train\": \"/kaggle/input/nepbart-dataset-tokenized-masked-padded/nepbart_tokenized_masked_padded_train.parquet\",\n",
    "    \"eval\": \"/kaggle/input/nepbart-dataset-tokenized-masked-padded/nepbart_tokenized_masked_padded_test.parquet\"\n",
    "}"
   ]
  },
  {
   "cell_type": "code",
   "execution_count": 7,
   "id": "e625209a",
   "metadata": {
    "execution": {
     "iopub.execute_input": "2025-05-18T06:20:02.788493Z",
     "iopub.status.busy": "2025-05-18T06:20:02.788316Z",
     "iopub.status.idle": "2025-05-18T06:20:02.980599Z",
     "shell.execute_reply": "2025-05-18T06:20:02.979968Z"
    },
    "papermill": {
     "duration": 0.196494,
     "end_time": "2025-05-18T06:20:02.981894",
     "exception": false,
     "start_time": "2025-05-18T06:20:02.785400",
     "status": "completed"
    },
    "tags": []
   },
   "outputs": [],
   "source": [
    "dataset = load_dataset(\"parquet\", data_files=dataset_files, streaming=True)\n",
    "train_dataset = dataset[\"train\"].repeat(None)\n",
    "eval_dataset = dataset[\"eval\"]"
   ]
  },
  {
   "cell_type": "code",
   "execution_count": 8,
   "id": "215a4d39",
   "metadata": {
    "execution": {
     "iopub.execute_input": "2025-05-18T06:20:02.988162Z",
     "iopub.status.busy": "2025-05-18T06:20:02.987933Z",
     "iopub.status.idle": "2025-05-18T06:20:02.991719Z",
     "shell.execute_reply": "2025-05-18T06:20:02.991200Z"
    },
    "papermill": {
     "duration": 0.008056,
     "end_time": "2025-05-18T06:20:02.992754",
     "exception": false,
     "start_time": "2025-05-18T06:20:02.984698",
     "status": "completed"
    },
    "tags": []
   },
   "outputs": [],
   "source": [
    "def collate_fn(batch: torch.tensor):\n",
    "    return {key: torch.tensor([(d[key]) for d in batch]) for key in batch[0]}"
   ]
  },
  {
   "cell_type": "code",
   "execution_count": 9,
   "id": "f9478b1b",
   "metadata": {
    "execution": {
     "iopub.execute_input": "2025-05-18T06:20:02.998901Z",
     "iopub.status.busy": "2025-05-18T06:20:02.998659Z",
     "iopub.status.idle": "2025-05-18T06:20:04.878934Z",
     "shell.execute_reply": "2025-05-18T06:20:04.878303Z"
    },
    "papermill": {
     "duration": 1.884865,
     "end_time": "2025-05-18T06:20:04.880346",
     "exception": false,
     "start_time": "2025-05-18T06:20:02.995481",
     "status": "completed"
    },
    "tags": []
   },
   "outputs": [],
   "source": [
    "model = BartForConditionalGeneration(\n",
    "    BartConfig(\n",
    "        vocab_size=parameters['VOCAB_SIZE'],\n",
    "        max_position_embeddings=parameters['SEQUENCE_LENGTH'],\n",
    "        encoder_layers=parameters['ENCODER_LAYERS'],\n",
    "        encoder_ffn_dim=parameters['ENCODER_FFN_DIM'],\n",
    "        encoder_attention_heads=parameters['ENCODER_ATTENTION_HEADS'],\n",
    "        decoder_layers=parameters['DECODER_LAYERS'],\n",
    "        decoder_ffn_dim=parameters['DECODER_FFN_DIM'],\n",
    "        decoder_attention_heads=parameters['DECODER_ATTENTION_HEADS'],\n",
    "        d_model=parameters['EMBEDDING_DIMENSION'],\n",
    "        dropout=parameters['DROPOUT'],\n",
    "        pad_token_id=tokenizer.pad_token_id,\n",
    "        bos_token_id=tokenizer.bos_token_id,\n",
    "        eos_token_id=tokenizer.eos_token_id,\n",
    "        is_encoder_decoder=True,\n",
    "        decoder_start_token_id=tokenizer.eos_token_id,\n",
    "    )\n",
    ")"
   ]
  },
  {
   "cell_type": "code",
   "execution_count": 10,
   "id": "7cb91de6",
   "metadata": {
    "execution": {
     "iopub.execute_input": "2025-05-18T06:20:04.886912Z",
     "iopub.status.busy": "2025-05-18T06:20:04.886641Z",
     "iopub.status.idle": "2025-05-18T06:20:04.996809Z",
     "shell.execute_reply": "2025-05-18T06:20:04.996250Z"
    },
    "papermill": {
     "duration": 0.114761,
     "end_time": "2025-05-18T06:20:04.998130",
     "exception": false,
     "start_time": "2025-05-18T06:20:04.883369",
     "status": "completed"
    },
    "tags": []
   },
   "outputs": [],
   "source": [
    "training_args = TrainingArguments(\n",
    "    output_dir='/kaggle/tmp/',\n",
    "    overwrite_output_dir=True,\n",
    "    # eval_strategy='epoch',\n",
    "    eval_strategy='steps',\n",
    "    eval_steps=10_000,\n",
    "    per_device_train_batch_size=parameters['TRAIN_BATCH_SIZE'],\n",
    "    per_device_eval_batch_size=parameters['EVAL_BATCH_SIZE'],\n",
    "    learning_rate=parameters['LEARNING_RATE'],\n",
    "    # num_train_epochs=parameters['EPOCHS'],\n",
    "    max_steps=parameters['MAX_STEPS'],\n",
    "    warmup_steps=parameters['WARMUP_STEPS'],\n",
    "    weight_decay=parameters['L2_REG'],\n",
    "    logging_dir=\"/kaggle/tmp/\",\n",
    "    logging_strategy=\"steps\",\n",
    "    save_strategy=\"steps\",\n",
    "    save_steps=10_000,\n",
    "    save_total_limit=2,\n",
    "    fp16=True,\n",
    "    num_train_epochs=2,\n",
    "    load_best_model_at_end=True,\n",
    "    metric_for_best_model=\"loss\",\n",
    "    greater_is_better=False,\n",
    "    report_to=\"none\",\n",
    ")\n"
   ]
  },
  {
   "cell_type": "code",
   "execution_count": 11,
   "id": "2f49f795",
   "metadata": {
    "execution": {
     "iopub.execute_input": "2025-05-18T06:20:05.005198Z",
     "iopub.status.busy": "2025-05-18T06:20:05.004624Z",
     "iopub.status.idle": "2025-05-18T06:20:05.266028Z",
     "shell.execute_reply": "2025-05-18T06:20:05.265417Z"
    },
    "papermill": {
     "duration": 0.266068,
     "end_time": "2025-05-18T06:20:05.267355",
     "exception": false,
     "start_time": "2025-05-18T06:20:05.001287",
     "status": "completed"
    },
    "tags": []
   },
   "outputs": [],
   "source": [
    "trainer = Trainer(\n",
    "    model=model,\n",
    "    args=training_args,\n",
    "    train_dataset=train_dataset,\n",
    "    eval_dataset=eval_dataset,\n",
    "    data_collator=collate_fn\n",
    ")"
   ]
  },
  {
   "cell_type": "code",
   "execution_count": 12,
   "id": "020d1a6f",
   "metadata": {
    "execution": {
     "iopub.execute_input": "2025-05-18T06:20:05.274193Z",
     "iopub.status.busy": "2025-05-18T06:20:05.273756Z",
     "iopub.status.idle": "2025-05-18T06:20:05.276898Z",
     "shell.execute_reply": "2025-05-18T06:20:05.276384Z"
    },
    "papermill": {
     "duration": 0.007494,
     "end_time": "2025-05-18T06:20:05.277852",
     "exception": false,
     "start_time": "2025-05-18T06:20:05.270358",
     "status": "completed"
    },
    "tags": []
   },
   "outputs": [],
   "source": [
    "import warnings\n",
    "warnings.simplefilter(action='ignore', category=FutureWarning)"
   ]
  },
  {
   "cell_type": "code",
   "execution_count": 13,
   "id": "dd4c1407",
   "metadata": {
    "execution": {
     "iopub.execute_input": "2025-05-18T06:20:05.283984Z",
     "iopub.status.busy": "2025-05-18T06:20:05.283772Z",
     "iopub.status.idle": "2025-05-18T15:13:01.620558Z",
     "shell.execute_reply": "2025-05-18T15:13:01.619825Z"
    },
    "papermill": {
     "duration": 31976.341618,
     "end_time": "2025-05-18T15:13:01.622230",
     "exception": false,
     "start_time": "2025-05-18T06:20:05.280612",
     "status": "completed"
    },
    "tags": []
   },
   "outputs": [
    {
     "name": "stderr",
     "output_type": "stream",
     "text": [
      "There were missing keys in the checkpoint model loaded: ['model.encoder.embed_tokens.weight', 'model.decoder.embed_tokens.weight', 'lm_head.weight'].\n"
     ]
    },
    {
     "data": {
      "text/html": [
       "\n",
       "    <div>\n",
       "      \n",
       "      <progress value='155000' max='155000' style='width:300px; height:20px; vertical-align: middle;'></progress>\n",
       "      [155000/155000 7:45:23, Epoch 1/9223372036854775807]\n",
       "    </div>\n",
       "    <table border=\"1\" class=\"dataframe\">\n",
       "  <thead>\n",
       " <tr style=\"text-align: left;\">\n",
       "      <th>Step</th>\n",
       "      <th>Training Loss</th>\n",
       "      <th>Validation Loss</th>\n",
       "    </tr>\n",
       "  </thead>\n",
       "  <tbody>\n",
       "    <tr>\n",
       "      <td>140000</td>\n",
       "      <td>0.319800</td>\n",
       "      <td>0.308966</td>\n",
       "    </tr>\n",
       "    <tr>\n",
       "      <td>150000</td>\n",
       "      <td>0.310200</td>\n",
       "      <td>0.304427</td>\n",
       "    </tr>\n",
       "  </tbody>\n",
       "</table><p>"
      ],
      "text/plain": [
       "<IPython.core.display.HTML object>"
      ]
     },
     "metadata": {},
     "output_type": "display_data"
    },
    {
     "name": "stderr",
     "output_type": "stream",
     "text": [
      "There were missing keys in the checkpoint model loaded: ['model.encoder.embed_tokens.weight', 'model.decoder.embed_tokens.weight', 'lm_head.weight'].\n"
     ]
    },
    {
     "data": {
      "text/plain": [
       "TrainOutput(global_step=155000, training_loss=0.0324564459031628, metrics={'train_runtime': 31969.7201, 'train_samples_per_second': 155.147, 'train_steps_per_second': 4.848, 'total_flos': 6.7257476579328e+17, 'train_loss': 0.0324564459031628, 'epoch': 1.0})"
      ]
     },
     "execution_count": 13,
     "metadata": {},
     "output_type": "execute_result"
    }
   ],
   "source": [
    "trainer.train(resume_from_checkpoint='/kaggle/input/nepbart-checkpoint-139000-steps/checkpoint-139000')"
   ]
  },
  {
   "cell_type": "code",
   "execution_count": 14,
   "id": "569fbed6",
   "metadata": {
    "execution": {
     "iopub.execute_input": "2025-05-18T15:13:01.639516Z",
     "iopub.status.busy": "2025-05-18T15:13:01.639298Z",
     "iopub.status.idle": "2025-05-18T16:13:30.569290Z",
     "shell.execute_reply": "2025-05-18T16:13:30.568512Z"
    },
    "papermill": {
     "duration": 3628.943095,
     "end_time": "2025-05-18T16:13:30.573838",
     "exception": false,
     "start_time": "2025-05-18T15:13:01.630743",
     "status": "completed"
    },
    "tags": []
   },
   "outputs": [
    {
     "name": "stdout",
     "output_type": "stream",
     "text": [
      "{'eval_loss': 0.3044268488883972, 'eval_runtime': 3628.9234, 'eval_samples_per_second': 71.171, 'eval_steps_per_second': 2.224, 'epoch': 1.0}\n"
     ]
    }
   ],
   "source": [
    "print(trainer.evaluate(eval_dataset))"
   ]
  },
  {
   "cell_type": "code",
   "execution_count": 15,
   "id": "e754144b",
   "metadata": {
    "execution": {
     "iopub.execute_input": "2025-05-18T16:13:30.581543Z",
     "iopub.status.busy": "2025-05-18T16:13:30.580969Z",
     "iopub.status.idle": "2025-05-18T16:13:30.895294Z",
     "shell.execute_reply": "2025-05-18T16:13:30.894489Z"
    },
    "papermill": {
     "duration": 0.319668,
     "end_time": "2025-05-18T16:13:30.896686",
     "exception": false,
     "start_time": "2025-05-18T16:13:30.577018",
     "status": "completed"
    },
    "tags": []
   },
   "outputs": [],
   "source": [
    "trainer.save_model('/kaggle/tmp/final_model')"
   ]
  },
  {
   "cell_type": "code",
   "execution_count": 16,
   "id": "fadbb071",
   "metadata": {
    "execution": {
     "iopub.execute_input": "2025-05-18T16:13:30.904691Z",
     "iopub.status.busy": "2025-05-18T16:13:30.904471Z",
     "iopub.status.idle": "2025-05-18T16:14:56.605544Z",
     "shell.execute_reply": "2025-05-18T16:14:56.604945Z"
    },
    "papermill": {
     "duration": 85.706155,
     "end_time": "2025-05-18T16:14:56.606889",
     "exception": false,
     "start_time": "2025-05-18T16:13:30.900734",
     "status": "completed"
    },
    "tags": []
   },
   "outputs": [],
   "source": [
    "import tarfile\n",
    "with tarfile.open(\"/kaggle/working/model_checkpoints.tar.gz\", \"w:gz\") as tar:\n",
    "    tar.add(\"/kaggle/tmp\", arcname=\"model_checkpoints\")"
   ]
  }
 ],
 "metadata": {
  "kaggle": {
   "accelerator": "none",
   "dataSources": [
    {
     "datasetId": 7334713,
     "sourceId": 11686155,
     "sourceType": "datasetVersion"
    },
    {
     "datasetId": 7334750,
     "sourceId": 11686223,
     "sourceType": "datasetVersion"
    },
    {
     "datasetId": 7449053,
     "sourceId": 11854848,
     "sourceType": "datasetVersion"
    }
   ],
   "dockerImageVersionId": 31012,
   "isGpuEnabled": false,
   "isInternetEnabled": true,
   "language": "python",
   "sourceType": "notebook"
  },
  "kernelspec": {
   "display_name": "Python 3",
   "language": "python",
   "name": "python3"
  },
  "language_info": {
   "codemirror_mode": {
    "name": "ipython",
    "version": 3
   },
   "file_extension": ".py",
   "mimetype": "text/x-python",
   "name": "python",
   "nbconvert_exporter": "python",
   "pygments_lexer": "ipython3",
   "version": "3.11.11"
  },
  "papermill": {
   "default_parameters": {},
   "duration": 35742.456486,
   "end_time": "2025-05-18T16:15:00.147357",
   "environment_variables": {},
   "exception": null,
   "input_path": "__notebook__.ipynb",
   "output_path": "__notebook__.ipynb",
   "parameters": {},
   "start_time": "2025-05-18T06:19:17.690871",
   "version": "2.6.0"
  }
 },
 "nbformat": 4,
 "nbformat_minor": 5
}
