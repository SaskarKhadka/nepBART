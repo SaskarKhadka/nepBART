{
 "cells": [
  {
   "cell_type": "code",
   "execution_count": 1,
   "id": "8c61c00b",
   "metadata": {
    "execution": {
     "iopub.execute_input": "2025-05-13T16:05:26.213204Z",
     "iopub.status.busy": "2025-05-13T16:05:26.212944Z",
     "iopub.status.idle": "2025-05-13T16:05:28.708360Z",
     "shell.execute_reply": "2025-05-13T16:05:28.707556Z"
    },
    "papermill": {
     "duration": 2.500658,
     "end_time": "2025-05-13T16:05:28.709857",
     "exception": false,
     "start_time": "2025-05-13T16:05:26.209199",
     "status": "completed"
    },
    "tags": []
   },
   "outputs": [],
   "source": [
    "!pip freeze > '/kaggle/working/requirements.txt'"
   ]
  },
  {
   "cell_type": "code",
   "execution_count": 2,
   "id": "3f2ea329",
   "metadata": {
    "execution": {
     "iopub.execute_input": "2025-05-13T16:05:28.716165Z",
     "iopub.status.busy": "2025-05-13T16:05:28.715715Z",
     "iopub.status.idle": "2025-05-13T16:05:39.924596Z",
     "shell.execute_reply": "2025-05-13T16:05:39.923656Z"
    },
    "papermill": {
     "duration": 11.213461,
     "end_time": "2025-05-13T16:05:39.926113",
     "exception": false,
     "start_time": "2025-05-13T16:05:28.712652",
     "status": "completed"
    },
    "tags": []
   },
   "outputs": [
    {
     "name": "stdout",
     "output_type": "stream",
     "text": [
      "\u001b[2K     \u001b[90m━━━━━━━━━━━━━━━━━━━━━━━━━━━━━━━━━━━━━━━━\u001b[0m \u001b[32m43.5/43.5 kB\u001b[0m \u001b[31m2.0 MB/s\u001b[0m eta \u001b[36m0:00:00\u001b[0m\r\n",
      "\u001b[2K   \u001b[90m━━━━━━━━━━━━━━━━━━━━━━━━━━━━━━━━━━━━━━━━\u001b[0m \u001b[32m10.1/10.1 MB\u001b[0m \u001b[31m90.2 MB/s\u001b[0m eta \u001b[36m0:00:00\u001b[0m\r\n",
      "\u001b[?25h"
     ]
    }
   ],
   "source": [
    "!pip install transformers==4.47.0 --quiet"
   ]
  },
  {
   "cell_type": "code",
   "execution_count": 3,
   "id": "de445b28",
   "metadata": {
    "_cell_guid": "b1076dfc-b9ad-4769-8c92-a6c4dae69d19",
    "_uuid": "8f2839f25d086af736a60e9eeb907d3b93b6e0e5",
    "execution": {
     "iopub.execute_input": "2025-05-13T16:05:39.933103Z",
     "iopub.status.busy": "2025-05-13T16:05:39.932424Z",
     "iopub.status.idle": "2025-05-13T16:06:06.835379Z",
     "shell.execute_reply": "2025-05-13T16:06:06.834793Z"
    },
    "papermill": {
     "duration": 26.90783,
     "end_time": "2025-05-13T16:06:06.836829",
     "exception": false,
     "start_time": "2025-05-13T16:05:39.928999",
     "status": "completed"
    },
    "tags": []
   },
   "outputs": [
    {
     "name": "stderr",
     "output_type": "stream",
     "text": [
      "2025-05-13 16:05:52.496543: E external/local_xla/xla/stream_executor/cuda/cuda_fft.cc:477] Unable to register cuFFT factory: Attempting to register factory for plugin cuFFT when one has already been registered\n",
      "WARNING: All log messages before absl::InitializeLog() is called are written to STDERR\n",
      "E0000 00:00:1747152352.686662      19 cuda_dnn.cc:8310] Unable to register cuDNN factory: Attempting to register factory for plugin cuDNN when one has already been registered\n",
      "E0000 00:00:1747152352.737962      19 cuda_blas.cc:1418] Unable to register cuBLAS factory: Attempting to register factory for plugin cuBLAS when one has already been registered\n"
     ]
    }
   ],
   "source": [
    "from transformers import BartTokenizerFast, BartForConditionalGeneration, BartConfig, TrainingArguments, Trainer\n",
    "import torch\n",
    "import transformers\n",
    "from datasets import load_dataset\n",
    "from torch.utils.data import DataLoader"
   ]
  },
  {
   "cell_type": "code",
   "execution_count": 4,
   "id": "bb586a3b",
   "metadata": {
    "execution": {
     "iopub.execute_input": "2025-05-13T16:06:06.843667Z",
     "iopub.status.busy": "2025-05-13T16:06:06.842913Z",
     "iopub.status.idle": "2025-05-13T16:06:06.982144Z",
     "shell.execute_reply": "2025-05-13T16:06:06.981462Z"
    },
    "papermill": {
     "duration": 0.143656,
     "end_time": "2025-05-13T16:06:06.983387",
     "exception": false,
     "start_time": "2025-05-13T16:06:06.839731",
     "status": "completed"
    },
    "tags": []
   },
   "outputs": [
    {
     "name": "stderr",
     "output_type": "stream",
     "text": [
      "The tokenizer class you load from this checkpoint is not the same type as the class this function is called from. It may result in unexpected tokenization. \n",
      "The tokenizer class you load from this checkpoint is 'PreTrainedTokenizerFast'. \n",
      "The class this function is called from is 'BartTokenizerFast'.\n"
     ]
    }
   ],
   "source": [
    "tokenizer = BartTokenizerFast.from_pretrained(\"/kaggle/input/nepbart-tokenizer/nepbart_tokenizer\")"
   ]
  },
  {
   "cell_type": "code",
   "execution_count": 5,
   "id": "9c9007b5",
   "metadata": {
    "execution": {
     "iopub.execute_input": "2025-05-13T16:06:06.991732Z",
     "iopub.status.busy": "2025-05-13T16:06:06.991155Z",
     "iopub.status.idle": "2025-05-13T16:06:06.995532Z",
     "shell.execute_reply": "2025-05-13T16:06:06.994799Z"
    },
    "papermill": {
     "duration": 0.00928,
     "end_time": "2025-05-13T16:06:06.996648",
     "exception": false,
     "start_time": "2025-05-13T16:06:06.987368",
     "status": "completed"
    },
    "tags": []
   },
   "outputs": [],
   "source": [
    "parameters = {\n",
    "    'VOCAB_SIZE': 32_768,\n",
    "    'SEQUENCE_LENGTH': 512,\n",
    "    'EMBEDDING_DIMENSION': 512,\n",
    "\n",
    "    'ENCODER_LAYERS': 6,\n",
    "    'ENCODER_ATTENTION_HEADS': 8,\n",
    "    'ENCODER_FFN_DIM': 2048,\n",
    "\n",
    "    'DECODER_LAYERS': 6,\n",
    "    'DECODER_ATTENTION_HEADS': 8,\n",
    "    'DECODER_FFN_DIM': 2048,\n",
    "\n",
    "    'DROPOUT': 0.1,\n",
    "\n",
    "    'TRAIN_BATCH_SIZE': 32,\n",
    "    'EVAL_BATCH_SIZE': 32,\n",
    "    'EPOCHS': 5,\n",
    "    'LEARNING_RATE': 1e-4,\n",
    "    'WARMUP_STEPS': 5_000,\n",
    "    'GRADIENT_ACCUMULATION_STEPS': 4,\n",
    "    'L2_REG': 0.01,\n",
    "    'MAX_STEPS': 123_000 # dataset_size / (BATCH*GRADIENT_ACCUMULATION_STEPS) \n",
    "}"
   ]
  },
  {
   "cell_type": "code",
   "execution_count": 6,
   "id": "05359b59",
   "metadata": {
    "execution": {
     "iopub.execute_input": "2025-05-13T16:06:07.002588Z",
     "iopub.status.busy": "2025-05-13T16:06:07.002162Z",
     "iopub.status.idle": "2025-05-13T16:06:07.005448Z",
     "shell.execute_reply": "2025-05-13T16:06:07.004786Z"
    },
    "papermill": {
     "duration": 0.007336,
     "end_time": "2025-05-13T16:06:07.006510",
     "exception": false,
     "start_time": "2025-05-13T16:06:06.999174",
     "status": "completed"
    },
    "tags": []
   },
   "outputs": [],
   "source": [
    "dataset_files = {\n",
    "    \"train\": \"/kaggle/input/nepbart-dataset-tokenized-masked-padded/nepbart_tokenized_masked_padded_train.parquet\",\n",
    "    \"eval\": \"/kaggle/input/nepbart-dataset-tokenized-masked-padded/nepbart_tokenized_masked_padded_test.parquet\"\n",
    "}"
   ]
  },
  {
   "cell_type": "code",
   "execution_count": 7,
   "id": "6df78245",
   "metadata": {
    "execution": {
     "iopub.execute_input": "2025-05-13T16:06:07.012936Z",
     "iopub.status.busy": "2025-05-13T16:06:07.012276Z",
     "iopub.status.idle": "2025-05-13T16:06:07.353207Z",
     "shell.execute_reply": "2025-05-13T16:06:07.352680Z"
    },
    "papermill": {
     "duration": 0.345284,
     "end_time": "2025-05-13T16:06:07.354520",
     "exception": false,
     "start_time": "2025-05-13T16:06:07.009236",
     "status": "completed"
    },
    "tags": []
   },
   "outputs": [],
   "source": [
    "dataset = load_dataset(\"parquet\", data_files=dataset_files, streaming=True)\n",
    "train_dataset = dataset[\"train\"].repeat(None)\n",
    "eval_dataset = dataset[\"eval\"]"
   ]
  },
  {
   "cell_type": "code",
   "execution_count": 8,
   "id": "80667be5",
   "metadata": {
    "execution": {
     "iopub.execute_input": "2025-05-13T16:06:07.360883Z",
     "iopub.status.busy": "2025-05-13T16:06:07.360651Z",
     "iopub.status.idle": "2025-05-13T16:06:07.364530Z",
     "shell.execute_reply": "2025-05-13T16:06:07.363845Z"
    },
    "papermill": {
     "duration": 0.008311,
     "end_time": "2025-05-13T16:06:07.365622",
     "exception": false,
     "start_time": "2025-05-13T16:06:07.357311",
     "status": "completed"
    },
    "tags": []
   },
   "outputs": [],
   "source": [
    "def collate_fn(batch: torch.tensor):\n",
    "    return {key: torch.tensor([(d[key]) for d in batch]) for key in batch[0]}"
   ]
  },
  {
   "cell_type": "code",
   "execution_count": 9,
   "id": "9e253774",
   "metadata": {
    "execution": {
     "iopub.execute_input": "2025-05-13T16:06:07.371455Z",
     "iopub.status.busy": "2025-05-13T16:06:07.371253Z",
     "iopub.status.idle": "2025-05-13T16:06:09.344781Z",
     "shell.execute_reply": "2025-05-13T16:06:09.343921Z"
    },
    "papermill": {
     "duration": 1.977902,
     "end_time": "2025-05-13T16:06:09.346177",
     "exception": false,
     "start_time": "2025-05-13T16:06:07.368275",
     "status": "completed"
    },
    "tags": []
   },
   "outputs": [],
   "source": [
    "model = BartForConditionalGeneration(\n",
    "    BartConfig(\n",
    "        vocab_size=parameters['VOCAB_SIZE'],\n",
    "        max_position_embeddings=parameters['SEQUENCE_LENGTH'],\n",
    "        encoder_layers=parameters['ENCODER_LAYERS'],\n",
    "        encoder_ffn_dim=parameters['ENCODER_FFN_DIM'],\n",
    "        encoder_attention_heads=parameters['ENCODER_ATTENTION_HEADS'],\n",
    "        decoder_layers=parameters['DECODER_LAYERS'],\n",
    "        decoder_ffn_dim=parameters['DECODER_FFN_DIM'],\n",
    "        decoder_attention_heads=parameters['DECODER_ATTENTION_HEADS'],\n",
    "        d_model=parameters['EMBEDDING_DIMENSION'],\n",
    "        dropout=parameters['DROPOUT'],\n",
    "        pad_token_id=tokenizer.pad_token_id,\n",
    "        bos_token_id=tokenizer.bos_token_id,\n",
    "        eos_token_id=tokenizer.eos_token_id,\n",
    "        is_encoder_decoder=True,\n",
    "        decoder_start_token_id=tokenizer.eos_token_id,\n",
    "    )\n",
    ")"
   ]
  },
  {
   "cell_type": "code",
   "execution_count": 10,
   "id": "1e7e1628",
   "metadata": {
    "execution": {
     "iopub.execute_input": "2025-05-13T16:06:09.352706Z",
     "iopub.status.busy": "2025-05-13T16:06:09.352440Z",
     "iopub.status.idle": "2025-05-13T16:06:09.474545Z",
     "shell.execute_reply": "2025-05-13T16:06:09.473713Z"
    },
    "papermill": {
     "duration": 0.126747,
     "end_time": "2025-05-13T16:06:09.475869",
     "exception": false,
     "start_time": "2025-05-13T16:06:09.349122",
     "status": "completed"
    },
    "tags": []
   },
   "outputs": [],
   "source": [
    "training_args = TrainingArguments(\n",
    "    output_dir='/kaggle/tmp/',\n",
    "    overwrite_output_dir=True,\n",
    "    # eval_strategy='epoch',\n",
    "    eval_strategy='steps',\n",
    "    eval_steps=10_000,\n",
    "    per_device_train_batch_size=parameters['TRAIN_BATCH_SIZE'],\n",
    "    per_device_eval_batch_size=parameters['EVAL_BATCH_SIZE'],\n",
    "    learning_rate=parameters['LEARNING_RATE'],\n",
    "    # num_train_epochs=parameters['EPOCHS'],\n",
    "    max_steps=parameters['MAX_STEPS'],\n",
    "    warmup_steps=parameters['WARMUP_STEPS'],\n",
    "    weight_decay=parameters['L2_REG'],\n",
    "    logging_dir=\"/kaggle/tmp/\",\n",
    "    logging_strategy=\"steps\",\n",
    "    save_strategy=\"steps\",\n",
    "    save_steps=10_000,\n",
    "    save_total_limit=2,\n",
    "    fp16=True,\n",
    "    num_train_epochs=2,\n",
    "    load_best_model_at_end=True,\n",
    "    metric_for_best_model=\"loss\",\n",
    "    greater_is_better=False,\n",
    "    report_to=\"none\",\n",
    ")\n"
   ]
  },
  {
   "cell_type": "code",
   "execution_count": 11,
   "id": "e7dd92a7",
   "metadata": {
    "execution": {
     "iopub.execute_input": "2025-05-13T16:06:09.482606Z",
     "iopub.status.busy": "2025-05-13T16:06:09.482045Z",
     "iopub.status.idle": "2025-05-13T16:06:09.736679Z",
     "shell.execute_reply": "2025-05-13T16:06:09.736097Z"
    },
    "papermill": {
     "duration": 0.259245,
     "end_time": "2025-05-13T16:06:09.738036",
     "exception": false,
     "start_time": "2025-05-13T16:06:09.478791",
     "status": "completed"
    },
    "tags": []
   },
   "outputs": [],
   "source": [
    "trainer = Trainer(\n",
    "    model=model,\n",
    "    args=training_args,\n",
    "    train_dataset=train_dataset,\n",
    "    eval_dataset=eval_dataset,\n",
    "    data_collator=collate_fn\n",
    ")"
   ]
  },
  {
   "cell_type": "code",
   "execution_count": 12,
   "id": "2114c938",
   "metadata": {
    "execution": {
     "iopub.execute_input": "2025-05-13T16:06:09.744693Z",
     "iopub.status.busy": "2025-05-13T16:06:09.744448Z",
     "iopub.status.idle": "2025-05-13T16:06:09.747718Z",
     "shell.execute_reply": "2025-05-13T16:06:09.747185Z"
    },
    "papermill": {
     "duration": 0.007669,
     "end_time": "2025-05-13T16:06:09.748726",
     "exception": false,
     "start_time": "2025-05-13T16:06:09.741057",
     "status": "completed"
    },
    "tags": []
   },
   "outputs": [],
   "source": [
    "import warnings\n",
    "warnings.simplefilter(action='ignore', category=FutureWarning)"
   ]
  },
  {
   "cell_type": "code",
   "execution_count": 13,
   "id": "9b12e2b7",
   "metadata": {
    "execution": {
     "iopub.execute_input": "2025-05-13T16:06:09.754939Z",
     "iopub.status.busy": "2025-05-13T16:06:09.754499Z",
     "iopub.status.idle": "2025-05-13T20:35:18.479375Z",
     "shell.execute_reply": "2025-05-13T20:35:18.478530Z"
    },
    "papermill": {
     "duration": 16148.729371,
     "end_time": "2025-05-13T20:35:18.480779",
     "exception": false,
     "start_time": "2025-05-13T16:06:09.751408",
     "status": "completed"
    },
    "tags": []
   },
   "outputs": [
    {
     "name": "stderr",
     "output_type": "stream",
     "text": [
      "There were missing keys in the checkpoint model loaded: ['model.encoder.embed_tokens.weight', 'model.decoder.embed_tokens.weight', 'lm_head.weight'].\n"
     ]
    },
    {
     "data": {
      "text/html": [
       "\n",
       "    <div>\n",
       "      \n",
       "      <progress value='123000' max='123000' style='width:300px; height:20px; vertical-align: middle;'></progress>\n",
       "      [123000/123000 3:31:31, Epoch 1/9223372036854775807]\n",
       "    </div>\n",
       "    <table border=\"1\" class=\"dataframe\">\n",
       "  <thead>\n",
       " <tr style=\"text-align: left;\">\n",
       "      <th>Step</th>\n",
       "      <th>Training Loss</th>\n",
       "      <th>Validation Loss</th>\n",
       "    </tr>\n",
       "  </thead>\n",
       "  <tbody>\n",
       "    <tr>\n",
       "      <td>120000</td>\n",
       "      <td>0.322500</td>\n",
       "      <td>0.310537</td>\n",
       "    </tr>\n",
       "  </tbody>\n",
       "</table><p>"
      ],
      "text/plain": [
       "<IPython.core.display.HTML object>"
      ]
     },
     "metadata": {},
     "output_type": "display_data"
    },
    {
     "name": "stderr",
     "output_type": "stream",
     "text": [
      "There were missing keys in the checkpoint model loaded: ['model.encoder.embed_tokens.weight', 'model.decoder.embed_tokens.weight', 'lm_head.weight'].\n"
     ]
    },
    {
     "data": {
      "text/plain": [
       "TrainOutput(global_step=123000, training_loss=0.01824139094158886, metrics={'train_runtime': 16142.2572, 'train_samples_per_second': 243.832, 'train_steps_per_second': 7.62, 'total_flos': 5.33720620597248e+17, 'train_loss': 0.01824139094158886, 'epoch': 1.0})"
      ]
     },
     "execution_count": 13,
     "metadata": {},
     "output_type": "execute_result"
    }
   ],
   "source": [
    "trainer.train(resume_from_checkpoint='/kaggle/input/nepbart-checkpoint-116000-steps/checkpoint-116000')"
   ]
  },
  {
   "cell_type": "code",
   "execution_count": 14,
   "id": "6d577e57",
   "metadata": {
    "execution": {
     "iopub.execute_input": "2025-05-13T20:35:18.489627Z",
     "iopub.status.busy": "2025-05-13T20:35:18.488879Z",
     "iopub.status.idle": "2025-05-13T21:36:12.786071Z",
     "shell.execute_reply": "2025-05-13T21:36:12.785228Z"
    },
    "papermill": {
     "duration": 3654.307086,
     "end_time": "2025-05-13T21:36:12.791537",
     "exception": false,
     "start_time": "2025-05-13T20:35:18.484451",
     "status": "completed"
    },
    "tags": []
   },
   "outputs": [
    {
     "name": "stdout",
     "output_type": "stream",
     "text": [
      "{'eval_loss': 0.3105374276638031, 'eval_runtime': 3654.2885, 'eval_samples_per_second': 70.677, 'eval_steps_per_second': 2.209, 'epoch': 1.0}\n"
     ]
    }
   ],
   "source": [
    "print(trainer.evaluate(eval_dataset))"
   ]
  },
  {
   "cell_type": "code",
   "execution_count": 15,
   "id": "5aeb00d5",
   "metadata": {
    "execution": {
     "iopub.execute_input": "2025-05-13T21:36:12.798874Z",
     "iopub.status.busy": "2025-05-13T21:36:12.798651Z",
     "iopub.status.idle": "2025-05-13T21:36:13.125968Z",
     "shell.execute_reply": "2025-05-13T21:36:13.125161Z"
    },
    "papermill": {
     "duration": 0.332727,
     "end_time": "2025-05-13T21:36:13.127464",
     "exception": false,
     "start_time": "2025-05-13T21:36:12.794737",
     "status": "completed"
    },
    "tags": []
   },
   "outputs": [],
   "source": [
    "trainer.save_model('/kaggle/tmp/final_model')"
   ]
  },
  {
   "cell_type": "code",
   "execution_count": 16,
   "id": "972536c3",
   "metadata": {
    "execution": {
     "iopub.execute_input": "2025-05-13T21:36:13.135229Z",
     "iopub.status.busy": "2025-05-13T21:36:13.135008Z",
     "iopub.status.idle": "2025-05-13T21:37:39.974781Z",
     "shell.execute_reply": "2025-05-13T21:37:39.973896Z"
    },
    "papermill": {
     "duration": 86.845163,
     "end_time": "2025-05-13T21:37:39.976303",
     "exception": false,
     "start_time": "2025-05-13T21:36:13.131140",
     "status": "completed"
    },
    "tags": []
   },
   "outputs": [],
   "source": [
    "import tarfile\n",
    "with tarfile.open(\"/kaggle/working/model_checkpoints.tar.gz\", \"w:gz\") as tar:\n",
    "    tar.add(\"/kaggle/tmp\", arcname=\"model_checkpoints\")"
   ]
  }
 ],
 "metadata": {
  "kaggle": {
   "accelerator": "none",
   "dataSources": [
    {
     "databundleVersionId": 12287432,
     "datasetId": 7409238,
     "sourceId": 11798645,
     "sourceType": "datasetVersion"
    },
    {
     "databundleVersionId": 12160056,
     "datasetId": 7334750,
     "sourceId": 11686223,
     "sourceType": "datasetVersion"
    },
    {
     "databundleVersionId": 12159975,
     "datasetId": 7334713,
     "sourceId": 11686155,
     "sourceType": "datasetVersion"
    }
   ],
   "dockerImageVersionId": 31012,
   "isGpuEnabled": false,
   "isInternetEnabled": true,
   "language": "python",
   "sourceType": "notebook"
  },
  "kernelspec": {
   "display_name": "Python 3",
   "language": "python",
   "name": "python3"
  },
  "language_info": {
   "codemirror_mode": {
    "name": "ipython",
    "version": 3
   },
   "file_extension": ".py",
   "mimetype": "text/x-python",
   "name": "python",
   "nbconvert_exporter": "python",
   "pygments_lexer": "ipython3",
   "version": "3.11.11"
  },
  "papermill": {
   "default_parameters": {},
   "duration": 19941.248269,
   "end_time": "2025-05-13T21:37:43.279280",
   "environment_variables": {},
   "exception": null,
   "input_path": "__notebook__.ipynb",
   "output_path": "__notebook__.ipynb",
   "parameters": {},
   "start_time": "2025-05-13T16:05:22.031011",
   "version": "2.6.0"
  }
 },
 "nbformat": 4,
 "nbformat_minor": 5
}
