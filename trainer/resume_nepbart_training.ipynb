{
 "cells": [
  {
   "cell_type": "code",
   "execution_count": 1,
   "id": "c26a46bc",
   "metadata": {
    "execution": {
     "iopub.execute_input": "2025-05-12T05:12:50.604946Z",
     "iopub.status.busy": "2025-05-12T05:12:50.604680Z",
     "iopub.status.idle": "2025-05-12T05:12:53.264174Z",
     "shell.execute_reply": "2025-05-12T05:12:53.263053Z"
    },
    "papermill": {
     "duration": 2.665227,
     "end_time": "2025-05-12T05:12:53.265903",
     "exception": false,
     "start_time": "2025-05-12T05:12:50.600676",
     "status": "completed"
    },
    "tags": []
   },
   "outputs": [],
   "source": [
    "!pip freeze > '/kaggle/working/requirements.txt'"
   ]
  },
  {
   "cell_type": "code",
   "execution_count": 2,
   "id": "b7b04c73",
   "metadata": {
    "execution": {
     "iopub.execute_input": "2025-05-12T05:12:53.272442Z",
     "iopub.status.busy": "2025-05-12T05:12:53.271828Z",
     "iopub.status.idle": "2025-05-12T05:13:04.774775Z",
     "shell.execute_reply": "2025-05-12T05:13:04.774051Z"
    },
    "papermill": {
     "duration": 11.507383,
     "end_time": "2025-05-12T05:13:04.776165",
     "exception": false,
     "start_time": "2025-05-12T05:12:53.268782",
     "status": "completed"
    },
    "tags": []
   },
   "outputs": [
    {
     "name": "stdout",
     "output_type": "stream",
     "text": [
      "\u001b[2K     \u001b[90m━━━━━━━━━━━━━━━━━━━━━━━━━━━━━━━━━━━━━━━━\u001b[0m \u001b[32m43.5/43.5 kB\u001b[0m \u001b[31m1.9 MB/s\u001b[0m eta \u001b[36m0:00:00\u001b[0m\r\n",
      "\u001b[2K   \u001b[90m━━━━━━━━━━━━━━━━━━━━━━━━━━━━━━━━━━━━━━━━\u001b[0m \u001b[32m10.1/10.1 MB\u001b[0m \u001b[31m42.7 MB/s\u001b[0m eta \u001b[36m0:00:00\u001b[0m\r\n",
      "\u001b[?25h"
     ]
    }
   ],
   "source": [
    "!pip install transformers==4.47.0 --quiet"
   ]
  },
  {
   "cell_type": "code",
   "execution_count": 3,
   "id": "2f14b632",
   "metadata": {
    "_cell_guid": "b1076dfc-b9ad-4769-8c92-a6c4dae69d19",
    "_uuid": "8f2839f25d086af736a60e9eeb907d3b93b6e0e5",
    "execution": {
     "iopub.execute_input": "2025-05-12T05:13:04.782920Z",
     "iopub.status.busy": "2025-05-12T05:13:04.782684Z",
     "iopub.status.idle": "2025-05-12T05:13:31.845031Z",
     "shell.execute_reply": "2025-05-12T05:13:31.844402Z"
    },
    "papermill": {
     "duration": 27.067243,
     "end_time": "2025-05-12T05:13:31.846341",
     "exception": false,
     "start_time": "2025-05-12T05:13:04.779098",
     "status": "completed"
    },
    "tags": []
   },
   "outputs": [
    {
     "name": "stderr",
     "output_type": "stream",
     "text": [
      "2025-05-12 05:13:17.548894: E external/local_xla/xla/stream_executor/cuda/cuda_fft.cc:477] Unable to register cuFFT factory: Attempting to register factory for plugin cuFFT when one has already been registered\n",
      "WARNING: All log messages before absl::InitializeLog() is called are written to STDERR\n",
      "E0000 00:00:1747026797.740893      18 cuda_dnn.cc:8310] Unable to register cuDNN factory: Attempting to register factory for plugin cuDNN when one has already been registered\n",
      "E0000 00:00:1747026797.794887      18 cuda_blas.cc:1418] Unable to register cuBLAS factory: Attempting to register factory for plugin cuBLAS when one has already been registered\n"
     ]
    }
   ],
   "source": [
    "from transformers import BartTokenizerFast, BartForConditionalGeneration, BartConfig, TrainingArguments, Trainer\n",
    "import torch\n",
    "import transformers\n",
    "from datasets import load_dataset\n",
    "from torch.utils.data import DataLoader"
   ]
  },
  {
   "cell_type": "code",
   "execution_count": 4,
   "id": "fc47b44f",
   "metadata": {
    "execution": {
     "iopub.execute_input": "2025-05-12T05:13:31.853577Z",
     "iopub.status.busy": "2025-05-12T05:13:31.852608Z",
     "iopub.status.idle": "2025-05-12T05:13:31.984876Z",
     "shell.execute_reply": "2025-05-12T05:13:31.983570Z"
    },
    "papermill": {
     "duration": 0.137581,
     "end_time": "2025-05-12T05:13:31.986863",
     "exception": false,
     "start_time": "2025-05-12T05:13:31.849282",
     "status": "completed"
    },
    "tags": []
   },
   "outputs": [
    {
     "name": "stderr",
     "output_type": "stream",
     "text": [
      "The tokenizer class you load from this checkpoint is not the same type as the class this function is called from. It may result in unexpected tokenization. \n",
      "The tokenizer class you load from this checkpoint is 'PreTrainedTokenizerFast'. \n",
      "The class this function is called from is 'BartTokenizerFast'.\n"
     ]
    }
   ],
   "source": [
    "tokenizer = BartTokenizerFast.from_pretrained(\"/kaggle/input/nepbart-tokenizer/nepbart_tokenizer\")"
   ]
  },
  {
   "cell_type": "code",
   "execution_count": 5,
   "id": "df785109",
   "metadata": {
    "execution": {
     "iopub.execute_input": "2025-05-12T05:13:31.996724Z",
     "iopub.status.busy": "2025-05-12T05:13:31.996422Z",
     "iopub.status.idle": "2025-05-12T05:13:32.001026Z",
     "shell.execute_reply": "2025-05-12T05:13:32.000516Z"
    },
    "papermill": {
     "duration": 0.009509,
     "end_time": "2025-05-12T05:13:32.002267",
     "exception": false,
     "start_time": "2025-05-12T05:13:31.992758",
     "status": "completed"
    },
    "tags": []
   },
   "outputs": [],
   "source": [
    "parameters = {\n",
    "    'VOCAB_SIZE': 32_768,\n",
    "    'SEQUENCE_LENGTH': 512,\n",
    "    'EMBEDDING_DIMENSION': 512,\n",
    "\n",
    "    'ENCODER_LAYERS': 6,\n",
    "    'ENCODER_ATTENTION_HEADS': 8,\n",
    "    'ENCODER_FFN_DIM': 2048,\n",
    "\n",
    "    'DECODER_LAYERS': 6,\n",
    "    'DECODER_ATTENTION_HEADS': 8,\n",
    "    'DECODER_FFN_DIM': 2048,\n",
    "\n",
    "    'DROPOUT': 0.1,\n",
    "\n",
    "    'TRAIN_BATCH_SIZE': 32,\n",
    "    'EVAL_BATCH_SIZE': 32,\n",
    "    'EPOCHS': 5,\n",
    "    'LEARNING_RATE': 1e-4,\n",
    "    'WARMUP_STEPS': 5_000,\n",
    "    'GRADIENT_ACCUMULATION_STEPS': 4,\n",
    "    'L2_REG': 0.01,\n",
    "    'MAX_STEPS': 101_000 # dataset_size / (BATCH*GRADIENT_ACCUMULATION_STEPS) \n",
    "}"
   ]
  },
  {
   "cell_type": "code",
   "execution_count": 6,
   "id": "75d1e448",
   "metadata": {
    "execution": {
     "iopub.execute_input": "2025-05-12T05:13:32.008862Z",
     "iopub.status.busy": "2025-05-12T05:13:32.008403Z",
     "iopub.status.idle": "2025-05-12T05:13:32.011443Z",
     "shell.execute_reply": "2025-05-12T05:13:32.010991Z"
    },
    "papermill": {
     "duration": 0.007586,
     "end_time": "2025-05-12T05:13:32.012554",
     "exception": false,
     "start_time": "2025-05-12T05:13:32.004968",
     "status": "completed"
    },
    "tags": []
   },
   "outputs": [],
   "source": [
    "dataset_files = {\n",
    "    \"train\": \"/kaggle/input/nepbart-dataset-tokenized-masked-padded/nepbart_tokenized_masked_padded_train.parquet\",\n",
    "    \"eval\": \"/kaggle/input/nepbart-dataset-tokenized-masked-padded/nepbart_tokenized_masked_padded_test.parquet\"\n",
    "}"
   ]
  },
  {
   "cell_type": "code",
   "execution_count": 7,
   "id": "0d9babd4",
   "metadata": {
    "execution": {
     "iopub.execute_input": "2025-05-12T05:13:32.024507Z",
     "iopub.status.busy": "2025-05-12T05:13:32.023701Z",
     "iopub.status.idle": "2025-05-12T05:13:32.419404Z",
     "shell.execute_reply": "2025-05-12T05:13:32.418832Z"
    },
    "papermill": {
     "duration": 0.403347,
     "end_time": "2025-05-12T05:13:32.420777",
     "exception": false,
     "start_time": "2025-05-12T05:13:32.017430",
     "status": "completed"
    },
    "tags": []
   },
   "outputs": [],
   "source": [
    "dataset = load_dataset(\"parquet\", data_files=dataset_files, streaming=True)\n",
    "train_dataset = dataset[\"train\"].repeat(None)\n",
    "eval_dataset = dataset[\"eval\"]"
   ]
  },
  {
   "cell_type": "code",
   "execution_count": 8,
   "id": "bfa850f1",
   "metadata": {
    "execution": {
     "iopub.execute_input": "2025-05-12T05:13:32.427519Z",
     "iopub.status.busy": "2025-05-12T05:13:32.427109Z",
     "iopub.status.idle": "2025-05-12T05:13:32.430944Z",
     "shell.execute_reply": "2025-05-12T05:13:32.430249Z"
    },
    "papermill": {
     "duration": 0.00826,
     "end_time": "2025-05-12T05:13:32.431986",
     "exception": false,
     "start_time": "2025-05-12T05:13:32.423726",
     "status": "completed"
    },
    "tags": []
   },
   "outputs": [],
   "source": [
    "def collate_fn(batch: torch.tensor):\n",
    "    return {key: torch.tensor([(d[key]) for d in batch]) for key in batch[0]}"
   ]
  },
  {
   "cell_type": "code",
   "execution_count": 9,
   "id": "34eb93b2",
   "metadata": {
    "execution": {
     "iopub.execute_input": "2025-05-12T05:13:32.438638Z",
     "iopub.status.busy": "2025-05-12T05:13:32.437975Z",
     "iopub.status.idle": "2025-05-12T05:13:34.199282Z",
     "shell.execute_reply": "2025-05-12T05:13:34.198460Z"
    },
    "papermill": {
     "duration": 1.765944,
     "end_time": "2025-05-12T05:13:34.200741",
     "exception": false,
     "start_time": "2025-05-12T05:13:32.434797",
     "status": "completed"
    },
    "tags": []
   },
   "outputs": [],
   "source": [
    "model = BartForConditionalGeneration(\n",
    "    BartConfig(\n",
    "        vocab_size=parameters['VOCAB_SIZE'],\n",
    "        max_position_embeddings=parameters['SEQUENCE_LENGTH'],\n",
    "        encoder_layers=parameters['ENCODER_LAYERS'],\n",
    "        encoder_ffn_dim=parameters['ENCODER_FFN_DIM'],\n",
    "        encoder_attention_heads=parameters['ENCODER_ATTENTION_HEADS'],\n",
    "        decoder_layers=parameters['DECODER_LAYERS'],\n",
    "        decoder_ffn_dim=parameters['DECODER_FFN_DIM'],\n",
    "        decoder_attention_heads=parameters['DECODER_ATTENTION_HEADS'],\n",
    "        d_model=parameters['EMBEDDING_DIMENSION'],\n",
    "        dropout=parameters['DROPOUT'],\n",
    "        pad_token_id=tokenizer.pad_token_id,\n",
    "        bos_token_id=tokenizer.bos_token_id,\n",
    "        eos_token_id=tokenizer.eos_token_id,\n",
    "        is_encoder_decoder=True,\n",
    "        decoder_start_token_id=tokenizer.eos_token_id,\n",
    "    )\n",
    ")"
   ]
  },
  {
   "cell_type": "code",
   "execution_count": 10,
   "id": "5ed76b33",
   "metadata": {
    "execution": {
     "iopub.execute_input": "2025-05-12T05:13:34.207644Z",
     "iopub.status.busy": "2025-05-12T05:13:34.207381Z",
     "iopub.status.idle": "2025-05-12T05:13:34.320806Z",
     "shell.execute_reply": "2025-05-12T05:13:34.319993Z"
    },
    "papermill": {
     "duration": 0.118329,
     "end_time": "2025-05-12T05:13:34.322241",
     "exception": false,
     "start_time": "2025-05-12T05:13:34.203912",
     "status": "completed"
    },
    "tags": []
   },
   "outputs": [],
   "source": [
    "training_args = TrainingArguments(\n",
    "    output_dir='/kaggle/tmp/',\n",
    "    overwrite_output_dir=True,\n",
    "    # eval_strategy='epoch',\n",
    "    eval_strategy='steps',\n",
    "    eval_steps=10_000,\n",
    "    per_device_train_batch_size=parameters['TRAIN_BATCH_SIZE'],\n",
    "    per_device_eval_batch_size=parameters['EVAL_BATCH_SIZE'],\n",
    "    learning_rate=parameters['LEARNING_RATE'],\n",
    "    # num_train_epochs=parameters['EPOCHS'],\n",
    "    max_steps=parameters['MAX_STEPS'],\n",
    "    warmup_steps=parameters['WARMUP_STEPS'],\n",
    "    weight_decay=parameters['L2_REG'],\n",
    "    logging_dir=\"/kaggle/tmp/\",\n",
    "    logging_strategy=\"steps\",\n",
    "    save_strategy=\"steps\",\n",
    "    save_steps=10_000,\n",
    "    save_total_limit=2,\n",
    "    fp16=True,\n",
    "    num_train_epochs=2,\n",
    "    load_best_model_at_end=True,\n",
    "    metric_for_best_model=\"loss\",\n",
    "    greater_is_better=False,\n",
    "    report_to=\"none\",\n",
    ")\n"
   ]
  },
  {
   "cell_type": "code",
   "execution_count": 11,
   "id": "09466f18",
   "metadata": {
    "execution": {
     "iopub.execute_input": "2025-05-12T05:13:34.329282Z",
     "iopub.status.busy": "2025-05-12T05:13:34.329027Z",
     "iopub.status.idle": "2025-05-12T05:13:34.589090Z",
     "shell.execute_reply": "2025-05-12T05:13:34.588512Z"
    },
    "papermill": {
     "duration": 0.264926,
     "end_time": "2025-05-12T05:13:34.590355",
     "exception": false,
     "start_time": "2025-05-12T05:13:34.325429",
     "status": "completed"
    },
    "tags": []
   },
   "outputs": [],
   "source": [
    "trainer = Trainer(\n",
    "    model=model,\n",
    "    args=training_args,\n",
    "    train_dataset=train_dataset,\n",
    "    eval_dataset=eval_dataset,\n",
    "    data_collator=collate_fn\n",
    ")"
   ]
  },
  {
   "cell_type": "code",
   "execution_count": 12,
   "id": "c40f916a",
   "metadata": {
    "execution": {
     "iopub.execute_input": "2025-05-12T05:13:34.597264Z",
     "iopub.status.busy": "2025-05-12T05:13:34.597018Z",
     "iopub.status.idle": "2025-05-12T05:13:34.600542Z",
     "shell.execute_reply": "2025-05-12T05:13:34.599965Z"
    },
    "papermill": {
     "duration": 0.00813,
     "end_time": "2025-05-12T05:13:34.601593",
     "exception": false,
     "start_time": "2025-05-12T05:13:34.593463",
     "status": "completed"
    },
    "tags": []
   },
   "outputs": [],
   "source": [
    "import warnings\n",
    "warnings.simplefilter(action='ignore', category=FutureWarning)"
   ]
  },
  {
   "cell_type": "code",
   "execution_count": 13,
   "id": "4434a593",
   "metadata": {
    "execution": {
     "iopub.execute_input": "2025-05-12T05:13:34.608479Z",
     "iopub.status.busy": "2025-05-12T05:13:34.607950Z",
     "iopub.status.idle": "2025-05-12T12:38:45.042207Z",
     "shell.execute_reply": "2025-05-12T12:38:45.041428Z"
    },
    "papermill": {
     "duration": 26710.439194,
     "end_time": "2025-05-12T12:38:45.043768",
     "exception": false,
     "start_time": "2025-05-12T05:13:34.604574",
     "status": "completed"
    },
    "tags": []
   },
   "outputs": [
    {
     "name": "stderr",
     "output_type": "stream",
     "text": [
      "There were missing keys in the checkpoint model loaded: ['model.encoder.embed_tokens.weight', 'model.decoder.embed_tokens.weight', 'lm_head.weight'].\n"
     ]
    },
    {
     "data": {
      "text/html": [
       "\n",
       "    <div>\n",
       "      \n",
       "      <progress value='101000' max='101000' style='width:300px; height:20px; vertical-align: middle;'></progress>\n",
       "      [101000/101000 6:41:13, Epoch 1/9223372036854775807]\n",
       "    </div>\n",
       "    <table border=\"1\" class=\"dataframe\">\n",
       "  <thead>\n",
       " <tr style=\"text-align: left;\">\n",
       "      <th>Step</th>\n",
       "      <th>Training Loss</th>\n",
       "      <th>Validation Loss</th>\n",
       "    </tr>\n",
       "  </thead>\n",
       "  <tbody>\n",
       "    <tr>\n",
       "      <td>90000</td>\n",
       "      <td>0.331200</td>\n",
       "      <td>0.320319</td>\n",
       "    </tr>\n",
       "    <tr>\n",
       "      <td>100000</td>\n",
       "      <td>0.325600</td>\n",
       "      <td>0.315342</td>\n",
       "    </tr>\n",
       "  </tbody>\n",
       "</table><p>"
      ],
      "text/plain": [
       "<IPython.core.display.HTML object>"
      ]
     },
     "metadata": {},
     "output_type": "display_data"
    },
    {
     "name": "stderr",
     "output_type": "stream",
     "text": [
      "There were missing keys in the checkpoint model loaded: ['model.encoder.embed_tokens.weight', 'model.decoder.embed_tokens.weight', 'lm_head.weight'].\n"
     ]
    },
    {
     "data": {
      "text/plain": [
       "TrainOutput(global_step=101000, training_loss=0.0420670492342203, metrics={'train_runtime': 26700.9104, 'train_samples_per_second': 121.045, 'train_steps_per_second': 3.783, 'total_flos': 4.38258395774976e+17, 'train_loss': 0.0420670492342203, 'epoch': 1.0})"
      ]
     },
     "execution_count": 13,
     "metadata": {},
     "output_type": "execute_result"
    }
   ],
   "source": [
    "trainer.train(resume_from_checkpoint='/kaggle/input/nepbart-checkpoint-88000-steps/checkpoint-88000')"
   ]
  },
  {
   "cell_type": "code",
   "execution_count": 14,
   "id": "37e4dbf1",
   "metadata": {
    "execution": {
     "iopub.execute_input": "2025-05-12T12:38:45.051901Z",
     "iopub.status.busy": "2025-05-12T12:38:45.051544Z",
     "iopub.status.idle": "2025-05-12T13:39:19.885312Z",
     "shell.execute_reply": "2025-05-12T13:39:19.884353Z"
    },
    "papermill": {
     "duration": 3634.843009,
     "end_time": "2025-05-12T13:39:19.890329",
     "exception": false,
     "start_time": "2025-05-12T12:38:45.047320",
     "status": "completed"
    },
    "tags": []
   },
   "outputs": [
    {
     "name": "stdout",
     "output_type": "stream",
     "text": [
      "{'eval_loss': 0.3153419494628906, 'eval_runtime': 3634.825, 'eval_samples_per_second': 71.055, 'eval_steps_per_second': 2.221, 'epoch': 1.0}\n"
     ]
    }
   ],
   "source": [
    "print(trainer.evaluate(eval_dataset))"
   ]
  },
  {
   "cell_type": "code",
   "execution_count": 15,
   "id": "92455429",
   "metadata": {
    "execution": {
     "iopub.execute_input": "2025-05-12T13:39:19.897618Z",
     "iopub.status.busy": "2025-05-12T13:39:19.897373Z",
     "iopub.status.idle": "2025-05-12T13:39:20.208353Z",
     "shell.execute_reply": "2025-05-12T13:39:20.207792Z"
    },
    "papermill": {
     "duration": 0.316127,
     "end_time": "2025-05-12T13:39:20.209712",
     "exception": false,
     "start_time": "2025-05-12T13:39:19.893585",
     "status": "completed"
    },
    "tags": []
   },
   "outputs": [],
   "source": [
    "trainer.save_model('/kaggle/tmp/final_model')"
   ]
  },
  {
   "cell_type": "code",
   "execution_count": 16,
   "id": "7d037e30",
   "metadata": {
    "execution": {
     "iopub.execute_input": "2025-05-12T13:39:20.217199Z",
     "iopub.status.busy": "2025-05-12T13:39:20.216984Z",
     "iopub.status.idle": "2025-05-12T13:40:45.983465Z",
     "shell.execute_reply": "2025-05-12T13:40:45.982639Z"
    },
    "papermill": {
     "duration": 85.772054,
     "end_time": "2025-05-12T13:40:45.985207",
     "exception": false,
     "start_time": "2025-05-12T13:39:20.213153",
     "status": "completed"
    },
    "tags": []
   },
   "outputs": [],
   "source": [
    "import tarfile\n",
    "with tarfile.open(\"/kaggle/working/model_checkpoints.tar.gz\", \"w:gz\") as tar:\n",
    "    tar.add(\"/kaggle/tmp\", arcname=\"model_checkpoints\")"
   ]
  }
 ],
 "metadata": {
  "kaggle": {
   "accelerator": "none",
   "dataSources": [
    {
     "datasetId": 7334713,
     "sourceId": 11686155,
     "sourceType": "datasetVersion"
    },
    {
     "datasetId": 7334750,
     "sourceId": 11686223,
     "sourceType": "datasetVersion"
    },
    {
     "datasetId": 7393954,
     "sourceId": 11777236,
     "sourceType": "datasetVersion"
    }
   ],
   "dockerImageVersionId": 31012,
   "isGpuEnabled": false,
   "isInternetEnabled": true,
   "language": "python",
   "sourceType": "notebook"
  },
  "kernelspec": {
   "display_name": "Python 3",
   "language": "python",
   "name": "python3"
  },
  "language_info": {
   "codemirror_mode": {
    "name": "ipython",
    "version": 3
   },
   "file_extension": ".py",
   "mimetype": "text/x-python",
   "name": "python",
   "nbconvert_exporter": "python",
   "pygments_lexer": "ipython3",
   "version": "3.11.11"
  },
  "papermill": {
   "default_parameters": {},
   "duration": 30483.406582,
   "end_time": "2025-05-12T13:40:49.889640",
   "environment_variables": {},
   "exception": null,
   "input_path": "__notebook__.ipynb",
   "output_path": "__notebook__.ipynb",
   "parameters": {},
   "start_time": "2025-05-12T05:12:46.483058",
   "version": "2.6.0"
  }
 },
 "nbformat": 4,
 "nbformat_minor": 5
}
