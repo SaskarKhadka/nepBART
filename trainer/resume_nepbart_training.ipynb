{
 "cells": [
  {
   "cell_type": "code",
   "execution_count": 1,
   "id": "1e3d82fb",
   "metadata": {
    "execution": {
     "iopub.execute_input": "2025-05-10T05:25:33.095979Z",
     "iopub.status.busy": "2025-05-10T05:25:33.095764Z",
     "iopub.status.idle": "2025-05-10T05:25:35.637704Z",
     "shell.execute_reply": "2025-05-10T05:25:35.636665Z"
    },
    "papermill": {
     "duration": 2.547062,
     "end_time": "2025-05-10T05:25:35.639339",
     "exception": false,
     "start_time": "2025-05-10T05:25:33.092277",
     "status": "completed"
    },
    "tags": []
   },
   "outputs": [],
   "source": [
    "!pip freeze > '/kaggle/working/requirements.txt'"
   ]
  },
  {
   "cell_type": "code",
   "execution_count": 2,
   "id": "d0698adb",
   "metadata": {
    "execution": {
     "iopub.execute_input": "2025-05-10T05:25:35.645765Z",
     "iopub.status.busy": "2025-05-10T05:25:35.645127Z",
     "iopub.status.idle": "2025-05-10T05:25:46.661342Z",
     "shell.execute_reply": "2025-05-10T05:25:46.660597Z"
    },
    "papermill": {
     "duration": 11.020643,
     "end_time": "2025-05-10T05:25:46.662690",
     "exception": false,
     "start_time": "2025-05-10T05:25:35.642047",
     "status": "completed"
    },
    "tags": []
   },
   "outputs": [
    {
     "name": "stdout",
     "output_type": "stream",
     "text": [
      "\u001b[2K     \u001b[90m━━━━━━━━━━━━━━━━━━━━━━━━━━━━━━━━━━━━━━━━\u001b[0m \u001b[32m43.5/43.5 kB\u001b[0m \u001b[31m2.0 MB/s\u001b[0m eta \u001b[36m0:00:00\u001b[0m\r\n",
      "\u001b[2K   \u001b[90m━━━━━━━━━━━━━━━━━━━━━━━━━━━━━━━━━━━━━━━━\u001b[0m \u001b[32m10.1/10.1 MB\u001b[0m \u001b[31m95.7 MB/s\u001b[0m eta \u001b[36m0:00:00\u001b[0m\r\n",
      "\u001b[?25h"
     ]
    }
   ],
   "source": [
    "!pip install transformers==4.47.0 --quiet"
   ]
  },
  {
   "cell_type": "code",
   "execution_count": 3,
   "id": "a01e53ad",
   "metadata": {
    "_cell_guid": "b1076dfc-b9ad-4769-8c92-a6c4dae69d19",
    "_uuid": "8f2839f25d086af736a60e9eeb907d3b93b6e0e5",
    "execution": {
     "iopub.execute_input": "2025-05-10T05:25:46.669139Z",
     "iopub.status.busy": "2025-05-10T05:25:46.668893Z",
     "iopub.status.idle": "2025-05-10T05:26:12.751239Z",
     "shell.execute_reply": "2025-05-10T05:26:12.750482Z"
    },
    "papermill": {
     "duration": 26.08722,
     "end_time": "2025-05-10T05:26:12.752675",
     "exception": false,
     "start_time": "2025-05-10T05:25:46.665455",
     "status": "completed"
    },
    "tags": []
   },
   "outputs": [
    {
     "name": "stderr",
     "output_type": "stream",
     "text": [
      "2025-05-10 05:25:58.760977: E external/local_xla/xla/stream_executor/cuda/cuda_fft.cc:477] Unable to register cuFFT factory: Attempting to register factory for plugin cuFFT when one has already been registered\n",
      "WARNING: All log messages before absl::InitializeLog() is called are written to STDERR\n",
      "E0000 00:00:1746854758.951446      19 cuda_dnn.cc:8310] Unable to register cuDNN factory: Attempting to register factory for plugin cuDNN when one has already been registered\n",
      "E0000 00:00:1746854759.006984      19 cuda_blas.cc:1418] Unable to register cuBLAS factory: Attempting to register factory for plugin cuBLAS when one has already been registered\n"
     ]
    }
   ],
   "source": [
    "from transformers import BartTokenizerFast, BartForConditionalGeneration, BartConfig, TrainingArguments, Trainer\n",
    "import torch\n",
    "import transformers\n",
    "from datasets import load_dataset\n",
    "from torch.utils.data import DataLoader"
   ]
  },
  {
   "cell_type": "code",
   "execution_count": 4,
   "id": "cf054f86",
   "metadata": {
    "execution": {
     "iopub.execute_input": "2025-05-10T05:26:12.759762Z",
     "iopub.status.busy": "2025-05-10T05:26:12.758862Z",
     "iopub.status.idle": "2025-05-10T05:26:12.901174Z",
     "shell.execute_reply": "2025-05-10T05:26:12.900382Z"
    },
    "papermill": {
     "duration": 0.147032,
     "end_time": "2025-05-10T05:26:12.902483",
     "exception": false,
     "start_time": "2025-05-10T05:26:12.755451",
     "status": "completed"
    },
    "tags": []
   },
   "outputs": [
    {
     "name": "stderr",
     "output_type": "stream",
     "text": [
      "The tokenizer class you load from this checkpoint is not the same type as the class this function is called from. It may result in unexpected tokenization. \n",
      "The tokenizer class you load from this checkpoint is 'PreTrainedTokenizerFast'. \n",
      "The class this function is called from is 'BartTokenizerFast'.\n"
     ]
    }
   ],
   "source": [
    "tokenizer = BartTokenizerFast.from_pretrained(\"/kaggle/input/nepbart-tokenizer/nepbart_tokenizer\")"
   ]
  },
  {
   "cell_type": "code",
   "execution_count": 5,
   "id": "784362ac",
   "metadata": {
    "execution": {
     "iopub.execute_input": "2025-05-10T05:26:12.910200Z",
     "iopub.status.busy": "2025-05-10T05:26:12.909603Z",
     "iopub.status.idle": "2025-05-10T05:26:12.913989Z",
     "shell.execute_reply": "2025-05-10T05:26:12.913291Z"
    },
    "papermill": {
     "duration": 0.009907,
     "end_time": "2025-05-10T05:26:12.915144",
     "exception": false,
     "start_time": "2025-05-10T05:26:12.905237",
     "status": "completed"
    },
    "tags": []
   },
   "outputs": [],
   "source": [
    "parameters = {\n",
    "    'VOCAB_SIZE': 32_768,\n",
    "    'SEQUENCE_LENGTH': 512,\n",
    "    'EMBEDDING_DIMENSION': 512,\n",
    "\n",
    "    'ENCODER_LAYERS': 6,\n",
    "    'ENCODER_ATTENTION_HEADS': 8,\n",
    "    'ENCODER_FFN_DIM': 2048,\n",
    "\n",
    "    'DECODER_LAYERS': 6,\n",
    "    'DECODER_ATTENTION_HEADS': 8,\n",
    "    'DECODER_FFN_DIM': 2048,\n",
    "\n",
    "    'DROPOUT': 0.1,\n",
    "\n",
    "    'TRAIN_BATCH_SIZE': 32,\n",
    "    'EVAL_BATCH_SIZE': 32,\n",
    "    'EPOCHS': 5,\n",
    "    'LEARNING_RATE': 1e-4,\n",
    "    'WARMUP_STEPS': 5_000,\n",
    "    'GRADIENT_ACCUMULATION_STEPS': 4,\n",
    "    'L2_REG': 0.01,\n",
    "    'MAX_STEPS': 88_000 # dataset_size / (BATCH*GRADIENT_ACCUMULATION_STEPS) \n",
    "}"
   ]
  },
  {
   "cell_type": "code",
   "execution_count": 6,
   "id": "75c175d8",
   "metadata": {
    "execution": {
     "iopub.execute_input": "2025-05-10T05:26:12.920786Z",
     "iopub.status.busy": "2025-05-10T05:26:12.920555Z",
     "iopub.status.idle": "2025-05-10T05:26:12.923810Z",
     "shell.execute_reply": "2025-05-10T05:26:12.923111Z"
    },
    "papermill": {
     "duration": 0.007547,
     "end_time": "2025-05-10T05:26:12.925184",
     "exception": false,
     "start_time": "2025-05-10T05:26:12.917637",
     "status": "completed"
    },
    "tags": []
   },
   "outputs": [],
   "source": [
    "dataset_files = {\n",
    "    \"train\": \"/kaggle/input/nepbart-dataset-tokenized-masked-padded/nepbart_tokenized_masked_padded_train.parquet\",\n",
    "    \"eval\": \"/kaggle/input/nepbart-dataset-tokenized-masked-padded/nepbart_tokenized_masked_padded_test.parquet\"\n",
    "}"
   ]
  },
  {
   "cell_type": "code",
   "execution_count": 7,
   "id": "21878b8b",
   "metadata": {
    "execution": {
     "iopub.execute_input": "2025-05-10T05:26:12.934658Z",
     "iopub.status.busy": "2025-05-10T05:26:12.934436Z",
     "iopub.status.idle": "2025-05-10T05:26:13.315219Z",
     "shell.execute_reply": "2025-05-10T05:26:13.314705Z"
    },
    "papermill": {
     "duration": 0.386762,
     "end_time": "2025-05-10T05:26:13.316325",
     "exception": false,
     "start_time": "2025-05-10T05:26:12.929563",
     "status": "completed"
    },
    "tags": []
   },
   "outputs": [],
   "source": [
    "dataset = load_dataset(\"parquet\", data_files=dataset_files, streaming=True)\n",
    "train_dataset = dataset[\"train\"].repeat(None)\n",
    "eval_dataset = dataset[\"eval\"]"
   ]
  },
  {
   "cell_type": "code",
   "execution_count": 8,
   "id": "569f5044",
   "metadata": {
    "execution": {
     "iopub.execute_input": "2025-05-10T05:26:13.322479Z",
     "iopub.status.busy": "2025-05-10T05:26:13.322050Z",
     "iopub.status.idle": "2025-05-10T05:26:13.325527Z",
     "shell.execute_reply": "2025-05-10T05:26:13.325055Z"
    },
    "papermill": {
     "duration": 0.007635,
     "end_time": "2025-05-10T05:26:13.326637",
     "exception": false,
     "start_time": "2025-05-10T05:26:13.319002",
     "status": "completed"
    },
    "tags": []
   },
   "outputs": [],
   "source": [
    "def collate_fn(batch: torch.tensor):\n",
    "    return {key: torch.tensor([(d[key]) for d in batch]) for key in batch[0]}"
   ]
  },
  {
   "cell_type": "code",
   "execution_count": 9,
   "id": "3cf3faac",
   "metadata": {
    "execution": {
     "iopub.execute_input": "2025-05-10T05:26:13.332872Z",
     "iopub.status.busy": "2025-05-10T05:26:13.332414Z",
     "iopub.status.idle": "2025-05-10T05:26:15.108958Z",
     "shell.execute_reply": "2025-05-10T05:26:15.108311Z"
    },
    "papermill": {
     "duration": 1.781043,
     "end_time": "2025-05-10T05:26:15.110310",
     "exception": false,
     "start_time": "2025-05-10T05:26:13.329267",
     "status": "completed"
    },
    "tags": []
   },
   "outputs": [],
   "source": [
    "model = BartForConditionalGeneration(\n",
    "    BartConfig(\n",
    "        vocab_size=parameters['VOCAB_SIZE'],\n",
    "        max_position_embeddings=parameters['SEQUENCE_LENGTH'],\n",
    "        encoder_layers=parameters['ENCODER_LAYERS'],\n",
    "        encoder_ffn_dim=parameters['ENCODER_FFN_DIM'],\n",
    "        encoder_attention_heads=parameters['ENCODER_ATTENTION_HEADS'],\n",
    "        decoder_layers=parameters['DECODER_LAYERS'],\n",
    "        decoder_ffn_dim=parameters['DECODER_FFN_DIM'],\n",
    "        decoder_attention_heads=parameters['DECODER_ATTENTION_HEADS'],\n",
    "        d_model=parameters['EMBEDDING_DIMENSION'],\n",
    "        dropout=parameters['DROPOUT'],\n",
    "        pad_token_id=tokenizer.pad_token_id,\n",
    "        bos_token_id=tokenizer.bos_token_id,\n",
    "        eos_token_id=tokenizer.eos_token_id,\n",
    "        is_encoder_decoder=True,\n",
    "        decoder_start_token_id=tokenizer.eos_token_id,\n",
    "    )\n",
    ")"
   ]
  },
  {
   "cell_type": "code",
   "execution_count": 10,
   "id": "119f676f",
   "metadata": {
    "execution": {
     "iopub.execute_input": "2025-05-10T05:26:15.116818Z",
     "iopub.status.busy": "2025-05-10T05:26:15.116600Z",
     "iopub.status.idle": "2025-05-10T05:26:15.219767Z",
     "shell.execute_reply": "2025-05-10T05:26:15.219191Z"
    },
    "papermill": {
     "duration": 0.107765,
     "end_time": "2025-05-10T05:26:15.221066",
     "exception": false,
     "start_time": "2025-05-10T05:26:15.113301",
     "status": "completed"
    },
    "tags": []
   },
   "outputs": [],
   "source": [
    "training_args = TrainingArguments(\n",
    "    output_dir='/kaggle/tmp/',\n",
    "    overwrite_output_dir=True,\n",
    "    # eval_strategy='epoch',\n",
    "    eval_strategy='steps',\n",
    "    eval_steps=10_000,\n",
    "    per_device_train_batch_size=parameters['TRAIN_BATCH_SIZE'],\n",
    "    per_device_eval_batch_size=parameters['EVAL_BATCH_SIZE'],\n",
    "    learning_rate=parameters['LEARNING_RATE'],\n",
    "    # num_train_epochs=parameters['EPOCHS'],\n",
    "    max_steps=parameters['MAX_STEPS'],\n",
    "    warmup_steps=parameters['WARMUP_STEPS'],\n",
    "    weight_decay=parameters['L2_REG'],\n",
    "    logging_dir=\"/kaggle/tmp/\",\n",
    "    logging_strategy=\"steps\",\n",
    "    save_strategy=\"steps\",\n",
    "    save_steps=10_000,\n",
    "    save_total_limit=2,\n",
    "    fp16=True,\n",
    "    num_train_epochs=2,\n",
    "    load_best_model_at_end=True,\n",
    "    metric_for_best_model=\"loss\",\n",
    "    greater_is_better=False,\n",
    "    report_to=\"none\",\n",
    ")\n"
   ]
  },
  {
   "cell_type": "code",
   "execution_count": 11,
   "id": "40fe5562",
   "metadata": {
    "execution": {
     "iopub.execute_input": "2025-05-10T05:26:15.227650Z",
     "iopub.status.busy": "2025-05-10T05:26:15.227195Z",
     "iopub.status.idle": "2025-05-10T05:26:15.506562Z",
     "shell.execute_reply": "2025-05-10T05:26:15.506005Z"
    },
    "papermill": {
     "duration": 0.28397,
     "end_time": "2025-05-10T05:26:15.507906",
     "exception": false,
     "start_time": "2025-05-10T05:26:15.223936",
     "status": "completed"
    },
    "tags": []
   },
   "outputs": [],
   "source": [
    "trainer = Trainer(\n",
    "    model=model,\n",
    "    args=training_args,\n",
    "    train_dataset=train_dataset,\n",
    "    eval_dataset=eval_dataset,\n",
    "    data_collator=collate_fn\n",
    ")"
   ]
  },
  {
   "cell_type": "code",
   "execution_count": 12,
   "id": "cd763a52",
   "metadata": {
    "execution": {
     "iopub.execute_input": "2025-05-10T05:26:15.514323Z",
     "iopub.status.busy": "2025-05-10T05:26:15.514110Z",
     "iopub.status.idle": "2025-05-10T05:26:15.517358Z",
     "shell.execute_reply": "2025-05-10T05:26:15.516858Z"
    },
    "papermill": {
     "duration": 0.00743,
     "end_time": "2025-05-10T05:26:15.518240",
     "exception": false,
     "start_time": "2025-05-10T05:26:15.510810",
     "status": "completed"
    },
    "tags": []
   },
   "outputs": [],
   "source": [
    "import warnings\n",
    "warnings.simplefilter(action='ignore', category=FutureWarning)"
   ]
  },
  {
   "cell_type": "code",
   "execution_count": 13,
   "id": "9b7037fd",
   "metadata": {
    "execution": {
     "iopub.execute_input": "2025-05-10T05:26:15.524148Z",
     "iopub.status.busy": "2025-05-10T05:26:15.523954Z",
     "iopub.status.idle": "2025-05-10T11:43:40.827594Z",
     "shell.execute_reply": "2025-05-10T11:43:40.826729Z"
    },
    "papermill": {
     "duration": 22645.308105,
     "end_time": "2025-05-10T11:43:40.828980",
     "exception": false,
     "start_time": "2025-05-10T05:26:15.520875",
     "status": "completed"
    },
    "tags": []
   },
   "outputs": [
    {
     "name": "stderr",
     "output_type": "stream",
     "text": [
      "There were missing keys in the checkpoint model loaded: ['model.encoder.embed_tokens.weight', 'model.decoder.embed_tokens.weight', 'lm_head.weight'].\n"
     ]
    },
    {
     "data": {
      "text/html": [
       "\n",
       "    <div>\n",
       "      \n",
       "      <progress value='88000' max='88000' style='width:300px; height:20px; vertical-align: middle;'></progress>\n",
       "      [88000/88000 5:40:08, Epoch 1/9223372036854775807]\n",
       "    </div>\n",
       "    <table border=\"1\" class=\"dataframe\">\n",
       "  <thead>\n",
       " <tr style=\"text-align: left;\">\n",
       "      <th>Step</th>\n",
       "      <th>Training Loss</th>\n",
       "      <th>Validation Loss</th>\n",
       "    </tr>\n",
       "  </thead>\n",
       "  <tbody>\n",
       "    <tr>\n",
       "      <td>80000</td>\n",
       "      <td>0.329800</td>\n",
       "      <td>0.322940</td>\n",
       "    </tr>\n",
       "  </tbody>\n",
       "</table><p>"
      ],
      "text/plain": [
       "<IPython.core.display.HTML object>"
      ]
     },
     "metadata": {},
     "output_type": "display_data"
    },
    {
     "name": "stderr",
     "output_type": "stream",
     "text": [
      "There were missing keys in the checkpoint model loaded: ['model.encoder.embed_tokens.weight', 'model.decoder.embed_tokens.weight', 'lm_head.weight'].\n"
     ]
    },
    {
     "data": {
      "text/plain": [
       "TrainOutput(global_step=88000, training_loss=0.048991452477195045, metrics={'train_runtime': 22639.1708, 'train_samples_per_second': 124.386, 'train_steps_per_second': 3.887, 'total_flos': 3.81848899289088e+17, 'train_loss': 0.048991452477195045, 'epoch': 1.0})"
      ]
     },
     "execution_count": 13,
     "metadata": {},
     "output_type": "execute_result"
    }
   ],
   "source": [
    "trainer.train(resume_from_checkpoint='/kaggle/input/nepbart-checkpoint-75000-steps/checkpoint-75000')"
   ]
  },
  {
   "cell_type": "code",
   "execution_count": 14,
   "id": "82d66b82",
   "metadata": {
    "execution": {
     "iopub.execute_input": "2025-05-10T11:43:40.836989Z",
     "iopub.status.busy": "2025-05-10T11:43:40.836350Z",
     "iopub.status.idle": "2025-05-10T12:44:27.201152Z",
     "shell.execute_reply": "2025-05-10T12:44:27.200148Z"
    },
    "papermill": {
     "duration": 3646.373128,
     "end_time": "2025-05-10T12:44:27.205519",
     "exception": false,
     "start_time": "2025-05-10T11:43:40.832391",
     "status": "completed"
    },
    "tags": []
   },
   "outputs": [
    {
     "name": "stdout",
     "output_type": "stream",
     "text": [
      "{'eval_loss': 0.3229397237300873, 'eval_runtime': 3646.356, 'eval_samples_per_second': 70.83, 'eval_steps_per_second': 2.214, 'epoch': 1.0}\n"
     ]
    }
   ],
   "source": [
    "print(trainer.evaluate(eval_dataset))"
   ]
  },
  {
   "cell_type": "code",
   "execution_count": 15,
   "id": "c372932b",
   "metadata": {
    "execution": {
     "iopub.execute_input": "2025-05-10T12:44:27.213059Z",
     "iopub.status.busy": "2025-05-10T12:44:27.212346Z",
     "iopub.status.idle": "2025-05-10T12:44:27.542912Z",
     "shell.execute_reply": "2025-05-10T12:44:27.542331Z"
    },
    "papermill": {
     "duration": 0.335569,
     "end_time": "2025-05-10T12:44:27.544236",
     "exception": false,
     "start_time": "2025-05-10T12:44:27.208667",
     "status": "completed"
    },
    "tags": []
   },
   "outputs": [],
   "source": [
    "trainer.save_model('/kaggle/tmp/final_model')"
   ]
  },
  {
   "cell_type": "code",
   "execution_count": 16,
   "id": "03598dc4",
   "metadata": {
    "execution": {
     "iopub.execute_input": "2025-05-10T12:44:27.551479Z",
     "iopub.status.busy": "2025-05-10T12:44:27.551286Z",
     "iopub.status.idle": "2025-05-10T12:45:52.800383Z",
     "shell.execute_reply": "2025-05-10T12:45:52.799810Z"
    },
    "papermill": {
     "duration": 85.254189,
     "end_time": "2025-05-10T12:45:52.801820",
     "exception": false,
     "start_time": "2025-05-10T12:44:27.547631",
     "status": "completed"
    },
    "tags": []
   },
   "outputs": [],
   "source": [
    "import tarfile\n",
    "with tarfile.open(\"/kaggle/working/model_checkpoints.tar.gz\", \"w:gz\") as tar:\n",
    "    tar.add(\"/kaggle/tmp\", arcname=\"model_checkpoints\")"
   ]
  }
 ],
 "metadata": {
  "kaggle": {
   "accelerator": "none",
   "dataSources": [
    {
     "datasetId": 7334713,
     "sourceId": 11686155,
     "sourceType": "datasetVersion"
    },
    {
     "datasetId": 7334750,
     "sourceId": 11686223,
     "sourceType": "datasetVersion"
    },
    {
     "datasetId": 7379462,
     "sourceId": 11754686,
     "sourceType": "datasetVersion"
    }
   ],
   "dockerImageVersionId": 31012,
   "isGpuEnabled": false,
   "isInternetEnabled": true,
   "language": "python",
   "sourceType": "notebook"
  },
  "kernelspec": {
   "display_name": "Python 3",
   "language": "python",
   "name": "python3"
  },
  "language_info": {
   "codemirror_mode": {
    "name": "ipython",
    "version": 3
   },
   "file_extension": ".py",
   "mimetype": "text/x-python",
   "name": "python",
   "nbconvert_exporter": "python",
   "pygments_lexer": "ipython3",
   "version": "3.11.11"
  },
  "papermill": {
   "default_parameters": {},
   "duration": 26427.05183,
   "end_time": "2025-05-10T12:45:56.176716",
   "environment_variables": {},
   "exception": null,
   "input_path": "__notebook__.ipynb",
   "output_path": "__notebook__.ipynb",
   "parameters": {},
   "start_time": "2025-05-10T05:25:29.124886",
   "version": "2.6.0"
  }
 },
 "nbformat": 4,
 "nbformat_minor": 5
}
