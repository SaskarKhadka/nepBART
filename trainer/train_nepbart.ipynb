{
 "cells": [
  {
   "cell_type": "code",
   "execution_count": 1,
   "id": "63a64adb",
   "metadata": {
    "_cell_guid": "b1076dfc-b9ad-4769-8c92-a6c4dae69d19",
    "_uuid": "8f2839f25d086af736a60e9eeb907d3b93b6e0e5",
    "execution": {
     "iopub.execute_input": "2025-05-05T13:01:11.585812Z",
     "iopub.status.busy": "2025-05-05T13:01:11.585488Z",
     "iopub.status.idle": "2025-05-05T13:01:39.623163Z",
     "shell.execute_reply": "2025-05-05T13:01:39.622216Z"
    },
    "papermill": {
     "duration": 28.043771,
     "end_time": "2025-05-05T13:01:39.624782",
     "exception": false,
     "start_time": "2025-05-05T13:01:11.581011",
     "status": "completed"
    },
    "tags": []
   },
   "outputs": [],
   "source": [
    "from transformers import BartTokenizerFast, BartForConditionalGeneration, BartConfig, TrainingArguments, Trainer\n",
    "import torch\n",
    "import transformers\n",
    "from datasets import load_dataset\n",
    "from torch.utils.data import DataLoader\n",
    "import pandas as pd"
   ]
  },
  {
   "cell_type": "code",
   "execution_count": 2,
   "id": "2850c7ed",
   "metadata": {
    "execution": {
     "iopub.execute_input": "2025-05-05T13:01:39.632313Z",
     "iopub.status.busy": "2025-05-05T13:01:39.631738Z",
     "iopub.status.idle": "2025-05-05T13:01:39.757199Z",
     "shell.execute_reply": "2025-05-05T13:01:39.756255Z"
    },
    "papermill": {
     "duration": 0.130627,
     "end_time": "2025-05-05T13:01:39.758940",
     "exception": false,
     "start_time": "2025-05-05T13:01:39.628313",
     "status": "completed"
    },
    "tags": []
   },
   "outputs": [
    {
     "name": "stderr",
     "output_type": "stream",
     "text": [
      "The tokenizer class you load from this checkpoint is not the same type as the class this function is called from. It may result in unexpected tokenization. \n",
      "The tokenizer class you load from this checkpoint is 'PreTrainedTokenizerFast'. \n",
      "The class this function is called from is 'BartTokenizerFast'.\n"
     ]
    }
   ],
   "source": [
    "tokenizer = BartTokenizerFast.from_pretrained(\"/kaggle/input/nepbart-tokenizer/nepbart_tokenizer\")"
   ]
  },
  {
   "cell_type": "markdown",
   "id": "045eded3",
   "metadata": {
    "papermill": {
     "duration": 0.002777,
     "end_time": "2025-05-05T13:01:39.765133",
     "exception": false,
     "start_time": "2025-05-05T13:01:39.762356",
     "status": "completed"
    },
    "tags": []
   },
   "source": [
    "Dataset Size: 2_248_625"
   ]
  },
  {
   "cell_type": "code",
   "execution_count": 3,
   "id": "b48e3e56",
   "metadata": {
    "execution": {
     "iopub.execute_input": "2025-05-05T13:01:39.771885Z",
     "iopub.status.busy": "2025-05-05T13:01:39.771592Z",
     "iopub.status.idle": "2025-05-05T13:01:39.775725Z",
     "shell.execute_reply": "2025-05-05T13:01:39.774897Z"
    },
    "papermill": {
     "duration": 0.009037,
     "end_time": "2025-05-05T13:01:39.777096",
     "exception": false,
     "start_time": "2025-05-05T13:01:39.768059",
     "status": "completed"
    },
    "tags": []
   },
   "outputs": [],
   "source": [
    "parameters = {\n",
    "    'VOCAB_SIZE': 32_768,\n",
    "    'SEQUENCE_LENGTH': 512,\n",
    "    'EMBEDDING_DIMENSION': 512,\n",
    "\n",
    "    'ENCODER_LAYERS': 6,\n",
    "    'ENCODER_ATTENTION_HEADS': 8,\n",
    "    'ENCODER_FFN_DIM': 2048,\n",
    "\n",
    "    'DECODER_LAYERS': 6,\n",
    "    'DECODER_ATTENTION_HEADS': 8,\n",
    "    'DECODER_FFN_DIM': 2048,\n",
    "\n",
    "    'DROPOUT': 0.1,\n",
    "\n",
    "    'TRAIN_BATCH_SIZE': 32,\n",
    "    'EVAL_BATCH_SIZE': 32,\n",
    "    'EPOCHS': 5,\n",
    "    'LEARNING_RATE': 1e-4,\n",
    "    'WARMUP_STEPS': 5_000,\n",
    "    'GRADIENT_ACCUMULATION_STEPS': 4,\n",
    "    'L2_REG': 0.01,\n",
    "    'MAX_STEPS': 12_000 # dataset_size / (BATCH*GRADIENT_ACCUMULATION_STEPS)\n",
    "}"
   ]
  },
  {
   "cell_type": "code",
   "execution_count": 4,
   "id": "1ecc1cc4",
   "metadata": {
    "execution": {
     "iopub.execute_input": "2025-05-05T13:01:39.783776Z",
     "iopub.status.busy": "2025-05-05T13:01:39.783507Z",
     "iopub.status.idle": "2025-05-05T13:01:39.786735Z",
     "shell.execute_reply": "2025-05-05T13:01:39.785931Z"
    },
    "papermill": {
     "duration": 0.007876,
     "end_time": "2025-05-05T13:01:39.787922",
     "exception": false,
     "start_time": "2025-05-05T13:01:39.780046",
     "status": "completed"
    },
    "tags": []
   },
   "outputs": [],
   "source": [
    "dataset_files = {\n",
    "    \"train\": \"/kaggle/input/nepbart-dataset-tokenized-masked-padded/nepbart_tokenized_masked_padded_train.parquet\",\n",
    "    \"eval\": \"/kaggle/input/nepbart-dataset-tokenized-masked-padded/nepbart_tokenized_masked_padded_test.parquet\"\n",
    "}"
   ]
  },
  {
   "cell_type": "code",
   "execution_count": 5,
   "id": "5654cc74",
   "metadata": {
    "execution": {
     "iopub.execute_input": "2025-05-05T13:01:39.794286Z",
     "iopub.status.busy": "2025-05-05T13:01:39.794036Z",
     "iopub.status.idle": "2025-05-05T13:01:40.229108Z",
     "shell.execute_reply": "2025-05-05T13:01:40.228080Z"
    },
    "papermill": {
     "duration": 0.440216,
     "end_time": "2025-05-05T13:01:40.231006",
     "exception": false,
     "start_time": "2025-05-05T13:01:39.790790",
     "status": "completed"
    },
    "tags": []
   },
   "outputs": [],
   "source": [
    "dataset = load_dataset(\"parquet\", data_files=dataset_files, streaming=True)\n",
    "train_dataset = dataset[\"train\"].repeat(None)\n",
    "eval_dataset = dataset[\"eval\"]"
   ]
  },
  {
   "cell_type": "code",
   "execution_count": 6,
   "id": "c3798b2f",
   "metadata": {
    "execution": {
     "iopub.execute_input": "2025-05-05T13:01:40.238768Z",
     "iopub.status.busy": "2025-05-05T13:01:40.238441Z",
     "iopub.status.idle": "2025-05-05T13:01:40.242502Z",
     "shell.execute_reply": "2025-05-05T13:01:40.241664Z"
    },
    "papermill": {
     "duration": 0.00951,
     "end_time": "2025-05-05T13:01:40.243994",
     "exception": false,
     "start_time": "2025-05-05T13:01:40.234484",
     "status": "completed"
    },
    "tags": []
   },
   "outputs": [],
   "source": [
    "def collate_fn(batch: torch.tensor):\n",
    "    return {key: torch.tensor([(d[key]) for d in batch]) for key in batch[0]}"
   ]
  },
  {
   "cell_type": "code",
   "execution_count": 7,
   "id": "13e76ed8",
   "metadata": {
    "execution": {
     "iopub.execute_input": "2025-05-05T13:01:40.251205Z",
     "iopub.status.busy": "2025-05-05T13:01:40.250962Z",
     "iopub.status.idle": "2025-05-05T13:01:41.974063Z",
     "shell.execute_reply": "2025-05-05T13:01:41.973299Z"
    },
    "papermill": {
     "duration": 1.728482,
     "end_time": "2025-05-05T13:01:41.975761",
     "exception": false,
     "start_time": "2025-05-05T13:01:40.247279",
     "status": "completed"
    },
    "tags": []
   },
   "outputs": [],
   "source": [
    "model = BartForConditionalGeneration(\n",
    "    BartConfig(\n",
    "        vocab_size=parameters['VOCAB_SIZE'],\n",
    "        max_position_embeddings=parameters['SEQUENCE_LENGTH'],\n",
    "        encoder_layers=parameters['ENCODER_LAYERS'],\n",
    "        encoder_ffn_dim=parameters['ENCODER_FFN_DIM'],\n",
    "        encoder_attention_heads=parameters['ENCODER_ATTENTION_HEADS'],\n",
    "        decoder_layers=parameters['DECODER_LAYERS'],\n",
    "        decoder_ffn_dim=parameters['DECODER_FFN_DIM'],\n",
    "        decoder_attention_heads=parameters['DECODER_ATTENTION_HEADS'],\n",
    "        d_model=parameters['EMBEDDING_DIMENSION'],\n",
    "        dropout=parameters['DROPOUT'],\n",
    "        pad_token_id=tokenizer.pad_token_id,\n",
    "        bos_token_id=tokenizer.bos_token_id,\n",
    "        eos_token_id=tokenizer.eos_token_id,\n",
    "        is_encoder_decoder=True,\n",
    "        decoder_start_token_id=tokenizer.eos_token_id,\n",
    "    )\n",
    ")"
   ]
  },
  {
   "cell_type": "code",
   "execution_count": 8,
   "id": "3a749dbd",
   "metadata": {
    "execution": {
     "iopub.execute_input": "2025-05-05T13:01:41.983223Z",
     "iopub.status.busy": "2025-05-05T13:01:41.982941Z",
     "iopub.status.idle": "2025-05-05T13:01:41.987925Z",
     "shell.execute_reply": "2025-05-05T13:01:41.987188Z"
    },
    "papermill": {
     "duration": 0.009969,
     "end_time": "2025-05-05T13:01:41.989148",
     "exception": false,
     "start_time": "2025-05-05T13:01:41.979179",
     "status": "completed"
    },
    "tags": []
   },
   "outputs": [
    {
     "name": "stdout",
     "output_type": "stream",
     "text": [
      "61_444_096\n"
     ]
    }
   ],
   "source": [
    "print(f'{model.num_parameters():_}')"
   ]
  },
  {
   "cell_type": "code",
   "execution_count": 9,
   "id": "8581e0b0",
   "metadata": {
    "execution": {
     "iopub.execute_input": "2025-05-05T13:01:41.995781Z",
     "iopub.status.busy": "2025-05-05T13:01:41.995522Z",
     "iopub.status.idle": "2025-05-05T13:01:42.097607Z",
     "shell.execute_reply": "2025-05-05T13:01:42.096914Z"
    },
    "papermill": {
     "duration": 0.107054,
     "end_time": "2025-05-05T13:01:42.099168",
     "exception": false,
     "start_time": "2025-05-05T13:01:41.992114",
     "status": "completed"
    },
    "tags": []
   },
   "outputs": [],
   "source": [
    "training_args = TrainingArguments(\n",
    "    output_dir='/kaggle/tmp/',\n",
    "    overwrite_output_dir=True,\n",
    "    # eval_strategy='epoch',\n",
    "    eval_strategy='steps',\n",
    "    eval_steps=10_000,\n",
    "    per_device_train_batch_size=parameters['TRAIN_BATCH_SIZE'],\n",
    "    per_device_eval_batch_size=parameters['EVAL_BATCH_SIZE'],\n",
    "    learning_rate=parameters['LEARNING_RATE'],\n",
    "    max_steps=parameters['MAX_STEPS'],\n",
    "    warmup_steps=parameters['WARMUP_STEPS'],\n",
    "    weight_decay=parameters['L2_REG'],\n",
    "    logging_dir=\"/kaggle/tmp/\",\n",
    "    logging_strategy=\"steps\",\n",
    "    save_strategy=\"steps\",\n",
    "    save_steps=10_000,\n",
    "    save_total_limit=2,\n",
    "    fp16=True,\n",
    "    load_best_model_at_end=True,\n",
    "    metric_for_best_model=\"loss\",\n",
    "    greater_is_better=False,\n",
    "    report_to=\"none\",\n",
    ")"
   ]
  },
  {
   "cell_type": "code",
   "execution_count": 10,
   "id": "a13c479d",
   "metadata": {
    "execution": {
     "iopub.execute_input": "2025-05-05T13:01:42.106517Z",
     "iopub.status.busy": "2025-05-05T13:01:42.106238Z",
     "iopub.status.idle": "2025-05-05T13:01:42.387180Z",
     "shell.execute_reply": "2025-05-05T13:01:42.386230Z"
    },
    "papermill": {
     "duration": 0.286315,
     "end_time": "2025-05-05T13:01:42.388803",
     "exception": false,
     "start_time": "2025-05-05T13:01:42.102488",
     "status": "completed"
    },
    "tags": []
   },
   "outputs": [],
   "source": [
    "trainer = Trainer(\n",
    "    model=model,\n",
    "    args=training_args,\n",
    "    train_dataset=train_dataset,\n",
    "    eval_dataset=eval_dataset,\n",
    "    data_collator=collate_fn\n",
    ")"
   ]
  },
  {
   "cell_type": "code",
   "execution_count": 11,
   "id": "72f243bd",
   "metadata": {
    "execution": {
     "iopub.execute_input": "2025-05-05T13:01:42.396145Z",
     "iopub.status.busy": "2025-05-05T13:01:42.395887Z",
     "iopub.status.idle": "2025-05-05T18:22:31.159312Z",
     "shell.execute_reply": "2025-05-05T18:22:31.158539Z"
    },
    "papermill": {
     "duration": 19248.768545,
     "end_time": "2025-05-05T18:22:31.160722",
     "exception": false,
     "start_time": "2025-05-05T13:01:42.392177",
     "status": "completed"
    },
    "tags": []
   },
   "outputs": [
    {
     "data": {
      "text/html": [
       "\n",
       "    <div>\n",
       "      \n",
       "      <progress value='12000' max='12000' style='width:300px; height:20px; vertical-align: middle;'></progress>\n",
       "      [12000/12000 5:20:27, Epoch 1/9223372036854775807]\n",
       "    </div>\n",
       "    <table border=\"1\" class=\"dataframe\">\n",
       "  <thead>\n",
       " <tr style=\"text-align: left;\">\n",
       "      <th>Step</th>\n",
       "      <th>Training Loss</th>\n",
       "      <th>Validation Loss</th>\n",
       "    </tr>\n",
       "  </thead>\n",
       "  <tbody>\n",
       "    <tr>\n",
       "      <td>10000</td>\n",
       "      <td>0.470100</td>\n",
       "      <td>0.448746</td>\n",
       "    </tr>\n",
       "  </tbody>\n",
       "</table><p>"
      ],
      "text/plain": [
       "<IPython.core.display.HTML object>"
      ]
     },
     "metadata": {},
     "output_type": "display_data"
    },
    {
     "name": "stderr",
     "output_type": "stream",
     "text": [
      "There were missing keys in the checkpoint model loaded: ['model.encoder.embed_tokens.weight', 'model.decoder.embed_tokens.weight', 'lm_head.weight'].\n"
     ]
    },
    {
     "data": {
      "text/plain": [
       "TrainOutput(global_step=12000, training_loss=2.1275572967529297, metrics={'train_runtime': 19246.7626, 'train_samples_per_second': 19.951, 'train_steps_per_second': 0.623, 'total_flos': 5.2070304448512e+16, 'train_loss': 2.1275572967529297, 'epoch': 1.0})"
      ]
     },
     "execution_count": 11,
     "metadata": {},
     "output_type": "execute_result"
    }
   ],
   "source": [
    "trainer.train()"
   ]
  },
  {
   "cell_type": "code",
   "execution_count": 12,
   "id": "c66f430f",
   "metadata": {
    "execution": {
     "iopub.execute_input": "2025-05-05T18:22:31.168517Z",
     "iopub.status.busy": "2025-05-05T18:22:31.168286Z",
     "iopub.status.idle": "2025-05-05T19:23:43.344595Z",
     "shell.execute_reply": "2025-05-05T19:23:43.343709Z"
    },
    "papermill": {
     "duration": 3672.185631,
     "end_time": "2025-05-05T19:23:43.349890",
     "exception": false,
     "start_time": "2025-05-05T18:22:31.164259",
     "status": "completed"
    },
    "tags": []
   },
   "outputs": [
    {
     "name": "stdout",
     "output_type": "stream",
     "text": [
      "{'eval_loss': 0.4487462639808655, 'eval_runtime': 3672.1709, 'eval_samples_per_second': 70.333, 'eval_steps_per_second': 2.198, 'epoch': 1.0}\n"
     ]
    }
   ],
   "source": [
    "print(trainer.evaluate(eval_dataset))"
   ]
  },
  {
   "cell_type": "code",
   "execution_count": 13,
   "id": "5628df1d",
   "metadata": {
    "execution": {
     "iopub.execute_input": "2025-05-05T19:23:43.357332Z",
     "iopub.status.busy": "2025-05-05T19:23:43.357097Z",
     "iopub.status.idle": "2025-05-05T19:23:43.964412Z",
     "shell.execute_reply": "2025-05-05T19:23:43.963728Z"
    },
    "papermill": {
     "duration": 0.612701,
     "end_time": "2025-05-05T19:23:43.965961",
     "exception": false,
     "start_time": "2025-05-05T19:23:43.353260",
     "status": "completed"
    },
    "tags": []
   },
   "outputs": [],
   "source": [
    "trainer.save_model('/kaggle/tmp/final_model')"
   ]
  },
  {
   "cell_type": "code",
   "execution_count": 14,
   "id": "ceff2af7",
   "metadata": {
    "execution": {
     "iopub.execute_input": "2025-05-05T19:23:43.973647Z",
     "iopub.status.busy": "2025-05-05T19:23:43.973397Z",
     "iopub.status.idle": "2025-05-05T19:25:08.788125Z",
     "shell.execute_reply": "2025-05-05T19:25:08.787397Z"
    },
    "papermill": {
     "duration": 84.820197,
     "end_time": "2025-05-05T19:25:08.789737",
     "exception": false,
     "start_time": "2025-05-05T19:23:43.969540",
     "status": "completed"
    },
    "tags": []
   },
   "outputs": [],
   "source": [
    "import tarfile\n",
    "with tarfile.open(\"/kaggle/working/model_checkpoints.tar.gz\", \"w:gz\") as tar:\n",
    "    tar.add(\"/kaggle/tmp\", arcname=\"model_checkpoints\")"
   ]
  }
 ],
 "metadata": {
  "kaggle": {
   "accelerator": "none",
   "dataSources": [
    {
     "datasetId": 6980635,
     "sourceId": 11183228,
     "sourceType": "datasetVersion"
    },
    {
     "datasetId": 6980679,
     "sourceId": 11183288,
     "sourceType": "datasetVersion"
    }
   ],
   "dockerImageVersionId": 30919,
   "isGpuEnabled": false,
   "isInternetEnabled": true,
   "language": "python",
   "sourceType": "notebook"
  },
  "kernelspec": {
   "display_name": "Python 3",
   "language": "python",
   "name": "python3"
  },
  "language_info": {
   "codemirror_mode": {
    "name": "ipython",
    "version": 3
   },
   "file_extension": ".py",
   "mimetype": "text/x-python",
   "name": "python",
   "nbconvert_exporter": "python",
   "pygments_lexer": "ipython3",
   "version": "3.10.12"
  },
  "papermill": {
   "default_parameters": {},
   "duration": 23043.651956,
   "end_time": "2025-05-05T19:25:12.330020",
   "environment_variables": {},
   "exception": null,
   "input_path": "__notebook__.ipynb",
   "output_path": "__notebook__.ipynb",
   "parameters": {},
   "start_time": "2025-05-05T13:01:08.678064",
   "version": "2.6.0"
  }
 },
 "nbformat": 4,
 "nbformat_minor": 5
}
