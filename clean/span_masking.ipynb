{
 "cells": [
  {
   "cell_type": "code",
   "execution_count": 1,
   "id": "1380ee42",
   "metadata": {
    "_cell_guid": "b1076dfc-b9ad-4769-8c92-a6c4dae69d19",
    "_uuid": "8f2839f25d086af736a60e9eeb907d3b93b6e0e5",
    "execution": {
     "iopub.execute_input": "2025-03-25T10:06:03.175711Z",
     "iopub.status.busy": "2025-03-25T10:06:03.175240Z",
     "iopub.status.idle": "2025-03-25T10:06:10.424492Z",
     "shell.execute_reply": "2025-03-25T10:06:10.423191Z"
    },
    "papermill": {
     "duration": 7.25792,
     "end_time": "2025-03-25T10:06:10.426609",
     "exception": false,
     "start_time": "2025-03-25T10:06:03.168689",
     "status": "completed"
    },
    "tags": []
   },
   "outputs": [],
   "source": [
    "from transformers import BartTokenizerFast\n",
    "import polars as pl\n",
    "import torch\n",
    "import random"
   ]
  },
  {
   "cell_type": "code",
   "execution_count": 2,
   "id": "7ef37bd8",
   "metadata": {
    "execution": {
     "iopub.execute_input": "2025-03-25T10:06:10.437810Z",
     "iopub.status.busy": "2025-03-25T10:06:10.437161Z",
     "iopub.status.idle": "2025-03-25T10:06:22.797252Z",
     "shell.execute_reply": "2025-03-25T10:06:22.796043Z"
    },
    "papermill": {
     "duration": 12.368174,
     "end_time": "2025-03-25T10:06:22.799634",
     "exception": false,
     "start_time": "2025-03-25T10:06:10.431460",
     "status": "completed"
    },
    "tags": []
   },
   "outputs": [],
   "source": [
    "df_full = pl.read_parquet('/kaggle/input/nepbart-chunked-tokenized-dataset/nepbart_chunked_train.parquet')"
   ]
  },
  {
   "cell_type": "code",
   "execution_count": 3,
   "id": "fee76679",
   "metadata": {
    "execution": {
     "iopub.execute_input": "2025-03-25T10:06:22.810942Z",
     "iopub.status.busy": "2025-03-25T10:06:22.810504Z",
     "iopub.status.idle": "2025-03-25T10:06:22.820915Z",
     "shell.execute_reply": "2025-03-25T10:06:22.819436Z"
    },
    "papermill": {
     "duration": 0.018587,
     "end_time": "2025-03-25T10:06:22.823098",
     "exception": false,
     "start_time": "2025-03-25T10:06:22.804511",
     "status": "completed"
    },
    "tags": []
   },
   "outputs": [],
   "source": [
    "df = df_full[:1_000_000].clone()"
   ]
  },
  {
   "cell_type": "code",
   "execution_count": 4,
   "id": "5c1dcc0f",
   "metadata": {
    "execution": {
     "iopub.execute_input": "2025-03-25T10:06:22.833977Z",
     "iopub.status.busy": "2025-03-25T10:06:22.833530Z",
     "iopub.status.idle": "2025-03-25T10:06:22.903606Z",
     "shell.execute_reply": "2025-03-25T10:06:22.902364Z"
    },
    "papermill": {
     "duration": 0.077587,
     "end_time": "2025-03-25T10:06:22.905547",
     "exception": false,
     "start_time": "2025-03-25T10:06:22.827960",
     "status": "completed"
    },
    "tags": []
   },
   "outputs": [],
   "source": [
    "del df_full"
   ]
  },
  {
   "cell_type": "code",
   "execution_count": 5,
   "id": "da1ba81c",
   "metadata": {
    "execution": {
     "iopub.execute_input": "2025-03-25T10:06:22.916891Z",
     "iopub.status.busy": "2025-03-25T10:06:22.916452Z",
     "iopub.status.idle": "2025-03-25T10:06:23.114895Z",
     "shell.execute_reply": "2025-03-25T10:06:23.113509Z"
    },
    "papermill": {
     "duration": 0.206638,
     "end_time": "2025-03-25T10:06:23.117020",
     "exception": false,
     "start_time": "2025-03-25T10:06:22.910382",
     "status": "completed"
    },
    "tags": []
   },
   "outputs": [
    {
     "name": "stderr",
     "output_type": "stream",
     "text": [
      "The tokenizer class you load from this checkpoint is not the same type as the class this function is called from. It may result in unexpected tokenization. \n",
      "The tokenizer class you load from this checkpoint is 'PreTrainedTokenizerFast'. \n",
      "The class this function is called from is 'BartTokenizerFast'.\n"
     ]
    }
   ],
   "source": [
    "tokenizer = BartTokenizerFast.from_pretrained(\"/kaggle/input/nepbart-tokenizer/nepbart_tokenizer\")"
   ]
  },
  {
   "cell_type": "code",
   "execution_count": 6,
   "id": "027e7715",
   "metadata": {
    "execution": {
     "iopub.execute_input": "2025-03-25T10:06:23.130079Z",
     "iopub.status.busy": "2025-03-25T10:06:23.129607Z",
     "iopub.status.idle": "2025-03-25T10:06:23.135371Z",
     "shell.execute_reply": "2025-03-25T10:06:23.133698Z"
    },
    "papermill": {
     "duration": 0.015411,
     "end_time": "2025-03-25T10:06:23.137665",
     "exception": false,
     "start_time": "2025-03-25T10:06:23.122254",
     "status": "completed"
    },
    "tags": []
   },
   "outputs": [],
   "source": [
    "SEQUENCE_LENGTH = 512\n",
    "CHUNK_LENGTH = 510"
   ]
  },
  {
   "cell_type": "code",
   "execution_count": 7,
   "id": "f86e2f7a",
   "metadata": {
    "execution": {
     "iopub.execute_input": "2025-03-25T10:06:23.148708Z",
     "iopub.status.busy": "2025-03-25T10:06:23.148262Z",
     "iopub.status.idle": "2025-03-25T10:06:24.795510Z",
     "shell.execute_reply": "2025-03-25T10:06:24.794228Z"
    },
    "papermill": {
     "duration": 1.655086,
     "end_time": "2025-03-25T10:06:24.797562",
     "exception": false,
     "start_time": "2025-03-25T10:06:23.142476",
     "status": "completed"
    },
    "tags": []
   },
   "outputs": [
    {
     "data": {
      "text/plain": [
       "510"
      ]
     },
     "execution_count": 7,
     "metadata": {},
     "output_type": "execute_result"
    }
   ],
   "source": [
    "max(df.with_columns(pl.col('labels').map_elements(lambda x: len(x), return_dtype=int).alias('length'))['length'])"
   ]
  },
  {
   "cell_type": "code",
   "execution_count": 8,
   "id": "14a73d16",
   "metadata": {
    "execution": {
     "iopub.execute_input": "2025-03-25T10:06:24.810234Z",
     "iopub.status.busy": "2025-03-25T10:06:24.809763Z",
     "iopub.status.idle": "2025-03-25T10:06:24.818971Z",
     "shell.execute_reply": "2025-03-25T10:06:24.817669Z"
    },
    "papermill": {
     "duration": 0.017859,
     "end_time": "2025-03-25T10:06:24.821112",
     "exception": false,
     "start_time": "2025-03-25T10:06:24.803253",
     "status": "completed"
    },
    "tags": []
   },
   "outputs": [],
   "source": [
    "def token_infilling(\n",
    "    tokenized_sequence: torch.Tensor,\n",
    "    mask_token_id: int,\n",
    "    mask_probability: float = 0.15,\n",
    "    list_special_tokens: list = [],\n",
    ") -> pl.List(pl.UInt16):\n",
    "    # print(len(tokenized_sequence))\n",
    "    # print(tokenized_sequence)\n",
    "    # if len(tokenied_sequence) <= 10:\n",
    "    span_length = int(torch.poisson(torch.tensor([3.0])))\n",
    "    perturbed_ids = torch.empty(0, dtype=torch.long)\n",
    "    ## If span_length is found to be 0, make it 1, 2, or 3 randomly\n",
    "    if span_length == 0:\n",
    "        span_length = random.choice([1, 2, 3])\n",
    "    # print(span_length)\n",
    "    for i in range(0, len(tokenized_sequence), span_length):\n",
    "        mask_pl = torch.rand(1)\n",
    "        # print(mask_pl)\n",
    "        if mask_pl < mask_probability:\n",
    "            # check if the span does not contain special tokens\n",
    "            # print([token in list_special_tokens for token in tokenized_sequence[i : i + span_length]])\n",
    "            if not any([token in list_special_tokens for token in tokenized_sequence[i : i + span_length]]):\n",
    "                perturbed_ids = torch.cat(\n",
    "                    (perturbed_ids, torch.tensor([mask_token_id], dtype=torch.long))\n",
    "                )\n",
    "        else:\n",
    "            perturbed_ids = torch.cat(\n",
    "                (perturbed_ids, tokenized_sequence[i : i + span_length])\n",
    "            )\n",
    "\n",
    "    ## We ensure the input always has atleast 1 masked token\n",
    "    if mask_token_id not in perturbed_ids:\n",
    "        return token_infilling(\n",
    "            tokenized_sequence,\n",
    "            mask_token_id,\n",
    "            mask_probability,\n",
    "            list_special_tokens,\n",
    "        )\n",
    "                \n",
    "    # print(len(perturbed_ids))\n",
    "    return perturbed_ids.tolist()\n"
   ]
  },
  {
   "cell_type": "code",
   "execution_count": 9,
   "id": "520b353d",
   "metadata": {
    "execution": {
     "iopub.execute_input": "2025-03-25T10:06:24.832894Z",
     "iopub.status.busy": "2025-03-25T10:06:24.832464Z",
     "iopub.status.idle": "2025-03-25T10:06:24.848606Z",
     "shell.execute_reply": "2025-03-25T10:06:24.847037Z"
    },
    "papermill": {
     "duration": 0.024743,
     "end_time": "2025-03-25T10:06:24.850943",
     "exception": false,
     "start_time": "2025-03-25T10:06:24.826200",
     "status": "completed"
    },
    "tags": []
   },
   "outputs": [],
   "source": [
    "def validate(df, tokenizer, seq_len):\n",
    "    def add_padding(x: list[int]):\n",
    "        sequence = [tokenizer.bos_token_id] + x.to_list() + [tokenizer.eos_token_id]\n",
    "        final_sequence = sequence + [tokenizer.pad_token_id] * (seq_len - len(sequence))\n",
    "        return final_sequence\n",
    "    df = df.with_columns(pl.col('text').map_elements(lambda x: tokenizer(x, return_tensors='pt')['input_ids'][0].tolist(), return_dtype=list[int]).alias('labels'))\n",
    "    df = df.with_columns(pl.col('text').map_elements(lambda x: token_infilling(tokenizer(x, return_tensors='pt')['input_ids'][0], tokenizer.mask_token_id).tolist(), return_dtype=list[int]).alias('input_ids'))\n",
    "    df = df.with_columns(pl.col('labels').map_elements(lambda x: len(x), return_dtype=int).alias('labels_len'))\n",
    "    df = df.with_columns(pl.col('input_ids').map_elements(lambda x: [1] * (len(x)+2) + [0] * (seq_len - len(x) - 2), return_dtype=list[int]).alias('attention_mask'))\n",
    "    df = df.with_columns(pl.col('attention_mask').map_elements(lambda x: len(x), return_dtype=int).alias('attention_mask_len'))\n",
    "    assert len(set(df['attention_mask_len'].to_list())) == 1 and list(set(df['attention_mask_len'].to_list()))[0] == seq_len \n",
    "    df = df.with_columns(pl.col('labels').map_elements(lambda x: add_padding(x), return_dtype=list[int]).alias('labels'))\n",
    "    df = df.with_columns(pl.col('labels').map_elements(lambda x: len(x), return_dtype=int).alias('labels_len'))\n",
    "    assert len(set(df['labels_len'].to_list())) == 1 and list(set(df['labels_len'].to_list()))[0] == seq_len \n",
    "    df = df.with_columns(pl.col('input_ids').map_elements(lambda x: add_padding(x), return_dtype=list[int]).alias('input_ids'))\n",
    "    df = df.with_columns(pl.col('input_ids').map_elements(lambda x: len(x), return_dtype=int).alias('input_ids_len'))\n",
    "    assert len(set(df['input_ids_len'].to_list())) == 1 and list(set(df['input_ids_len'].to_list()))[0] == seq_len \n",
    "    df = df.with_columns(pl.col('input_ids').map_elements(lambda x: len([1 for i in x if i != 1]), return_dtype=int).alias('input_ids_pad_len'))\n",
    "    df = df.with_columns(pl.col('attention_mask').map_elements(lambda x: len([1 for i in x if i == 1]), return_dtype=int).alias('attn_mask_1_len'))\n",
    "    assert df['input_ids_pad_len'].to_list() == df['attn_mask_1_len'].to_list()\n",
    "    "
   ]
  },
  {
   "cell_type": "code",
   "execution_count": 10,
   "id": "cf3985d9",
   "metadata": {
    "execution": {
     "iopub.execute_input": "2025-03-25T10:06:24.862258Z",
     "iopub.status.busy": "2025-03-25T10:06:24.861806Z",
     "iopub.status.idle": "2025-03-25T10:06:24.866845Z",
     "shell.execute_reply": "2025-03-25T10:06:24.865530Z"
    },
    "papermill": {
     "duration": 0.012855,
     "end_time": "2025-03-25T10:06:24.868771",
     "exception": false,
     "start_time": "2025-03-25T10:06:24.855916",
     "status": "completed"
    },
    "tags": []
   },
   "outputs": [],
   "source": [
    "# validate(df[:10], tokenizer, SEQUENCE_LENGTH)"
   ]
  },
  {
   "cell_type": "code",
   "execution_count": 11,
   "id": "c5885fb7",
   "metadata": {
    "execution": {
     "iopub.execute_input": "2025-03-25T10:06:24.879811Z",
     "iopub.status.busy": "2025-03-25T10:06:24.879357Z",
     "iopub.status.idle": "2025-03-25T10:06:24.885855Z",
     "shell.execute_reply": "2025-03-25T10:06:24.884576Z"
    },
    "papermill": {
     "duration": 0.014537,
     "end_time": "2025-03-25T10:06:24.888030",
     "exception": false,
     "start_time": "2025-03-25T10:06:24.873493",
     "status": "completed"
    },
    "tags": []
   },
   "outputs": [],
   "source": [
    "def add_padding(x: list[int], tokenizer, seq_len):\n",
    "    sequence = [tokenizer.bos_token_id] + x  + [tokenizer.eos_token_id]\n",
    "\n",
    "    assert len(sequence) <= SEQUENCE_LENGTH\n",
    "\n",
    "    if len(sequence) == SEQUENCE_LENGTH:\n",
    "        return sequence\n",
    "    \n",
    "    final_sequence = sequence + [tokenizer.pad_token_id] * (seq_len - len(sequence))\n",
    "    # print(final_sequence)\n",
    "    return final_sequence"
   ]
  },
  {
   "cell_type": "code",
   "execution_count": 12,
   "id": "a856c060",
   "metadata": {
    "execution": {
     "iopub.execute_input": "2025-03-25T10:06:24.899021Z",
     "iopub.status.busy": "2025-03-25T10:06:24.898599Z",
     "iopub.status.idle": "2025-03-25T10:06:24.903771Z",
     "shell.execute_reply": "2025-03-25T10:06:24.902188Z"
    },
    "papermill": {
     "duration": 0.013181,
     "end_time": "2025-03-25T10:06:24.905977",
     "exception": false,
     "start_time": "2025-03-25T10:06:24.892796",
     "status": "completed"
    },
    "tags": []
   },
   "outputs": [],
   "source": [
    "# input_ids = []\n",
    "# # attention_mask = []\n",
    "\n",
    "# labels = df['labels'].to_list()\n",
    "\n",
    "# del df\n",
    "\n",
    "# for idx, label in enumerate(labels):\n",
    "\n",
    "#     if (idx + 1) % 100_000 == 0:\n",
    "#         print(idx+1, 'completed')\n",
    "#     # pass\n",
    "#     # labels.append(label)\n",
    "#     input_ids.append(token_infilling(torch.tensor(label), tokenizer.mask_token_id).tolist())\n",
    "#     # # attention_mask.append([1] * (len(input_id)+2) + [0] * (SEQUENCE_LENGTH - len(input_id) - 2))\n",
    "#     # # labels.append(add_padding(label, tokenizer, SEQUENCE_LENGTH))\n",
    "#     # input_ids.append(add_padding(input_id, tokenizer, SEQUENCE_LENGTH))"
   ]
  },
  {
   "cell_type": "code",
   "execution_count": 13,
   "id": "cd0524a8",
   "metadata": {
    "execution": {
     "iopub.execute_input": "2025-03-25T10:06:24.918321Z",
     "iopub.status.busy": "2025-03-25T10:06:24.917880Z",
     "iopub.status.idle": "2025-03-25T10:06:24.922762Z",
     "shell.execute_reply": "2025-03-25T10:06:24.921536Z"
    },
    "papermill": {
     "duration": 0.013622,
     "end_time": "2025-03-25T10:06:24.925019",
     "exception": false,
     "start_time": "2025-03-25T10:06:24.911397",
     "status": "completed"
    },
    "tags": []
   },
   "outputs": [],
   "source": [
    "# token_infilling(torch.tensor([3772, 131, 332, 231]), tokenizer.mask_token_id, mask_probability=0.15, list_special_tokens=tokenizer.all_special_ids)"
   ]
  },
  {
   "cell_type": "code",
   "execution_count": 14,
   "id": "3265ca73",
   "metadata": {
    "execution": {
     "iopub.execute_input": "2025-03-25T10:06:24.937206Z",
     "iopub.status.busy": "2025-03-25T10:06:24.936716Z",
     "iopub.status.idle": "2025-03-25T15:11:49.642190Z",
     "shell.execute_reply": "2025-03-25T15:11:49.640432Z"
    },
    "papermill": {
     "duration": 18324.715043,
     "end_time": "2025-03-25T15:11:49.645423",
     "exception": false,
     "start_time": "2025-03-25T10:06:24.930380",
     "status": "completed"
    },
    "tags": []
   },
   "outputs": [],
   "source": [
    "df = df.with_columns(pl.col('labels').map_elements(lambda x: token_infilling(torch.tensor(x), tokenizer.mask_token_id, mask_probability=0.15, list_special_tokens=tokenizer.all_special_ids), return_dtype=pl.List(pl.UInt16)).alias('input_ids'))"
   ]
  },
  {
   "cell_type": "code",
   "execution_count": 15,
   "id": "0e9dd994",
   "metadata": {
    "execution": {
     "iopub.execute_input": "2025-03-25T15:11:49.659080Z",
     "iopub.status.busy": "2025-03-25T15:11:49.658667Z",
     "iopub.status.idle": "2025-03-25T15:11:49.663675Z",
     "shell.execute_reply": "2025-03-25T15:11:49.662399Z"
    },
    "papermill": {
     "duration": 0.013572,
     "end_time": "2025-03-25T15:11:49.665617",
     "exception": false,
     "start_time": "2025-03-25T15:11:49.652045",
     "status": "completed"
    },
    "tags": []
   },
   "outputs": [],
   "source": [
    "# pl.DataFrame(data = {\n",
    "#     # 'labels': labels,\n",
    "#     'input_ids': input_ids,\n",
    "#     # 'attention_mask': attention_mask\n",
    "#     },\n",
    "#     schema={\n",
    "#         # 'labels': list[int],\n",
    "#         'input_ids': pl.List(pl.UInt16),\n",
    "#         # 'attention_mask': list[int]\n",
    "#     }).write_parquet('/kaggle/working/nepbart_tokenized_test.parquet')"
   ]
  },
  {
   "cell_type": "code",
   "execution_count": 16,
   "id": "8ab2cad5",
   "metadata": {
    "execution": {
     "iopub.execute_input": "2025-03-25T15:11:49.677893Z",
     "iopub.status.busy": "2025-03-25T15:11:49.677482Z",
     "iopub.status.idle": "2025-03-25T15:11:49.682090Z",
     "shell.execute_reply": "2025-03-25T15:11:49.680804Z"
    },
    "papermill": {
     "duration": 0.012816,
     "end_time": "2025-03-25T15:11:49.684035",
     "exception": false,
     "start_time": "2025-03-25T15:11:49.671219",
     "status": "completed"
    },
    "tags": []
   },
   "outputs": [],
   "source": [
    "# pl.read_parquet('/kaggle/working/nepbart_tokenized_train.parquet')"
   ]
  },
  {
   "cell_type": "code",
   "execution_count": 17,
   "id": "7ffd0239",
   "metadata": {
    "execution": {
     "iopub.execute_input": "2025-03-25T15:11:49.695419Z",
     "iopub.status.busy": "2025-03-25T15:11:49.694969Z",
     "iopub.status.idle": "2025-03-25T15:11:49.699672Z",
     "shell.execute_reply": "2025-03-25T15:11:49.698508Z"
    },
    "papermill": {
     "duration": 0.012473,
     "end_time": "2025-03-25T15:11:49.701512",
     "exception": false,
     "start_time": "2025-03-25T15:11:49.689039",
     "status": "completed"
    },
    "tags": []
   },
   "outputs": [],
   "source": [
    "# df"
   ]
  },
  {
   "cell_type": "code",
   "execution_count": 18,
   "id": "3483a24f",
   "metadata": {
    "execution": {
     "iopub.execute_input": "2025-03-25T15:11:49.713995Z",
     "iopub.status.busy": "2025-03-25T15:11:49.713559Z",
     "iopub.status.idle": "2025-03-25T15:11:49.718555Z",
     "shell.execute_reply": "2025-03-25T15:11:49.717030Z"
    },
    "papermill": {
     "duration": 0.013955,
     "end_time": "2025-03-25T15:11:49.720736",
     "exception": false,
     "start_time": "2025-03-25T15:11:49.706781",
     "status": "completed"
    },
    "tags": []
   },
   "outputs": [],
   "source": [
    "# df = df.with_columns(pl.col('text').map_elements(lambda x: tokenizer(x, return_tensors='pt')['input_ids'][0].tolist(), return_dtype=list[int]).alias('labels'))\n",
    "# df = df.with_columns(pl.col('text').map_elements(lambda x: token_infilling(tokenizer(x, return_tensors='pt')['input_ids'][0], tokenizer.mask_token_id).tolist(), return_dtype=list[int]).alias('input_ids'))"
   ]
  },
  {
   "cell_type": "code",
   "execution_count": 19,
   "id": "c2b93a64",
   "metadata": {
    "execution": {
     "iopub.execute_input": "2025-03-25T15:11:49.731592Z",
     "iopub.status.busy": "2025-03-25T15:11:49.731118Z",
     "iopub.status.idle": "2025-03-25T15:11:49.735890Z",
     "shell.execute_reply": "2025-03-25T15:11:49.734431Z"
    },
    "papermill": {
     "duration": 0.012638,
     "end_time": "2025-03-25T15:11:49.738189",
     "exception": false,
     "start_time": "2025-03-25T15:11:49.725551",
     "status": "completed"
    },
    "tags": []
   },
   "outputs": [],
   "source": [
    "# df = df.drop('text')\n",
    "# df = df.with_columns(pl.col('input_ids').map_elements(lambda x: [1] * (len(x)+2) + [0] * (SEQUENCE_LENGTH - len(x) - 2), return_dtype=list[int]).alias('attention_mask'))\n",
    "# df = df.with_columns(pl.col('labels').map_elements(lambda x: add_padding(x, tokenizer, SEQUENCE_LENGTH), return_dtype=list[int]).alias('labels'))\n",
    "# df = df.with_columns(pl.col('input_ids').map_elements(lambda x: add_padding(x, tokenizer, SEQUENCE_LENGTH), return_dtype=list[int]).alias('input_ids'))\n",
    "# df.write_parquet('/kaggle/working/nepbart_tokenized_train.parquet')\n",
    "# df"
   ]
  }
 ],
 "metadata": {
  "kaggle": {
   "accelerator": "none",
   "dataSources": [
    {
     "datasetId": 6939144,
     "sourceId": 11126749,
     "sourceType": "datasetVersion"
    },
    {
     "datasetId": 6940952,
     "sourceId": 11129313,
     "sourceType": "datasetVersion"
    },
    {
     "datasetId": 6958715,
     "sourceId": 11153282,
     "sourceType": "datasetVersion"
    }
   ],
   "dockerImageVersionId": 30918,
   "isGpuEnabled": false,
   "isInternetEnabled": true,
   "language": "python",
   "sourceType": "notebook"
  },
  "kernelspec": {
   "display_name": "Python 3",
   "language": "python",
   "name": "python3"
  },
  "language_info": {
   "codemirror_mode": {
    "name": "ipython",
    "version": 3
   },
   "file_extension": ".py",
   "mimetype": "text/x-python",
   "name": "python",
   "nbconvert_exporter": "python",
   "pygments_lexer": "ipython3",
   "version": "3.10.12"
  },
  "papermill": {
   "default_parameters": {},
   "duration": 18352.988888,
   "end_time": "2025-03-25T15:11:52.595551",
   "environment_variables": {},
   "exception": null,
   "input_path": "__notebook__.ipynb",
   "output_path": "__notebook__.ipynb",
   "parameters": {},
   "start_time": "2025-03-25T10:05:59.606663",
   "version": "2.6.0"
  }
 },
 "nbformat": 4,
 "nbformat_minor": 5
}
